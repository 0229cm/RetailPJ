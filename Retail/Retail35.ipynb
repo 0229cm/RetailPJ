{
 "cells": [
  {
   "cell_type": "code",
   "execution_count": 1,
   "metadata": {},
   "outputs": [],
   "source": [
    "import numpy as np\n",
    "import pandas as pd\n",
    "\n",
    "import matplotlib.pyplot as plt\n",
    "import seaborn as sns\n",
    "base_path = ''"
   ]
  },
  {
   "cell_type": "code",
   "execution_count": 2,
   "metadata": {},
   "outputs": [],
   "source": [
    "tr = pd.read_csv(base_path + 'tr31004.csv')\n",
    "\n",
    "df = pd.read_csv(base_path + 'datepayamt.csv')\n",
    "\n",
    "time = pd.read_csv(base_path + '1006timetest.csv')"
   ]
  },
  {
   "cell_type": "code",
   "execution_count": 3,
   "metadata": {},
   "outputs": [
    {
     "data": {
      "text/html": [
       "<div>\n",
       "<style scoped>\n",
       "    .dataframe tbody tr th:only-of-type {\n",
       "        vertical-align: middle;\n",
       "    }\n",
       "\n",
       "    .dataframe tbody tr th {\n",
       "        vertical-align: top;\n",
       "    }\n",
       "\n",
       "    .dataframe thead th {\n",
       "        text-align: right;\n",
       "    }\n",
       "</style>\n",
       "<table border=\"1\" class=\"dataframe\">\n",
       "  <thead>\n",
       "    <tr style=\"text-align: right;\">\n",
       "      <th></th>\n",
       "      <th>SAL_DT</th>\n",
       "      <th>SALE_KIND_TP_NM</th>\n",
       "      <th>SALE_RTN_SGN</th>\n",
       "      <th>REAL_SAL_TTM</th>\n",
       "      <th>PAY_AMT</th>\n",
       "    </tr>\n",
       "  </thead>\n",
       "  <tbody>\n",
       "    <tr>\n",
       "      <th>0</th>\n",
       "      <td>20210901</td>\n",
       "      <td>매출</td>\n",
       "      <td>1</td>\n",
       "      <td>71138</td>\n",
       "      <td>9000000.0</td>\n",
       "    </tr>\n",
       "    <tr>\n",
       "      <th>1</th>\n",
       "      <td>20210901</td>\n",
       "      <td>매출</td>\n",
       "      <td>1</td>\n",
       "      <td>91245</td>\n",
       "      <td>3650.0</td>\n",
       "    </tr>\n",
       "    <tr>\n",
       "      <th>2</th>\n",
       "      <td>20210901</td>\n",
       "      <td>매출</td>\n",
       "      <td>1</td>\n",
       "      <td>91549</td>\n",
       "      <td>1970.0</td>\n",
       "    </tr>\n",
       "    <tr>\n",
       "      <th>3</th>\n",
       "      <td>20210901</td>\n",
       "      <td>매출</td>\n",
       "      <td>1</td>\n",
       "      <td>91647</td>\n",
       "      <td>3980.0</td>\n",
       "    </tr>\n",
       "    <tr>\n",
       "      <th>4</th>\n",
       "      <td>20210901</td>\n",
       "      <td>매출</td>\n",
       "      <td>1</td>\n",
       "      <td>92226</td>\n",
       "      <td>12500.0</td>\n",
       "    </tr>\n",
       "    <tr>\n",
       "      <th>...</th>\n",
       "      <td>...</td>\n",
       "      <td>...</td>\n",
       "      <td>...</td>\n",
       "      <td>...</td>\n",
       "      <td>...</td>\n",
       "    </tr>\n",
       "    <tr>\n",
       "      <th>1479464</th>\n",
       "      <td>20220901</td>\n",
       "      <td>매출</td>\n",
       "      <td>1</td>\n",
       "      <td>142845</td>\n",
       "      <td>7400.0</td>\n",
       "    </tr>\n",
       "    <tr>\n",
       "      <th>1479465</th>\n",
       "      <td>20220901</td>\n",
       "      <td>매출</td>\n",
       "      <td>1</td>\n",
       "      <td>143105</td>\n",
       "      <td>9000.0</td>\n",
       "    </tr>\n",
       "    <tr>\n",
       "      <th>1479466</th>\n",
       "      <td>20220901</td>\n",
       "      <td>매출</td>\n",
       "      <td>1</td>\n",
       "      <td>143132</td>\n",
       "      <td>11000.0</td>\n",
       "    </tr>\n",
       "    <tr>\n",
       "      <th>1479467</th>\n",
       "      <td>20220901</td>\n",
       "      <td>매출</td>\n",
       "      <td>1</td>\n",
       "      <td>143433</td>\n",
       "      <td>500.0</td>\n",
       "    </tr>\n",
       "    <tr>\n",
       "      <th>1479468</th>\n",
       "      <td>20220901</td>\n",
       "      <td>매출</td>\n",
       "      <td>1</td>\n",
       "      <td>143610</td>\n",
       "      <td>1900.0</td>\n",
       "    </tr>\n",
       "  </tbody>\n",
       "</table>\n",
       "<p>1479469 rows × 5 columns</p>\n",
       "</div>"
      ],
      "text/plain": [
       "           SAL_DT SALE_KIND_TP_NM  SALE_RTN_SGN  REAL_SAL_TTM    PAY_AMT\n",
       "0        20210901              매출             1         71138  9000000.0\n",
       "1        20210901              매출             1         91245     3650.0\n",
       "2        20210901              매출             1         91549     1970.0\n",
       "3        20210901              매출             1         91647     3980.0\n",
       "4        20210901              매출             1         92226    12500.0\n",
       "...           ...             ...           ...           ...        ...\n",
       "1479464  20220901              매출             1        142845     7400.0\n",
       "1479465  20220901              매출             1        143105     9000.0\n",
       "1479466  20220901              매출             1        143132    11000.0\n",
       "1479467  20220901              매출             1        143433      500.0\n",
       "1479468  20220901              매출             1        143610     1900.0\n",
       "\n",
       "[1479469 rows x 5 columns]"
      ]
     },
     "execution_count": 3,
     "metadata": {},
     "output_type": "execute_result"
    }
   ],
   "source": [
    "tr"
   ]
  },
  {
   "cell_type": "code",
   "execution_count": 4,
   "metadata": {},
   "outputs": [
    {
     "data": {
      "text/plain": [
       "0          20210901\n",
       "1          20210901\n",
       "2          20210901\n",
       "3          20210901\n",
       "4          20210901\n",
       "             ...   \n",
       "1479464    20220901\n",
       "1479465    20220901\n",
       "1479466    20220901\n",
       "1479467    20220901\n",
       "1479468    20220901\n",
       "Name: SAL_DT, Length: 1479469, dtype: object"
      ]
     },
     "execution_count": 4,
     "metadata": {},
     "output_type": "execute_result"
    }
   ],
   "source": [
    "tr.SAL_DT = tr.SAL_DT.astype('str')\n",
    "tr.SAL_DT"
   ]
  },
  {
   "cell_type": "code",
   "execution_count": 5,
   "metadata": {},
   "outputs": [
    {
     "data": {
      "text/html": [
       "<div>\n",
       "<style scoped>\n",
       "    .dataframe tbody tr th:only-of-type {\n",
       "        vertical-align: middle;\n",
       "    }\n",
       "\n",
       "    .dataframe tbody tr th {\n",
       "        vertical-align: top;\n",
       "    }\n",
       "\n",
       "    .dataframe thead th {\n",
       "        text-align: right;\n",
       "    }\n",
       "</style>\n",
       "<table border=\"1\" class=\"dataframe\">\n",
       "  <thead>\n",
       "    <tr style=\"text-align: right;\">\n",
       "      <th></th>\n",
       "      <th>SAL_DT</th>\n",
       "      <th>SALE_KIND_TP_NM</th>\n",
       "      <th>SALE_RTN_SGN</th>\n",
       "      <th>REAL_SAL_TTM</th>\n",
       "      <th>PAY_AMT</th>\n",
       "    </tr>\n",
       "  </thead>\n",
       "  <tbody>\n",
       "    <tr>\n",
       "      <th>0</th>\n",
       "      <td>2021-09-01</td>\n",
       "      <td>매출</td>\n",
       "      <td>1</td>\n",
       "      <td>71138</td>\n",
       "      <td>9000000.0</td>\n",
       "    </tr>\n",
       "    <tr>\n",
       "      <th>1</th>\n",
       "      <td>2021-09-01</td>\n",
       "      <td>매출</td>\n",
       "      <td>1</td>\n",
       "      <td>91245</td>\n",
       "      <td>3650.0</td>\n",
       "    </tr>\n",
       "    <tr>\n",
       "      <th>2</th>\n",
       "      <td>2021-09-01</td>\n",
       "      <td>매출</td>\n",
       "      <td>1</td>\n",
       "      <td>91549</td>\n",
       "      <td>1970.0</td>\n",
       "    </tr>\n",
       "    <tr>\n",
       "      <th>3</th>\n",
       "      <td>2021-09-01</td>\n",
       "      <td>매출</td>\n",
       "      <td>1</td>\n",
       "      <td>91647</td>\n",
       "      <td>3980.0</td>\n",
       "    </tr>\n",
       "    <tr>\n",
       "      <th>4</th>\n",
       "      <td>2021-09-01</td>\n",
       "      <td>매출</td>\n",
       "      <td>1</td>\n",
       "      <td>92226</td>\n",
       "      <td>12500.0</td>\n",
       "    </tr>\n",
       "    <tr>\n",
       "      <th>...</th>\n",
       "      <td>...</td>\n",
       "      <td>...</td>\n",
       "      <td>...</td>\n",
       "      <td>...</td>\n",
       "      <td>...</td>\n",
       "    </tr>\n",
       "    <tr>\n",
       "      <th>1479464</th>\n",
       "      <td>2022-09-01</td>\n",
       "      <td>매출</td>\n",
       "      <td>1</td>\n",
       "      <td>142845</td>\n",
       "      <td>7400.0</td>\n",
       "    </tr>\n",
       "    <tr>\n",
       "      <th>1479465</th>\n",
       "      <td>2022-09-01</td>\n",
       "      <td>매출</td>\n",
       "      <td>1</td>\n",
       "      <td>143105</td>\n",
       "      <td>9000.0</td>\n",
       "    </tr>\n",
       "    <tr>\n",
       "      <th>1479466</th>\n",
       "      <td>2022-09-01</td>\n",
       "      <td>매출</td>\n",
       "      <td>1</td>\n",
       "      <td>143132</td>\n",
       "      <td>11000.0</td>\n",
       "    </tr>\n",
       "    <tr>\n",
       "      <th>1479467</th>\n",
       "      <td>2022-09-01</td>\n",
       "      <td>매출</td>\n",
       "      <td>1</td>\n",
       "      <td>143433</td>\n",
       "      <td>500.0</td>\n",
       "    </tr>\n",
       "    <tr>\n",
       "      <th>1479468</th>\n",
       "      <td>2022-09-01</td>\n",
       "      <td>매출</td>\n",
       "      <td>1</td>\n",
       "      <td>143610</td>\n",
       "      <td>1900.0</td>\n",
       "    </tr>\n",
       "  </tbody>\n",
       "</table>\n",
       "<p>1479469 rows × 5 columns</p>\n",
       "</div>"
      ],
      "text/plain": [
       "            SAL_DT SALE_KIND_TP_NM  SALE_RTN_SGN  REAL_SAL_TTM    PAY_AMT\n",
       "0       2021-09-01              매출             1         71138  9000000.0\n",
       "1       2021-09-01              매출             1         91245     3650.0\n",
       "2       2021-09-01              매출             1         91549     1970.0\n",
       "3       2021-09-01              매출             1         91647     3980.0\n",
       "4       2021-09-01              매출             1         92226    12500.0\n",
       "...            ...             ...           ...           ...        ...\n",
       "1479464 2022-09-01              매출             1        142845     7400.0\n",
       "1479465 2022-09-01              매출             1        143105     9000.0\n",
       "1479466 2022-09-01              매출             1        143132    11000.0\n",
       "1479467 2022-09-01              매출             1        143433      500.0\n",
       "1479468 2022-09-01              매출             1        143610     1900.0\n",
       "\n",
       "[1479469 rows x 5 columns]"
      ]
     },
     "execution_count": 5,
     "metadata": {},
     "output_type": "execute_result"
    }
   ],
   "source": [
    "tr.SAL_DT = pd.to_datetime(tr.SAL_DT)\n",
    "\n",
    "tr"
   ]
  },
  {
   "cell_type": "code",
   "execution_count": 6,
   "metadata": {},
   "outputs": [
    {
     "data": {
      "text/html": [
       "<div>\n",
       "<style scoped>\n",
       "    .dataframe tbody tr th:only-of-type {\n",
       "        vertical-align: middle;\n",
       "    }\n",
       "\n",
       "    .dataframe tbody tr th {\n",
       "        vertical-align: top;\n",
       "    }\n",
       "\n",
       "    .dataframe thead th {\n",
       "        text-align: right;\n",
       "    }\n",
       "</style>\n",
       "<table border=\"1\" class=\"dataframe\">\n",
       "  <thead>\n",
       "    <tr style=\"text-align: right;\">\n",
       "      <th></th>\n",
       "      <th>SAL_DT</th>\n",
       "      <th>REAL_SAL_TTM</th>\n",
       "    </tr>\n",
       "  </thead>\n",
       "  <tbody>\n",
       "    <tr>\n",
       "      <th>0</th>\n",
       "      <td>2021-09-01</td>\n",
       "      <td>71138</td>\n",
       "    </tr>\n",
       "    <tr>\n",
       "      <th>1</th>\n",
       "      <td>2021-09-01</td>\n",
       "      <td>91245</td>\n",
       "    </tr>\n",
       "    <tr>\n",
       "      <th>2</th>\n",
       "      <td>2021-09-01</td>\n",
       "      <td>91549</td>\n",
       "    </tr>\n",
       "    <tr>\n",
       "      <th>3</th>\n",
       "      <td>2021-09-01</td>\n",
       "      <td>91647</td>\n",
       "    </tr>\n",
       "    <tr>\n",
       "      <th>4</th>\n",
       "      <td>2021-09-01</td>\n",
       "      <td>92226</td>\n",
       "    </tr>\n",
       "    <tr>\n",
       "      <th>...</th>\n",
       "      <td>...</td>\n",
       "      <td>...</td>\n",
       "    </tr>\n",
       "    <tr>\n",
       "      <th>1479464</th>\n",
       "      <td>2022-09-01</td>\n",
       "      <td>142845</td>\n",
       "    </tr>\n",
       "    <tr>\n",
       "      <th>1479465</th>\n",
       "      <td>2022-09-01</td>\n",
       "      <td>143105</td>\n",
       "    </tr>\n",
       "    <tr>\n",
       "      <th>1479466</th>\n",
       "      <td>2022-09-01</td>\n",
       "      <td>143132</td>\n",
       "    </tr>\n",
       "    <tr>\n",
       "      <th>1479467</th>\n",
       "      <td>2022-09-01</td>\n",
       "      <td>143433</td>\n",
       "    </tr>\n",
       "    <tr>\n",
       "      <th>1479468</th>\n",
       "      <td>2022-09-01</td>\n",
       "      <td>143610</td>\n",
       "    </tr>\n",
       "  </tbody>\n",
       "</table>\n",
       "<p>1479469 rows × 2 columns</p>\n",
       "</div>"
      ],
      "text/plain": [
       "            SAL_DT  REAL_SAL_TTM\n",
       "0       2021-09-01         71138\n",
       "1       2021-09-01         91245\n",
       "2       2021-09-01         91549\n",
       "3       2021-09-01         91647\n",
       "4       2021-09-01         92226\n",
       "...            ...           ...\n",
       "1479464 2022-09-01        142845\n",
       "1479465 2022-09-01        143105\n",
       "1479466 2022-09-01        143132\n",
       "1479467 2022-09-01        143433\n",
       "1479468 2022-09-01        143610\n",
       "\n",
       "[1479469 rows x 2 columns]"
      ]
     },
     "execution_count": 6,
     "metadata": {},
     "output_type": "execute_result"
    }
   ],
   "source": [
    "tr1 = tr[['SAL_DT', 'REAL_SAL_TTM']]\n",
    "tr1"
   ]
  },
  {
   "cell_type": "code",
   "execution_count": 7,
   "metadata": {},
   "outputs": [
    {
     "name": "stdout",
     "output_type": "stream",
     "text": [
      "            SAL_DT  REAL_SAL_TTM               result    PAY_AMT\n",
      "0       2021-09-01         71138  2021-09-01 07:11:38  9000000.0\n",
      "1       2021-09-01         91245  2021-09-01 09:12:45     3650.0\n",
      "2       2021-09-01         91549  2021-09-01 09:15:49     1970.0\n",
      "3       2021-09-01         91647  2021-09-01 09:16:47     3980.0\n",
      "4       2021-09-01         92226  2021-09-01 09:22:26    12500.0\n",
      "...            ...           ...                  ...        ...\n",
      "1479464 2022-09-01        142845  2022-09-01 14:28:45     7400.0\n",
      "1479465 2022-09-01        143105  2022-09-01 14:31:05     9000.0\n",
      "1479466 2022-09-01        143132  2022-09-01 14:31:32    11000.0\n",
      "1479467 2022-09-01        143433  2022-09-01 14:34:33      500.0\n",
      "1479468 2022-09-01        143610  2022-09-01 14:36:10     1900.0\n",
      "\n",
      "[1479469 rows x 4 columns]\n"
     ]
    }
   ],
   "source": [
    "result7 = pd.concat([tr1, df],axis=1)\n",
    "print(result7)"
   ]
  },
  {
   "cell_type": "code",
   "execution_count": 8,
   "metadata": {},
   "outputs": [
    {
     "data": {
      "text/html": [
       "<div>\n",
       "<style scoped>\n",
       "    .dataframe tbody tr th:only-of-type {\n",
       "        vertical-align: middle;\n",
       "    }\n",
       "\n",
       "    .dataframe tbody tr th {\n",
       "        vertical-align: top;\n",
       "    }\n",
       "\n",
       "    .dataframe thead th {\n",
       "        text-align: right;\n",
       "    }\n",
       "</style>\n",
       "<table border=\"1\" class=\"dataframe\">\n",
       "  <thead>\n",
       "    <tr style=\"text-align: right;\">\n",
       "      <th></th>\n",
       "      <th>SAL_DT</th>\n",
       "      <th>REAL_SAL_TTM</th>\n",
       "      <th>result</th>\n",
       "      <th>PAY_AMT</th>\n",
       "    </tr>\n",
       "  </thead>\n",
       "  <tbody>\n",
       "    <tr>\n",
       "      <th>0</th>\n",
       "      <td>2021-09-01</td>\n",
       "      <td>71138</td>\n",
       "      <td>2021-09-01 07:11:38</td>\n",
       "      <td>9000000.0</td>\n",
       "    </tr>\n",
       "    <tr>\n",
       "      <th>1</th>\n",
       "      <td>2021-09-01</td>\n",
       "      <td>91245</td>\n",
       "      <td>2021-09-01 09:12:45</td>\n",
       "      <td>3650.0</td>\n",
       "    </tr>\n",
       "    <tr>\n",
       "      <th>2</th>\n",
       "      <td>2021-09-01</td>\n",
       "      <td>91549</td>\n",
       "      <td>2021-09-01 09:15:49</td>\n",
       "      <td>1970.0</td>\n",
       "    </tr>\n",
       "    <tr>\n",
       "      <th>3</th>\n",
       "      <td>2021-09-01</td>\n",
       "      <td>91647</td>\n",
       "      <td>2021-09-01 09:16:47</td>\n",
       "      <td>3980.0</td>\n",
       "    </tr>\n",
       "    <tr>\n",
       "      <th>4</th>\n",
       "      <td>2021-09-01</td>\n",
       "      <td>92226</td>\n",
       "      <td>2021-09-01 09:22:26</td>\n",
       "      <td>12500.0</td>\n",
       "    </tr>\n",
       "    <tr>\n",
       "      <th>...</th>\n",
       "      <td>...</td>\n",
       "      <td>...</td>\n",
       "      <td>...</td>\n",
       "      <td>...</td>\n",
       "    </tr>\n",
       "    <tr>\n",
       "      <th>1479464</th>\n",
       "      <td>2022-09-01</td>\n",
       "      <td>142845</td>\n",
       "      <td>2022-09-01 14:28:45</td>\n",
       "      <td>7400.0</td>\n",
       "    </tr>\n",
       "    <tr>\n",
       "      <th>1479465</th>\n",
       "      <td>2022-09-01</td>\n",
       "      <td>143105</td>\n",
       "      <td>2022-09-01 14:31:05</td>\n",
       "      <td>9000.0</td>\n",
       "    </tr>\n",
       "    <tr>\n",
       "      <th>1479466</th>\n",
       "      <td>2022-09-01</td>\n",
       "      <td>143132</td>\n",
       "      <td>2022-09-01 14:31:32</td>\n",
       "      <td>11000.0</td>\n",
       "    </tr>\n",
       "    <tr>\n",
       "      <th>1479467</th>\n",
       "      <td>2022-09-01</td>\n",
       "      <td>143433</td>\n",
       "      <td>2022-09-01 14:34:33</td>\n",
       "      <td>500.0</td>\n",
       "    </tr>\n",
       "    <tr>\n",
       "      <th>1479468</th>\n",
       "      <td>2022-09-01</td>\n",
       "      <td>143610</td>\n",
       "      <td>2022-09-01 14:36:10</td>\n",
       "      <td>1900.0</td>\n",
       "    </tr>\n",
       "  </tbody>\n",
       "</table>\n",
       "<p>1479469 rows × 4 columns</p>\n",
       "</div>"
      ],
      "text/plain": [
       "            SAL_DT  REAL_SAL_TTM               result    PAY_AMT\n",
       "0       2021-09-01         71138  2021-09-01 07:11:38  9000000.0\n",
       "1       2021-09-01         91245  2021-09-01 09:12:45     3650.0\n",
       "2       2021-09-01         91549  2021-09-01 09:15:49     1970.0\n",
       "3       2021-09-01         91647  2021-09-01 09:16:47     3980.0\n",
       "4       2021-09-01         92226  2021-09-01 09:22:26    12500.0\n",
       "...            ...           ...                  ...        ...\n",
       "1479464 2022-09-01        142845  2022-09-01 14:28:45     7400.0\n",
       "1479465 2022-09-01        143105  2022-09-01 14:31:05     9000.0\n",
       "1479466 2022-09-01        143132  2022-09-01 14:31:32    11000.0\n",
       "1479467 2022-09-01        143433  2022-09-01 14:34:33      500.0\n",
       "1479468 2022-09-01        143610  2022-09-01 14:36:10     1900.0\n",
       "\n",
       "[1479469 rows x 4 columns]"
      ]
     },
     "execution_count": 8,
     "metadata": {},
     "output_type": "execute_result"
    }
   ],
   "source": [
    "result7"
   ]
  },
  {
   "cell_type": "code",
   "execution_count": 43,
   "metadata": {},
   "outputs": [
    {
     "data": {
      "text/plain": [
       "0         2021-09-01\n",
       "1         2021-09-01\n",
       "2         2021-09-01\n",
       "3         2021-09-01\n",
       "4         2021-09-01\n",
       "             ...    \n",
       "1479464   2022-09-01\n",
       "1479465   2022-09-01\n",
       "1479466   2022-09-01\n",
       "1479467   2022-09-01\n",
       "1479468   2022-09-01\n",
       "Name: SAL_DT, Length: 1479469, dtype: datetime64[ns]"
      ]
     },
     "execution_count": 43,
     "metadata": {},
     "output_type": "execute_result"
    }
   ],
   "source": [
    "result8 = result7['SAL_DT']\n",
    "result8"
   ]
  },
  {
   "cell_type": "code",
   "execution_count": 44,
   "metadata": {},
   "outputs": [],
   "source": [
    "result8.to_csv('month1006.csv', index=False)"
   ]
  },
  {
   "cell_type": "code",
   "execution_count": 9,
   "metadata": {},
   "outputs": [
    {
     "name": "stdout",
     "output_type": "stream",
     "text": [
      "<class 'pandas.core.frame.DataFrame'>\n",
      "RangeIndex: 1479469 entries, 0 to 1479468\n",
      "Data columns (total 4 columns):\n",
      " #   Column        Non-Null Count    Dtype         \n",
      "---  ------        --------------    -----         \n",
      " 0   SAL_DT        1479469 non-null  datetime64[ns]\n",
      " 1   REAL_SAL_TTM  1479469 non-null  int64         \n",
      " 2   result        1479469 non-null  object        \n",
      " 3   PAY_AMT       1479469 non-null  float64       \n",
      "dtypes: datetime64[ns](1), float64(1), int64(1), object(1)\n",
      "memory usage: 45.1+ MB\n"
     ]
    }
   ],
   "source": [
    "result7.info()"
   ]
  },
  {
   "cell_type": "code",
   "execution_count": 10,
   "metadata": {},
   "outputs": [],
   "source": [
    "df1 = result7['REAL_SAL_TTM'].astype(str).str.zfill(6)"
   ]
  },
  {
   "cell_type": "code",
   "execution_count": 11,
   "metadata": {},
   "outputs": [
    {
     "name": "stdout",
     "output_type": "stream",
     "text": [
      "            SAL_DT REAL_SAL_TTM               result    PAY_AMT\n",
      "0       2021-09-01     07:11:38  2021-09-01 07:11:38  9000000.0\n",
      "1       2021-09-01     09:12:45  2021-09-01 09:12:45     3650.0\n",
      "2       2021-09-01     09:15:49  2021-09-01 09:15:49     1970.0\n",
      "3       2021-09-01     09:16:47  2021-09-01 09:16:47     3980.0\n",
      "4       2021-09-01     09:22:26  2021-09-01 09:22:26    12500.0\n",
      "...            ...          ...                  ...        ...\n",
      "1479464 2022-09-01     14:28:45  2022-09-01 14:28:45     7400.0\n",
      "1479465 2022-09-01     14:31:05  2022-09-01 14:31:05     9000.0\n",
      "1479466 2022-09-01     14:31:32  2022-09-01 14:31:32    11000.0\n",
      "1479467 2022-09-01     14:34:33  2022-09-01 14:34:33      500.0\n",
      "1479468 2022-09-01     14:36:10  2022-09-01 14:36:10     1900.0\n",
      "\n",
      "[1479469 rows x 4 columns]\n"
     ]
    }
   ],
   "source": [
    "result7['REAL_SAL_TTM'] = pd.to_datetime(df1, format='%H%M%S').dt.time\n",
    "\n",
    "print (result7)"
   ]
  },
  {
   "cell_type": "code",
   "execution_count": 12,
   "metadata": {},
   "outputs": [
    {
     "data": {
      "text/plain": [
       "SAL_DT          datetime64[ns]\n",
       "REAL_SAL_TTM            object\n",
       "result                  object\n",
       "PAY_AMT                float64\n",
       "dtype: object"
      ]
     },
     "execution_count": 12,
     "metadata": {},
     "output_type": "execute_result"
    }
   ],
   "source": [
    "result7.dtypes"
   ]
  },
  {
   "cell_type": "code",
   "execution_count": 13,
   "metadata": {},
   "outputs": [
    {
     "data": {
      "text/html": [
       "<div>\n",
       "<style scoped>\n",
       "    .dataframe tbody tr th:only-of-type {\n",
       "        vertical-align: middle;\n",
       "    }\n",
       "\n",
       "    .dataframe tbody tr th {\n",
       "        vertical-align: top;\n",
       "    }\n",
       "\n",
       "    .dataframe thead th {\n",
       "        text-align: right;\n",
       "    }\n",
       "</style>\n",
       "<table border=\"1\" class=\"dataframe\">\n",
       "  <thead>\n",
       "    <tr style=\"text-align: right;\">\n",
       "      <th></th>\n",
       "      <th>SAL_DT</th>\n",
       "      <th>REAL_SAL_TTM</th>\n",
       "      <th>result</th>\n",
       "      <th>PAY_AMT</th>\n",
       "    </tr>\n",
       "  </thead>\n",
       "  <tbody>\n",
       "    <tr>\n",
       "      <th>0</th>\n",
       "      <td>2021-09-01</td>\n",
       "      <td>07:11:38</td>\n",
       "      <td>2021-09-01 07:11:38</td>\n",
       "      <td>9000000.0</td>\n",
       "    </tr>\n",
       "    <tr>\n",
       "      <th>1</th>\n",
       "      <td>2021-09-01</td>\n",
       "      <td>09:12:45</td>\n",
       "      <td>2021-09-01 09:12:45</td>\n",
       "      <td>3650.0</td>\n",
       "    </tr>\n",
       "    <tr>\n",
       "      <th>2</th>\n",
       "      <td>2021-09-01</td>\n",
       "      <td>09:15:49</td>\n",
       "      <td>2021-09-01 09:15:49</td>\n",
       "      <td>1970.0</td>\n",
       "    </tr>\n",
       "    <tr>\n",
       "      <th>3</th>\n",
       "      <td>2021-09-01</td>\n",
       "      <td>09:16:47</td>\n",
       "      <td>2021-09-01 09:16:47</td>\n",
       "      <td>3980.0</td>\n",
       "    </tr>\n",
       "    <tr>\n",
       "      <th>4</th>\n",
       "      <td>2021-09-01</td>\n",
       "      <td>09:22:26</td>\n",
       "      <td>2021-09-01 09:22:26</td>\n",
       "      <td>12500.0</td>\n",
       "    </tr>\n",
       "    <tr>\n",
       "      <th>...</th>\n",
       "      <td>...</td>\n",
       "      <td>...</td>\n",
       "      <td>...</td>\n",
       "      <td>...</td>\n",
       "    </tr>\n",
       "    <tr>\n",
       "      <th>1479464</th>\n",
       "      <td>2022-09-01</td>\n",
       "      <td>14:28:45</td>\n",
       "      <td>2022-09-01 14:28:45</td>\n",
       "      <td>7400.0</td>\n",
       "    </tr>\n",
       "    <tr>\n",
       "      <th>1479465</th>\n",
       "      <td>2022-09-01</td>\n",
       "      <td>14:31:05</td>\n",
       "      <td>2022-09-01 14:31:05</td>\n",
       "      <td>9000.0</td>\n",
       "    </tr>\n",
       "    <tr>\n",
       "      <th>1479466</th>\n",
       "      <td>2022-09-01</td>\n",
       "      <td>14:31:32</td>\n",
       "      <td>2022-09-01 14:31:32</td>\n",
       "      <td>11000.0</td>\n",
       "    </tr>\n",
       "    <tr>\n",
       "      <th>1479467</th>\n",
       "      <td>2022-09-01</td>\n",
       "      <td>14:34:33</td>\n",
       "      <td>2022-09-01 14:34:33</td>\n",
       "      <td>500.0</td>\n",
       "    </tr>\n",
       "    <tr>\n",
       "      <th>1479468</th>\n",
       "      <td>2022-09-01</td>\n",
       "      <td>14:36:10</td>\n",
       "      <td>2022-09-01 14:36:10</td>\n",
       "      <td>1900.0</td>\n",
       "    </tr>\n",
       "  </tbody>\n",
       "</table>\n",
       "<p>1479469 rows × 4 columns</p>\n",
       "</div>"
      ],
      "text/plain": [
       "            SAL_DT REAL_SAL_TTM               result    PAY_AMT\n",
       "0       2021-09-01     07:11:38  2021-09-01 07:11:38  9000000.0\n",
       "1       2021-09-01     09:12:45  2021-09-01 09:12:45     3650.0\n",
       "2       2021-09-01     09:15:49  2021-09-01 09:15:49     1970.0\n",
       "3       2021-09-01     09:16:47  2021-09-01 09:16:47     3980.0\n",
       "4       2021-09-01     09:22:26  2021-09-01 09:22:26    12500.0\n",
       "...            ...          ...                  ...        ...\n",
       "1479464 2022-09-01     14:28:45  2022-09-01 14:28:45     7400.0\n",
       "1479465 2022-09-01     14:31:05  2022-09-01 14:31:05     9000.0\n",
       "1479466 2022-09-01     14:31:32  2022-09-01 14:31:32    11000.0\n",
       "1479467 2022-09-01     14:34:33  2022-09-01 14:34:33      500.0\n",
       "1479468 2022-09-01     14:36:10  2022-09-01 14:36:10     1900.0\n",
       "\n",
       "[1479469 rows x 4 columns]"
      ]
     },
     "execution_count": 13,
     "metadata": {},
     "output_type": "execute_result"
    }
   ],
   "source": [
    "result7"
   ]
  },
  {
   "cell_type": "code",
   "execution_count": 14,
   "metadata": {
    "scrolled": true
   },
   "outputs": [
    {
     "name": "stdout",
     "output_type": "stream",
     "text": [
      "<class 'pandas.core.frame.DataFrame'>\n",
      "RangeIndex: 1479469 entries, 0 to 1479468\n",
      "Data columns (total 4 columns):\n",
      " #   Column        Non-Null Count    Dtype         \n",
      "---  ------        --------------    -----         \n",
      " 0   SAL_DT        1479469 non-null  datetime64[ns]\n",
      " 1   REAL_SAL_TTM  1479469 non-null  object        \n",
      " 2   result        1479469 non-null  object        \n",
      " 3   PAY_AMT       1479469 non-null  float64       \n",
      "dtypes: datetime64[ns](1), float64(1), object(2)\n",
      "memory usage: 45.1+ MB\n"
     ]
    }
   ],
   "source": [
    "result7.info()"
   ]
  },
  {
   "cell_type": "code",
   "execution_count": 15,
   "metadata": {},
   "outputs": [],
   "source": [
    "#result9.to_csv('1006timetest.csv', index=False)"
   ]
  },
  {
   "cell_type": "code",
   "execution_count": 16,
   "metadata": {},
   "outputs": [
    {
     "data": {
      "text/html": [
       "<div>\n",
       "<style scoped>\n",
       "    .dataframe tbody tr th:only-of-type {\n",
       "        vertical-align: middle;\n",
       "    }\n",
       "\n",
       "    .dataframe tbody tr th {\n",
       "        vertical-align: top;\n",
       "    }\n",
       "\n",
       "    .dataframe thead th {\n",
       "        text-align: right;\n",
       "    }\n",
       "</style>\n",
       "<table border=\"1\" class=\"dataframe\">\n",
       "  <thead>\n",
       "    <tr style=\"text-align: right;\">\n",
       "      <th></th>\n",
       "      <th>REAL_SAL_TTM</th>\n",
       "    </tr>\n",
       "  </thead>\n",
       "  <tbody>\n",
       "    <tr>\n",
       "      <th>0</th>\n",
       "      <td>07:11:38</td>\n",
       "    </tr>\n",
       "    <tr>\n",
       "      <th>1</th>\n",
       "      <td>09:12:45</td>\n",
       "    </tr>\n",
       "    <tr>\n",
       "      <th>2</th>\n",
       "      <td>09:15:49</td>\n",
       "    </tr>\n",
       "    <tr>\n",
       "      <th>3</th>\n",
       "      <td>09:16:47</td>\n",
       "    </tr>\n",
       "    <tr>\n",
       "      <th>4</th>\n",
       "      <td>09:22:26</td>\n",
       "    </tr>\n",
       "    <tr>\n",
       "      <th>...</th>\n",
       "      <td>...</td>\n",
       "    </tr>\n",
       "    <tr>\n",
       "      <th>1479464</th>\n",
       "      <td>14:28:45</td>\n",
       "    </tr>\n",
       "    <tr>\n",
       "      <th>1479465</th>\n",
       "      <td>14:31:05</td>\n",
       "    </tr>\n",
       "    <tr>\n",
       "      <th>1479466</th>\n",
       "      <td>14:31:32</td>\n",
       "    </tr>\n",
       "    <tr>\n",
       "      <th>1479467</th>\n",
       "      <td>14:34:33</td>\n",
       "    </tr>\n",
       "    <tr>\n",
       "      <th>1479468</th>\n",
       "      <td>14:36:10</td>\n",
       "    </tr>\n",
       "  </tbody>\n",
       "</table>\n",
       "<p>1479469 rows × 1 columns</p>\n",
       "</div>"
      ],
      "text/plain": [
       "        REAL_SAL_TTM\n",
       "0           07:11:38\n",
       "1           09:12:45\n",
       "2           09:15:49\n",
       "3           09:16:47\n",
       "4           09:22:26\n",
       "...              ...\n",
       "1479464     14:28:45\n",
       "1479465     14:31:05\n",
       "1479466     14:31:32\n",
       "1479467     14:34:33\n",
       "1479468     14:36:10\n",
       "\n",
       "[1479469 rows x 1 columns]"
      ]
     },
     "execution_count": 16,
     "metadata": {},
     "output_type": "execute_result"
    }
   ],
   "source": [
    "time"
   ]
  },
  {
   "cell_type": "code",
   "execution_count": 17,
   "metadata": {
    "scrolled": true
   },
   "outputs": [
    {
     "name": "stdout",
     "output_type": "stream",
     "text": [
      "<class 'pandas.core.frame.DataFrame'>\n",
      "RangeIndex: 1479469 entries, 0 to 1479468\n",
      "Data columns (total 1 columns):\n",
      " #   Column        Non-Null Count    Dtype \n",
      "---  ------        --------------    ----- \n",
      " 0   REAL_SAL_TTM  1479469 non-null  object\n",
      "dtypes: object(1)\n",
      "memory usage: 11.3+ MB\n"
     ]
    }
   ],
   "source": [
    "time.info()"
   ]
  },
  {
   "cell_type": "code",
   "execution_count": 18,
   "metadata": {},
   "outputs": [],
   "source": [
    "time['REAL_SAL_TTM'] = pd.to_datetime(time['REAL_SAL_TTM'], errors='raise')"
   ]
  },
  {
   "cell_type": "code",
   "execution_count": 19,
   "metadata": {},
   "outputs": [
    {
     "data": {
      "text/html": [
       "<div>\n",
       "<style scoped>\n",
       "    .dataframe tbody tr th:only-of-type {\n",
       "        vertical-align: middle;\n",
       "    }\n",
       "\n",
       "    .dataframe tbody tr th {\n",
       "        vertical-align: top;\n",
       "    }\n",
       "\n",
       "    .dataframe thead th {\n",
       "        text-align: right;\n",
       "    }\n",
       "</style>\n",
       "<table border=\"1\" class=\"dataframe\">\n",
       "  <thead>\n",
       "    <tr style=\"text-align: right;\">\n",
       "      <th></th>\n",
       "      <th>REAL_SAL_TTM</th>\n",
       "    </tr>\n",
       "  </thead>\n",
       "  <tbody>\n",
       "    <tr>\n",
       "      <th>0</th>\n",
       "      <td>2022-10-06 07:11:38</td>\n",
       "    </tr>\n",
       "    <tr>\n",
       "      <th>1</th>\n",
       "      <td>2022-10-06 09:12:45</td>\n",
       "    </tr>\n",
       "    <tr>\n",
       "      <th>2</th>\n",
       "      <td>2022-10-06 09:15:49</td>\n",
       "    </tr>\n",
       "    <tr>\n",
       "      <th>3</th>\n",
       "      <td>2022-10-06 09:16:47</td>\n",
       "    </tr>\n",
       "    <tr>\n",
       "      <th>4</th>\n",
       "      <td>2022-10-06 09:22:26</td>\n",
       "    </tr>\n",
       "    <tr>\n",
       "      <th>...</th>\n",
       "      <td>...</td>\n",
       "    </tr>\n",
       "    <tr>\n",
       "      <th>1479464</th>\n",
       "      <td>2022-10-06 14:28:45</td>\n",
       "    </tr>\n",
       "    <tr>\n",
       "      <th>1479465</th>\n",
       "      <td>2022-10-06 14:31:05</td>\n",
       "    </tr>\n",
       "    <tr>\n",
       "      <th>1479466</th>\n",
       "      <td>2022-10-06 14:31:32</td>\n",
       "    </tr>\n",
       "    <tr>\n",
       "      <th>1479467</th>\n",
       "      <td>2022-10-06 14:34:33</td>\n",
       "    </tr>\n",
       "    <tr>\n",
       "      <th>1479468</th>\n",
       "      <td>2022-10-06 14:36:10</td>\n",
       "    </tr>\n",
       "  </tbody>\n",
       "</table>\n",
       "<p>1479469 rows × 1 columns</p>\n",
       "</div>"
      ],
      "text/plain": [
       "               REAL_SAL_TTM\n",
       "0       2022-10-06 07:11:38\n",
       "1       2022-10-06 09:12:45\n",
       "2       2022-10-06 09:15:49\n",
       "3       2022-10-06 09:16:47\n",
       "4       2022-10-06 09:22:26\n",
       "...                     ...\n",
       "1479464 2022-10-06 14:28:45\n",
       "1479465 2022-10-06 14:31:05\n",
       "1479466 2022-10-06 14:31:32\n",
       "1479467 2022-10-06 14:34:33\n",
       "1479468 2022-10-06 14:36:10\n",
       "\n",
       "[1479469 rows x 1 columns]"
      ]
     },
     "execution_count": 19,
     "metadata": {},
     "output_type": "execute_result"
    }
   ],
   "source": [
    "time"
   ]
  },
  {
   "cell_type": "code",
   "execution_count": 22,
   "metadata": {},
   "outputs": [],
   "source": [
    "import datetime"
   ]
  },
  {
   "cell_type": "code",
   "execution_count": 26,
   "metadata": {},
   "outputs": [
    {
     "data": {
      "text/plain": [
       "0           71138\n",
       "1           91245\n",
       "2           91549\n",
       "3           91647\n",
       "4           92226\n",
       "            ...  \n",
       "1479464    142845\n",
       "1479465    143105\n",
       "1479466    143132\n",
       "1479467    143433\n",
       "1479468    143610\n",
       "Name: REAL_SAL_TTM, Length: 1479469, dtype: object"
      ]
     },
     "execution_count": 26,
     "metadata": {},
     "output_type": "execute_result"
    }
   ],
   "source": [
    "tr.REAL_SAL_TTM = tr.REAL_SAL_TTM.astype('str')\n",
    "tr.REAL_SAL_TTM"
   ]
  },
  {
   "cell_type": "code",
   "execution_count": 31,
   "metadata": {},
   "outputs": [
    {
     "ename": "TypeError",
     "evalue": "strptime() argument 1 must be str, not Series",
     "output_type": "error",
     "traceback": [
      "\u001b[1;31m---------------------------------------------------------------------------\u001b[0m",
      "\u001b[1;31mTypeError\u001b[0m                                 Traceback (most recent call last)",
      "\u001b[1;32m<ipython-input-31-f396ff83628b>\u001b[0m in \u001b[0;36m<module>\u001b[1;34m\u001b[0m\n\u001b[0;32m      1\u001b[0m \u001b[0mdate_time_str\u001b[0m \u001b[1;33m=\u001b[0m \u001b[0mtr\u001b[0m\u001b[1;33m[\u001b[0m\u001b[1;34m'REAL_SAL_TTM'\u001b[0m\u001b[1;33m]\u001b[0m\u001b[1;33m\u001b[0m\u001b[1;33m\u001b[0m\u001b[0m\n\u001b[1;32m----> 2\u001b[1;33m \u001b[0mdate_time_obj\u001b[0m \u001b[1;33m=\u001b[0m \u001b[0mdatetime\u001b[0m\u001b[1;33m.\u001b[0m\u001b[0mdatetime\u001b[0m\u001b[1;33m.\u001b[0m\u001b[0mstrptime\u001b[0m\u001b[1;33m(\u001b[0m\u001b[0mdate_time_str\u001b[0m\u001b[1;33m,\u001b[0m \u001b[1;34m'%H:%M:%S'\u001b[0m\u001b[1;33m)\u001b[0m\u001b[1;33m\u001b[0m\u001b[1;33m\u001b[0m\u001b[0m\n\u001b[0m\u001b[0;32m      3\u001b[0m \u001b[0mdate_time_obj\u001b[0m\u001b[1;33m\u001b[0m\u001b[1;33m\u001b[0m\u001b[0m\n",
      "\u001b[1;31mTypeError\u001b[0m: strptime() argument 1 must be str, not Series"
     ]
    }
   ],
   "source": [
    "date_time_str = tr['REAL_SAL_TTM']\n",
    "date_time_obj = datetime.datetime.strptime(date_time_str, '%H:%M:%S')\n",
    "date_time_obj"
   ]
  },
  {
   "cell_type": "code",
   "execution_count": 33,
   "metadata": {},
   "outputs": [
    {
     "data": {
      "text/plain": [
       "0          071138\n",
       "1          091245\n",
       "2          091549\n",
       "3          091647\n",
       "4          092226\n",
       "            ...  \n",
       "1479464    142845\n",
       "1479465    143105\n",
       "1479466    143132\n",
       "1479467    143433\n",
       "1479468    143610\n",
       "Name: REAL_SAL_TTM, Length: 1479469, dtype: object"
      ]
     },
     "execution_count": 33,
     "metadata": {},
     "output_type": "execute_result"
    }
   ],
   "source": [
    "tr['REAL_SAL_TTM'].astype(str).str.zfill(6)"
   ]
  },
  {
   "cell_type": "code",
   "execution_count": 42,
   "metadata": {},
   "outputs": [
    {
     "ename": "NameError",
     "evalue": "name 'start_date' is not defined",
     "output_type": "error",
     "traceback": [
      "\u001b[1;31m---------------------------------------------------------------------------\u001b[0m",
      "\u001b[1;31mNameError\u001b[0m                                 Traceback (most recent call last)",
      "\u001b[1;32m<ipython-input-42-5443d89d568d>\u001b[0m in \u001b[0;36m<module>\u001b[1;34m\u001b[0m\n\u001b[1;32m----> 1\u001b[1;33m \u001b[0mstart_dt\u001b[0m \u001b[1;33m=\u001b[0m \u001b[0mdatetime\u001b[0m\u001b[1;33m.\u001b[0m\u001b[0mstrptime\u001b[0m\u001b[1;33m(\u001b[0m\u001b[0mstart_date\u001b[0m\u001b[1;33m,\u001b[0m \u001b[1;34m\"%d-%m-%Y %H:%M:%S\"\u001b[0m\u001b[1;33m)\u001b[0m \u001b[1;31m# convert into datetime fromat\u001b[0m\u001b[1;33m\u001b[0m\u001b[1;33m\u001b[0m\u001b[0m\n\u001b[0m\u001b[0;32m      2\u001b[0m \u001b[0mvalue\u001b[0m\u001b[1;33m[\u001b[0m\u001b[1;34m'start_time'\u001b[0m\u001b[1;33m]\u001b[0m \u001b[1;33m=\u001b[0m \u001b[0mdatetime\u001b[0m\u001b[1;33m.\u001b[0m\u001b[0mstrftime\u001b[0m\u001b[1;33m(\u001b[0m\u001b[0mstart_dt\u001b[0m\u001b[1;33m,\u001b[0m \u001b[1;34m\"%H:%M:%S\"\u001b[0m\u001b[1;33m)\u001b[0m \u001b[1;31m# convert into string format and extract time only\u001b[0m\u001b[1;33m\u001b[0m\u001b[1;33m\u001b[0m\u001b[0m\n",
      "\u001b[1;31mNameError\u001b[0m: name 'start_date' is not defined"
     ]
    }
   ],
   "source": [
    "start_dt = datetime.strptime(start_date, \"%d-%m-%Y %H:%M:%S\") # convert into datetime fromat\n",
    "value['start_time'] = datetime.strftime(start_dt, \"%H:%M:%S\") # convert into string format and extract time only"
   ]
  },
  {
   "cell_type": "code",
   "execution_count": null,
   "metadata": {},
   "outputs": [],
   "source": []
  },
  {
   "cell_type": "code",
   "execution_count": null,
   "metadata": {},
   "outputs": [],
   "source": []
  },
  {
   "cell_type": "code",
   "execution_count": null,
   "metadata": {},
   "outputs": [],
   "source": []
  },
  {
   "cell_type": "code",
   "execution_count": null,
   "metadata": {},
   "outputs": [],
   "source": []
  },
  {
   "cell_type": "code",
   "execution_count": null,
   "metadata": {},
   "outputs": [],
   "source": []
  }
 ],
 "metadata": {
  "kernelspec": {
   "display_name": "Python 3",
   "language": "python",
   "name": "python3"
  },
  "language_info": {
   "codemirror_mode": {
    "name": "ipython",
    "version": 3
   },
   "file_extension": ".py",
   "mimetype": "text/x-python",
   "name": "python",
   "nbconvert_exporter": "python",
   "pygments_lexer": "ipython3",
   "version": "3.8.5"
  }
 },
 "nbformat": 4,
 "nbformat_minor": 4
}
