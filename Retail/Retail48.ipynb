{
 "cells": [
  {
   "cell_type": "code",
   "execution_count": 1,
   "metadata": {},
   "outputs": [],
   "source": [
    "import numpy as np\n",
    "import pandas as pd\n",
    "\n",
    "import matplotlib.pyplot as plt\n",
    "import seaborn as sns\n",
    "base_path = ''"
   ]
  },
  {
   "cell_type": "code",
   "execution_count": 2,
   "metadata": {},
   "outputs": [],
   "source": [
    "df = pd.read_csv(base_path + 'newdf1007.csv')"
   ]
  },
  {
   "cell_type": "code",
   "execution_count": 4,
   "metadata": {},
   "outputs": [
    {
     "data": {
      "text/html": [
       "<div>\n",
       "<style scoped>\n",
       "    .dataframe tbody tr th:only-of-type {\n",
       "        vertical-align: middle;\n",
       "    }\n",
       "\n",
       "    .dataframe tbody tr th {\n",
       "        vertical-align: top;\n",
       "    }\n",
       "\n",
       "    .dataframe thead th {\n",
       "        text-align: right;\n",
       "    }\n",
       "</style>\n",
       "<table border=\"1\" class=\"dataframe\">\n",
       "  <thead>\n",
       "    <tr style=\"text-align: right;\">\n",
       "      <th></th>\n",
       "      <th>SAL_DT</th>\n",
       "      <th>REAL_SAL_TTM</th>\n",
       "      <th>PLU_CD</th>\n",
       "      <th>GDS_NM</th>\n",
       "      <th>GDS_CLSS_CD</th>\n",
       "      <th>SALE_AMT</th>\n",
       "    </tr>\n",
       "  </thead>\n",
       "  <tbody>\n",
       "    <tr>\n",
       "      <th>0</th>\n",
       "      <td>2021-09-02</td>\n",
       "      <td>185158</td>\n",
       "      <td>2999000001262</td>\n",
       "      <td>의성햇사과 8입 1봉</td>\n",
       "      <td>40601.0</td>\n",
       "      <td>9960.0</td>\n",
       "    </tr>\n",
       "    <tr>\n",
       "      <th>1</th>\n",
       "      <td>2021-09-02</td>\n",
       "      <td>185158</td>\n",
       "      <td>2908990004443</td>\n",
       "      <td>쌈배추 벌크 1통</td>\n",
       "      <td>30101.0</td>\n",
       "      <td>1980.0</td>\n",
       "    </tr>\n",
       "    <tr>\n",
       "      <th>2</th>\n",
       "      <td>2021-09-02</td>\n",
       "      <td>185158</td>\n",
       "      <td>2908990003866</td>\n",
       "      <td>성주꿀참외 특  6입 1봉</td>\n",
       "      <td>40101.0</td>\n",
       "      <td>9800.0</td>\n",
       "    </tr>\n",
       "    <tr>\n",
       "      <th>3</th>\n",
       "      <td>2021-09-02</td>\n",
       "      <td>185158</td>\n",
       "      <td>351060</td>\n",
       "      <td>대패삼겹살 수입</td>\n",
       "      <td>52599.0</td>\n",
       "      <td>13060.0</td>\n",
       "    </tr>\n",
       "    <tr>\n",
       "      <th>4</th>\n",
       "      <td>2021-09-02</td>\n",
       "      <td>185158</td>\n",
       "      <td>201447</td>\n",
       "      <td>거봉포도</td>\n",
       "      <td>40702.0</td>\n",
       "      <td>6420.0</td>\n",
       "    </tr>\n",
       "    <tr>\n",
       "      <th>...</th>\n",
       "      <td>...</td>\n",
       "      <td>...</td>\n",
       "      <td>...</td>\n",
       "      <td>...</td>\n",
       "      <td>...</td>\n",
       "      <td>...</td>\n",
       "    </tr>\n",
       "    <tr>\n",
       "      <th>2088623</th>\n",
       "      <td>2022-04-29</td>\n",
       "      <td>202815</td>\n",
       "      <td>8800789888880</td>\n",
       "      <td>찹쌀</td>\n",
       "      <td>105152.0</td>\n",
       "      <td>49500.0</td>\n",
       "    </tr>\n",
       "    <tr>\n",
       "      <th>2088624</th>\n",
       "      <td>2022-07-13</td>\n",
       "      <td>152301</td>\n",
       "      <td>8800789888880</td>\n",
       "      <td>찹쌀</td>\n",
       "      <td>105152.0</td>\n",
       "      <td>49500.0</td>\n",
       "    </tr>\n",
       "    <tr>\n",
       "      <th>2088625</th>\n",
       "      <td>2021-11-21</td>\n",
       "      <td>143020</td>\n",
       "      <td>8800789080000</td>\n",
       "      <td>늘보리</td>\n",
       "      <td>105152.0</td>\n",
       "      <td>7300.0</td>\n",
       "    </tr>\n",
       "    <tr>\n",
       "      <th>2088626</th>\n",
       "      <td>2022-03-03</td>\n",
       "      <td>165411</td>\n",
       "      <td>8800789080000</td>\n",
       "      <td>늘보리</td>\n",
       "      <td>105152.0</td>\n",
       "      <td>7300.0</td>\n",
       "    </tr>\n",
       "    <tr>\n",
       "      <th>2088627</th>\n",
       "      <td>2022-06-17</td>\n",
       "      <td>140922</td>\n",
       "      <td>8800789080000</td>\n",
       "      <td>늘보리</td>\n",
       "      <td>105152.0</td>\n",
       "      <td>7300.0</td>\n",
       "    </tr>\n",
       "  </tbody>\n",
       "</table>\n",
       "<p>2088628 rows × 6 columns</p>\n",
       "</div>"
      ],
      "text/plain": [
       "             SAL_DT  REAL_SAL_TTM         PLU_CD           GDS_NM  \\\n",
       "0        2021-09-02        185158  2999000001262     의성햇사과 8입 1봉    \n",
       "1        2021-09-02        185158  2908990004443        쌈배추 벌크 1통   \n",
       "2        2021-09-02        185158  2908990003866   성주꿀참외 특  6입 1봉   \n",
       "3        2021-09-02        185158         351060        대패삼겹살 수입    \n",
       "4        2021-09-02        185158         201447             거봉포도   \n",
       "...             ...           ...            ...              ...   \n",
       "2088623  2022-04-29        202815  8800789888880               찹쌀   \n",
       "2088624  2022-07-13        152301  8800789888880               찹쌀   \n",
       "2088625  2021-11-21        143020  8800789080000              늘보리   \n",
       "2088626  2022-03-03        165411  8800789080000              늘보리   \n",
       "2088627  2022-06-17        140922  8800789080000              늘보리   \n",
       "\n",
       "         GDS_CLSS_CD  SALE_AMT  \n",
       "0            40601.0    9960.0  \n",
       "1            30101.0    1980.0  \n",
       "2            40101.0    9800.0  \n",
       "3            52599.0   13060.0  \n",
       "4            40702.0    6420.0  \n",
       "...              ...       ...  \n",
       "2088623     105152.0   49500.0  \n",
       "2088624     105152.0   49500.0  \n",
       "2088625     105152.0    7300.0  \n",
       "2088626     105152.0    7300.0  \n",
       "2088627     105152.0    7300.0  \n",
       "\n",
       "[2088628 rows x 6 columns]"
      ]
     },
     "execution_count": 4,
     "metadata": {},
     "output_type": "execute_result"
    }
   ],
   "source": [
    "df"
   ]
  },
  {
   "cell_type": "code",
   "execution_count": 9,
   "metadata": {},
   "outputs": [],
   "source": [
    "df['SALE_AMT'] = df['SALE_AMT'].astype(int)"
   ]
  },
  {
   "cell_type": "code",
   "execution_count": 10,
   "metadata": {},
   "outputs": [
    {
     "name": "stdout",
     "output_type": "stream",
     "text": [
      "<class 'pandas.core.frame.DataFrame'>\n",
      "RangeIndex: 2088628 entries, 0 to 2088627\n",
      "Data columns (total 6 columns):\n",
      " #   Column        Dtype  \n",
      "---  ------        -----  \n",
      " 0   SAL_DT        object \n",
      " 1   REAL_SAL_TTM  int64  \n",
      " 2   PLU_CD        int64  \n",
      " 3   GDS_NM        object \n",
      " 4   GDS_CLSS_CD   float64\n",
      " 5   SALE_AMT      int32  \n",
      "dtypes: float64(1), int32(1), int64(2), object(2)\n",
      "memory usage: 87.6+ MB\n"
     ]
    }
   ],
   "source": [
    "df.info()"
   ]
  },
  {
   "cell_type": "code",
   "execution_count": 11,
   "metadata": {},
   "outputs": [],
   "source": [
    "df.to_csv('newdf1007-1.csv', index=False)"
   ]
  },
  {
   "cell_type": "code",
   "execution_count": 12,
   "metadata": {},
   "outputs": [],
   "source": [
    "df1 = pd.read_csv(base_path + 'newdf1007-1.csv')"
   ]
  },
  {
   "cell_type": "code",
   "execution_count": 13,
   "metadata": {},
   "outputs": [
    {
     "name": "stdout",
     "output_type": "stream",
     "text": [
      "<class 'pandas.core.frame.DataFrame'>\n",
      "RangeIndex: 2088628 entries, 0 to 2088627\n",
      "Data columns (total 6 columns):\n",
      " #   Column        Dtype  \n",
      "---  ------        -----  \n",
      " 0   SAL_DT        object \n",
      " 1   REAL_SAL_TTM  int64  \n",
      " 2   PLU_CD        int64  \n",
      " 3   GDS_NM        object \n",
      " 4   GDS_CLSS_CD   float64\n",
      " 5   SALE_AMT      int64  \n",
      "dtypes: float64(1), int64(3), object(2)\n",
      "memory usage: 95.6+ MB\n"
     ]
    }
   ],
   "source": [
    "df1.info()"
   ]
  },
  {
   "cell_type": "code",
   "execution_count": 15,
   "metadata": {},
   "outputs": [],
   "source": [
    "df1['SAL_DT'] = pd.to_datetime(df1['SAL_DT'])"
   ]
  },
  {
   "cell_type": "code",
   "execution_count": 16,
   "metadata": {},
   "outputs": [
    {
     "name": "stdout",
     "output_type": "stream",
     "text": [
      "<class 'pandas.core.frame.DataFrame'>\n",
      "RangeIndex: 2088628 entries, 0 to 2088627\n",
      "Data columns (total 6 columns):\n",
      " #   Column        Dtype         \n",
      "---  ------        -----         \n",
      " 0   SAL_DT        datetime64[ns]\n",
      " 1   REAL_SAL_TTM  int64         \n",
      " 2   PLU_CD        int64         \n",
      " 3   GDS_NM        object        \n",
      " 4   GDS_CLSS_CD   float64       \n",
      " 5   SALE_AMT      int64         \n",
      "dtypes: datetime64[ns](1), float64(1), int64(3), object(1)\n",
      "memory usage: 95.6+ MB\n"
     ]
    }
   ],
   "source": [
    "df1.info()"
   ]
  },
  {
   "cell_type": "code",
   "execution_count": 17,
   "metadata": {},
   "outputs": [],
   "source": [
    "df1.to_csv('newdf1007-2.csv', index=False)"
   ]
  },
  {
   "cell_type": "code",
   "execution_count": 18,
   "metadata": {},
   "outputs": [],
   "source": [
    "df2 = pd.read_csv(base_path + 'newdf1007-2.csv')"
   ]
  },
  {
   "cell_type": "code",
   "execution_count": 19,
   "metadata": {},
   "outputs": [
    {
     "name": "stdout",
     "output_type": "stream",
     "text": [
      "<class 'pandas.core.frame.DataFrame'>\n",
      "RangeIndex: 2088628 entries, 0 to 2088627\n",
      "Data columns (total 6 columns):\n",
      " #   Column        Dtype  \n",
      "---  ------        -----  \n",
      " 0   SAL_DT        object \n",
      " 1   REAL_SAL_TTM  int64  \n",
      " 2   PLU_CD        int64  \n",
      " 3   GDS_NM        object \n",
      " 4   GDS_CLSS_CD   float64\n",
      " 5   SALE_AMT      int64  \n",
      "dtypes: float64(1), int64(3), object(2)\n",
      "memory usage: 95.6+ MB\n"
     ]
    }
   ],
   "source": [
    "df2.info()"
   ]
  },
  {
   "cell_type": "code",
   "execution_count": 20,
   "metadata": {},
   "outputs": [
    {
     "data": {
      "text/html": [
       "<div>\n",
       "<style scoped>\n",
       "    .dataframe tbody tr th:only-of-type {\n",
       "        vertical-align: middle;\n",
       "    }\n",
       "\n",
       "    .dataframe tbody tr th {\n",
       "        vertical-align: top;\n",
       "    }\n",
       "\n",
       "    .dataframe thead th {\n",
       "        text-align: right;\n",
       "    }\n",
       "</style>\n",
       "<table border=\"1\" class=\"dataframe\">\n",
       "  <thead>\n",
       "    <tr style=\"text-align: right;\">\n",
       "      <th></th>\n",
       "      <th>SAL_DT</th>\n",
       "      <th>REAL_SAL_TTM</th>\n",
       "      <th>PLU_CD</th>\n",
       "      <th>GDS_NM</th>\n",
       "      <th>GDS_CLSS_CD</th>\n",
       "      <th>SALE_AMT</th>\n",
       "    </tr>\n",
       "  </thead>\n",
       "  <tbody>\n",
       "    <tr>\n",
       "      <th>0</th>\n",
       "      <td>2021-09-02</td>\n",
       "      <td>185158</td>\n",
       "      <td>2999000001262</td>\n",
       "      <td>의성햇사과 8입 1봉</td>\n",
       "      <td>40601.0</td>\n",
       "      <td>9960</td>\n",
       "    </tr>\n",
       "    <tr>\n",
       "      <th>1</th>\n",
       "      <td>2021-09-02</td>\n",
       "      <td>185158</td>\n",
       "      <td>2908990004443</td>\n",
       "      <td>쌈배추 벌크 1통</td>\n",
       "      <td>30101.0</td>\n",
       "      <td>1980</td>\n",
       "    </tr>\n",
       "    <tr>\n",
       "      <th>2</th>\n",
       "      <td>2021-09-02</td>\n",
       "      <td>185158</td>\n",
       "      <td>2908990003866</td>\n",
       "      <td>성주꿀참외 특  6입 1봉</td>\n",
       "      <td>40101.0</td>\n",
       "      <td>9800</td>\n",
       "    </tr>\n",
       "    <tr>\n",
       "      <th>3</th>\n",
       "      <td>2021-09-02</td>\n",
       "      <td>185158</td>\n",
       "      <td>351060</td>\n",
       "      <td>대패삼겹살 수입</td>\n",
       "      <td>52599.0</td>\n",
       "      <td>13060</td>\n",
       "    </tr>\n",
       "    <tr>\n",
       "      <th>4</th>\n",
       "      <td>2021-09-02</td>\n",
       "      <td>185158</td>\n",
       "      <td>201447</td>\n",
       "      <td>거봉포도</td>\n",
       "      <td>40702.0</td>\n",
       "      <td>6420</td>\n",
       "    </tr>\n",
       "    <tr>\n",
       "      <th>...</th>\n",
       "      <td>...</td>\n",
       "      <td>...</td>\n",
       "      <td>...</td>\n",
       "      <td>...</td>\n",
       "      <td>...</td>\n",
       "      <td>...</td>\n",
       "    </tr>\n",
       "    <tr>\n",
       "      <th>2088623</th>\n",
       "      <td>2022-04-29</td>\n",
       "      <td>202815</td>\n",
       "      <td>8800789888880</td>\n",
       "      <td>찹쌀</td>\n",
       "      <td>105152.0</td>\n",
       "      <td>49500</td>\n",
       "    </tr>\n",
       "    <tr>\n",
       "      <th>2088624</th>\n",
       "      <td>2022-07-13</td>\n",
       "      <td>152301</td>\n",
       "      <td>8800789888880</td>\n",
       "      <td>찹쌀</td>\n",
       "      <td>105152.0</td>\n",
       "      <td>49500</td>\n",
       "    </tr>\n",
       "    <tr>\n",
       "      <th>2088625</th>\n",
       "      <td>2021-11-21</td>\n",
       "      <td>143020</td>\n",
       "      <td>8800789080000</td>\n",
       "      <td>늘보리</td>\n",
       "      <td>105152.0</td>\n",
       "      <td>7300</td>\n",
       "    </tr>\n",
       "    <tr>\n",
       "      <th>2088626</th>\n",
       "      <td>2022-03-03</td>\n",
       "      <td>165411</td>\n",
       "      <td>8800789080000</td>\n",
       "      <td>늘보리</td>\n",
       "      <td>105152.0</td>\n",
       "      <td>7300</td>\n",
       "    </tr>\n",
       "    <tr>\n",
       "      <th>2088627</th>\n",
       "      <td>2022-06-17</td>\n",
       "      <td>140922</td>\n",
       "      <td>8800789080000</td>\n",
       "      <td>늘보리</td>\n",
       "      <td>105152.0</td>\n",
       "      <td>7300</td>\n",
       "    </tr>\n",
       "  </tbody>\n",
       "</table>\n",
       "<p>2088628 rows × 6 columns</p>\n",
       "</div>"
      ],
      "text/plain": [
       "             SAL_DT  REAL_SAL_TTM         PLU_CD           GDS_NM  \\\n",
       "0        2021-09-02        185158  2999000001262     의성햇사과 8입 1봉    \n",
       "1        2021-09-02        185158  2908990004443        쌈배추 벌크 1통   \n",
       "2        2021-09-02        185158  2908990003866   성주꿀참외 특  6입 1봉   \n",
       "3        2021-09-02        185158         351060        대패삼겹살 수입    \n",
       "4        2021-09-02        185158         201447             거봉포도   \n",
       "...             ...           ...            ...              ...   \n",
       "2088623  2022-04-29        202815  8800789888880               찹쌀   \n",
       "2088624  2022-07-13        152301  8800789888880               찹쌀   \n",
       "2088625  2021-11-21        143020  8800789080000              늘보리   \n",
       "2088626  2022-03-03        165411  8800789080000              늘보리   \n",
       "2088627  2022-06-17        140922  8800789080000              늘보리   \n",
       "\n",
       "         GDS_CLSS_CD  SALE_AMT  \n",
       "0            40601.0      9960  \n",
       "1            30101.0      1980  \n",
       "2            40101.0      9800  \n",
       "3            52599.0     13060  \n",
       "4            40702.0      6420  \n",
       "...              ...       ...  \n",
       "2088623     105152.0     49500  \n",
       "2088624     105152.0     49500  \n",
       "2088625     105152.0      7300  \n",
       "2088626     105152.0      7300  \n",
       "2088627     105152.0      7300  \n",
       "\n",
       "[2088628 rows x 6 columns]"
      ]
     },
     "execution_count": 20,
     "metadata": {},
     "output_type": "execute_result"
    }
   ],
   "source": [
    "df2"
   ]
  },
  {
   "cell_type": "code",
   "execution_count": null,
   "metadata": {},
   "outputs": [],
   "source": []
  },
  {
   "cell_type": "code",
   "execution_count": null,
   "metadata": {},
   "outputs": [],
   "source": []
  },
  {
   "cell_type": "code",
   "execution_count": null,
   "metadata": {},
   "outputs": [],
   "source": []
  }
 ],
 "metadata": {
  "kernelspec": {
   "display_name": "Python 3",
   "language": "python",
   "name": "python3"
  },
  "language_info": {
   "codemirror_mode": {
    "name": "ipython",
    "version": 3
   },
   "file_extension": ".py",
   "mimetype": "text/x-python",
   "name": "python",
   "nbconvert_exporter": "python",
   "pygments_lexer": "ipython3",
   "version": "3.8.5"
  }
 },
 "nbformat": 4,
 "nbformat_minor": 4
}
