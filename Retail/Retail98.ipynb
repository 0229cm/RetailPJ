{
 "cells": [
  {
   "cell_type": "code",
   "execution_count": 1,
   "id": "a24b113f",
   "metadata": {},
   "outputs": [],
   "source": [
    "import numpy as np\n",
    "import pandas as pd\n",
    "\n",
    "import matplotlib.pyplot as plt\n",
    "import seaborn as sns\n",
    "\n",
    "base_path = ''"
   ]
  },
  {
   "cell_type": "code",
   "execution_count": 2,
   "id": "73bf3a2e",
   "metadata": {},
   "outputs": [
    {
     "name": "stderr",
     "output_type": "stream",
     "text": [
      "C:\\Users\\min\\AppData\\Local\\Temp\\ipykernel_9524\\1986829749.py:1: DtypeWarning: Columns (2) have mixed types. Specify dtype option on import or set low_memory=False.\n",
      "  gds2 = pd.read_csv(base_path + 'gds1014.csv')\n",
      "C:\\Users\\min\\AppData\\Local\\Temp\\ipykernel_9524\\1986829749.py:3: DtypeWarning: Columns (2,8) have mixed types. Specify dtype option on import or set low_memory=False.\n",
      "  trdtl2 = pd.read_csv(base_path + 'trdtl1014.csv')\n"
     ]
    }
   ],
   "source": [
    "gds2 = pd.read_csv(base_path + 'gds1014.csv')\n",
    "\n",
    "trdtl2 = pd.read_csv(base_path + 'trdtl1014.csv')"
   ]
  },
  {
   "cell_type": "code",
   "execution_count": 3,
   "id": "e76661d6",
   "metadata": {},
   "outputs": [],
   "source": [
    "gds2.STR_CD = gds2.STR_CD.astype('str')\n",
    "trdtl2.STR_CD = trdtl2.STR_CD.astype('str')"
   ]
  },
  {
   "cell_type": "code",
   "execution_count": 4,
   "id": "47386ebc",
   "metadata": {},
   "outputs": [],
   "source": [
    "gds2.PLU_CD = gds2.PLU_CD.astype('str')\n",
    "trdtl2.PLU_CD = trdtl2.PLU_CD.astype('str')"
   ]
  },
  {
   "cell_type": "code",
   "execution_count": 5,
   "id": "0644c4f4",
   "metadata": {},
   "outputs": [],
   "source": [
    "trdtl2 = trdtl2.astype({'SALE_QTY' : 'int'})\n",
    "trdtl2 = trdtl2.astype({'SALE_PRC' : 'int'})\n",
    "trdtl2 = trdtl2.astype({'SALE_AMT' : 'int'})"
   ]
  },
  {
   "cell_type": "code",
   "execution_count": null,
   "id": "da8d441a",
   "metadata": {},
   "outputs": [],
   "source": []
  },
  {
   "cell_type": "code",
   "execution_count": 6,
   "id": "e05d44f7",
   "metadata": {},
   "outputs": [
    {
     "name": "stdout",
     "output_type": "stream",
     "text": [
      "<class 'pandas.core.frame.DataFrame'>\n",
      "RangeIndex: 571632 entries, 0 to 571631\n",
      "Data columns (total 7 columns):\n",
      " #   Column       Non-Null Count   Dtype  \n",
      "---  ------       --------------   -----  \n",
      " 0   CO_CD        571632 non-null  int64  \n",
      " 1   STR_CD       571632 non-null  object \n",
      " 2   PLU_CD       571632 non-null  object \n",
      " 3   GDS_NM       571632 non-null  object \n",
      " 4   GDS_CLSS_CD  571629 non-null  float64\n",
      " 5   GDS_TP_NM    571632 non-null  object \n",
      " 6   VEN_CD       571632 non-null  int64  \n",
      "dtypes: float64(1), int64(2), object(4)\n",
      "memory usage: 30.5+ MB\n"
     ]
    }
   ],
   "source": [
    "gds2.info()"
   ]
  },
  {
   "cell_type": "code",
   "execution_count": 7,
   "id": "263ceea6",
   "metadata": {},
   "outputs": [
    {
     "name": "stdout",
     "output_type": "stream",
     "text": [
      "<class 'pandas.core.frame.DataFrame'>\n",
      "RangeIndex: 24976520 entries, 0 to 24976519\n",
      "Data columns (total 20 columns):\n",
      " #   Column              Dtype  \n",
      "---  ------              -----  \n",
      " 0   SAL_DT              int64  \n",
      " 1   STR_CD              object \n",
      " 2   POS_NO              object \n",
      " 3   TRAN_NO             int64  \n",
      " 4   SEQ_NO              int64  \n",
      " 5   DESI_CNCL_TP_NM     object \n",
      " 6   SALE_RTN_SGN        int64  \n",
      " 7   PLU_CD              object \n",
      " 8   GDS_CLSS_CD         object \n",
      " 9   SALE_QTY            int32  \n",
      " 10  SALE_PRC            int32  \n",
      " 11  SALE_AMT            int32  \n",
      " 12  SGDS_DC_TP_NM       object \n",
      " 13  SGDS_DC_PRC         float64\n",
      " 14  SUBTOT_DC_AMT       float64\n",
      " 15  EVT_DC_AMT          float64\n",
      " 16  CPON_DC_AMT         float64\n",
      " 17  SCALES_GDS_TP_NM    object \n",
      " 18  GDS_CPON_DC_AMT     float64\n",
      " 19  BASKET_CPON_DC_AMT  float64\n",
      "dtypes: float64(6), int32(3), int64(4), object(7)\n",
      "memory usage: 3.4+ GB\n"
     ]
    }
   ],
   "source": [
    "trdtl2.info()"
   ]
  },
  {
   "cell_type": "code",
   "execution_count": 8,
   "id": "2c014233",
   "metadata": {},
   "outputs": [],
   "source": [
    "g12018 = gds2[gds2.STR_CD == '12018']"
   ]
  },
  {
   "cell_type": "code",
   "execution_count": 9,
   "id": "ccb8290c",
   "metadata": {},
   "outputs": [],
   "source": [
    "t12018 = trdtl2[trdtl2.STR_CD == '12018']"
   ]
  },
  {
   "cell_type": "code",
   "execution_count": 10,
   "id": "72f4e28e",
   "metadata": {},
   "outputs": [],
   "source": [
    "g75008 = gds2[gds2.STR_CD == '75008']"
   ]
  },
  {
   "cell_type": "code",
   "execution_count": 11,
   "id": "43e75258",
   "metadata": {},
   "outputs": [],
   "source": [
    "t75008 = trdtl2[trdtl2.STR_CD == '75008']"
   ]
  },
  {
   "cell_type": "code",
   "execution_count": 12,
   "id": "14b2c44a",
   "metadata": {},
   "outputs": [],
   "source": [
    "g156012 = gds2[gds2.STR_CD == '156012']"
   ]
  },
  {
   "cell_type": "code",
   "execution_count": 13,
   "id": "c1f4108e",
   "metadata": {},
   "outputs": [],
   "source": [
    "t156012 = trdtl2[trdtl2.STR_CD == '156012']"
   ]
  },
  {
   "cell_type": "code",
   "execution_count": 14,
   "id": "ca195e4f",
   "metadata": {},
   "outputs": [],
   "source": [
    "g156013 = gds2[gds2.STR_CD == '156013']"
   ]
  },
  {
   "cell_type": "code",
   "execution_count": 15,
   "id": "2cf3cc26",
   "metadata": {},
   "outputs": [],
   "source": [
    "t156013 = trdtl2[trdtl2.STR_CD == '156013']"
   ]
  },
  {
   "cell_type": "code",
   "execution_count": 16,
   "id": "6e8343c1",
   "metadata": {},
   "outputs": [],
   "source": [
    "g156011 = gds2[gds2.STR_CD == '156011']"
   ]
  },
  {
   "cell_type": "code",
   "execution_count": 17,
   "id": "57d16020",
   "metadata": {},
   "outputs": [],
   "source": [
    "t156011 = trdtl2[trdtl2.STR_CD == '156011']"
   ]
  },
  {
   "cell_type": "code",
   "execution_count": 18,
   "id": "784f3877",
   "metadata": {},
   "outputs": [],
   "source": [
    "g150009 = gds2[gds2.STR_CD == '150009']"
   ]
  },
  {
   "cell_type": "code",
   "execution_count": 19,
   "id": "85c0ba6c",
   "metadata": {},
   "outputs": [],
   "source": [
    "t150009 = trdtl2[trdtl2.STR_CD == '150009']"
   ]
  },
  {
   "cell_type": "code",
   "execution_count": 20,
   "id": "c0c2a16a",
   "metadata": {},
   "outputs": [],
   "source": [
    "g72005 = gds2[gds2.STR_CD == '72005']"
   ]
  },
  {
   "cell_type": "code",
   "execution_count": 21,
   "id": "b2e3f747",
   "metadata": {},
   "outputs": [],
   "source": [
    "t72005 = trdtl2[trdtl2.STR_CD == '72005']"
   ]
  },
  {
   "cell_type": "code",
   "execution_count": 22,
   "id": "920980ea",
   "metadata": {},
   "outputs": [],
   "source": [
    "g145002 = gds2[gds2.STR_CD == '145002']"
   ]
  },
  {
   "cell_type": "code",
   "execution_count": 23,
   "id": "aa982c33",
   "metadata": {},
   "outputs": [],
   "source": [
    "t145002 = trdtl2[trdtl2.STR_CD == '145002']"
   ]
  },
  {
   "cell_type": "code",
   "execution_count": 24,
   "id": "4dff8800",
   "metadata": {},
   "outputs": [],
   "source": [
    "g201001 = gds2[gds2.STR_CD == '201001']"
   ]
  },
  {
   "cell_type": "code",
   "execution_count": 25,
   "id": "d5fb6952",
   "metadata": {},
   "outputs": [],
   "source": [
    "t201001 = trdtl2[trdtl2.STR_CD == '201001']"
   ]
  },
  {
   "cell_type": "code",
   "execution_count": 26,
   "id": "ca1a87d9",
   "metadata": {},
   "outputs": [],
   "source": [
    "g227003 = gds2[gds2.STR_CD == '227003']"
   ]
  },
  {
   "cell_type": "code",
   "execution_count": 27,
   "id": "f2d67b6b",
   "metadata": {},
   "outputs": [],
   "source": [
    "t227003 = trdtl2[trdtl2.STR_CD == '227003']"
   ]
  },
  {
   "cell_type": "code",
   "execution_count": 28,
   "id": "c7d9ebd3",
   "metadata": {},
   "outputs": [],
   "source": [
    "g164050 = gds2[gds2.STR_CD == '164050']"
   ]
  },
  {
   "cell_type": "code",
   "execution_count": 29,
   "id": "439cde6e",
   "metadata": {},
   "outputs": [],
   "source": [
    "t164050 = trdtl2[trdtl2.STR_CD == '164050']"
   ]
  },
  {
   "cell_type": "code",
   "execution_count": 30,
   "id": "2e9afa34",
   "metadata": {},
   "outputs": [],
   "source": [
    "g216008 = gds2[gds2.STR_CD == '216008']"
   ]
  },
  {
   "cell_type": "code",
   "execution_count": 31,
   "id": "81c76da0",
   "metadata": {},
   "outputs": [],
   "source": [
    "t216008 = trdtl2[trdtl2.STR_CD == '216008']"
   ]
  },
  {
   "cell_type": "code",
   "execution_count": 32,
   "id": "8d356e9e",
   "metadata": {},
   "outputs": [],
   "source": [
    "g363004 = gds2[gds2.STR_CD == '363004']"
   ]
  },
  {
   "cell_type": "code",
   "execution_count": 33,
   "id": "c84b90e4",
   "metadata": {},
   "outputs": [],
   "source": [
    "t363004 = trdtl2[trdtl2.STR_CD == '363004']"
   ]
  },
  {
   "cell_type": "code",
   "execution_count": 34,
   "id": "26120942",
   "metadata": {},
   "outputs": [],
   "source": [
    "g194001 = gds2[gds2.STR_CD == '194001']"
   ]
  },
  {
   "cell_type": "code",
   "execution_count": 35,
   "id": "a65395f1",
   "metadata": {},
   "outputs": [],
   "source": [
    "t194001 = trdtl2[trdtl2.STR_CD == '194001']"
   ]
  },
  {
   "cell_type": "code",
   "execution_count": 36,
   "id": "fde2d15b",
   "metadata": {},
   "outputs": [],
   "source": [
    "g168009 = gds2[gds2.STR_CD == '168009']"
   ]
  },
  {
   "cell_type": "code",
   "execution_count": 37,
   "id": "5967ef2c",
   "metadata": {},
   "outputs": [],
   "source": [
    "t168009 = trdtl2[trdtl2.STR_CD == '168009']"
   ]
  },
  {
   "cell_type": "code",
   "execution_count": 38,
   "id": "fe211787",
   "metadata": {},
   "outputs": [],
   "source": [
    "g142011 = gds2[gds2.STR_CD == '142011']"
   ]
  },
  {
   "cell_type": "code",
   "execution_count": 39,
   "id": "144a3697",
   "metadata": {},
   "outputs": [],
   "source": [
    "t142011 = trdtl2[trdtl2.STR_CD == '142011']"
   ]
  },
  {
   "cell_type": "code",
   "execution_count": null,
   "id": "bde80deb",
   "metadata": {},
   "outputs": [],
   "source": []
  },
  {
   "cell_type": "markdown",
   "id": "3c1966d5",
   "metadata": {},
   "source": [
    "---"
   ]
  },
  {
   "cell_type": "code",
   "execution_count": null,
   "id": "2a3eb5e2",
   "metadata": {},
   "outputs": [],
   "source": []
  },
  {
   "cell_type": "code",
   "execution_count": 40,
   "id": "61ccb5d0",
   "metadata": {},
   "outputs": [],
   "source": [
    "gt12018 = pd.merge(g12018, t12018, on='PLU_CD', how='inner')"
   ]
  },
  {
   "cell_type": "code",
   "execution_count": 41,
   "id": "7b807869",
   "metadata": {},
   "outputs": [],
   "source": [
    "gt75008 = pd.merge(g75008, t75008, on='PLU_CD', how='inner')"
   ]
  },
  {
   "cell_type": "code",
   "execution_count": 42,
   "id": "ce7614a6",
   "metadata": {},
   "outputs": [],
   "source": [
    "gt156012 = pd.merge(g156012, t156012, on='PLU_CD', how='inner')"
   ]
  },
  {
   "cell_type": "code",
   "execution_count": 43,
   "id": "40f3d783",
   "metadata": {},
   "outputs": [],
   "source": [
    "gt156013 = pd.merge(g156013, t156013, on='PLU_CD', how='inner')"
   ]
  },
  {
   "cell_type": "code",
   "execution_count": 44,
   "id": "4e33bb9a",
   "metadata": {},
   "outputs": [],
   "source": [
    "gt156011 = pd.merge(g156011, t156011, on='PLU_CD', how='inner')"
   ]
  },
  {
   "cell_type": "code",
   "execution_count": 45,
   "id": "1c2952ce",
   "metadata": {},
   "outputs": [],
   "source": [
    "gt150009 = pd.merge(g150009, t150009, on='PLU_CD', how='inner')"
   ]
  },
  {
   "cell_type": "code",
   "execution_count": 46,
   "id": "bc1ce678",
   "metadata": {},
   "outputs": [],
   "source": [
    "gt72005 = pd.merge(g72005, t72005, on='PLU_CD', how='inner')"
   ]
  },
  {
   "cell_type": "code",
   "execution_count": 47,
   "id": "1edb384b",
   "metadata": {},
   "outputs": [],
   "source": [
    "gt145002 = pd.merge(g145002, t145002, on='PLU_CD', how='inner')"
   ]
  },
  {
   "cell_type": "code",
   "execution_count": 48,
   "id": "c77c9272",
   "metadata": {},
   "outputs": [],
   "source": [
    "gt201001 = pd.merge(g201001, t201001, on='PLU_CD', how='inner')"
   ]
  },
  {
   "cell_type": "code",
   "execution_count": 49,
   "id": "613e25a7",
   "metadata": {},
   "outputs": [],
   "source": [
    "gt227003 = pd.merge(g227003, t227003, on='PLU_CD', how='inner')"
   ]
  },
  {
   "cell_type": "code",
   "execution_count": 50,
   "id": "4652f610",
   "metadata": {},
   "outputs": [],
   "source": [
    "gt164050 = pd.merge(g164050, t164050, on='PLU_CD', how='inner')"
   ]
  },
  {
   "cell_type": "code",
   "execution_count": 51,
   "id": "fcfb4333",
   "metadata": {},
   "outputs": [],
   "source": [
    "gt216008 = pd.merge(g216008, t216008, on='PLU_CD', how='inner')"
   ]
  },
  {
   "cell_type": "code",
   "execution_count": 52,
   "id": "3d61bbf3",
   "metadata": {},
   "outputs": [],
   "source": [
    "gt363004 = pd.merge(g363004, t363004, on='PLU_CD', how='inner')"
   ]
  },
  {
   "cell_type": "code",
   "execution_count": 53,
   "id": "279ceebf",
   "metadata": {},
   "outputs": [],
   "source": [
    "gt194001 = pd.merge(g194001, t194001, on='PLU_CD', how='inner')"
   ]
  },
  {
   "cell_type": "code",
   "execution_count": 54,
   "id": "d8820f42",
   "metadata": {},
   "outputs": [],
   "source": [
    "gt168009 = pd.merge(g168009, t168009, on='PLU_CD', how='inner')"
   ]
  },
  {
   "cell_type": "code",
   "execution_count": 55,
   "id": "7f258d51",
   "metadata": {},
   "outputs": [],
   "source": [
    "gt142011 = pd.merge(g142011, t142011, on='PLU_CD', how='inner')"
   ]
  },
  {
   "cell_type": "markdown",
   "id": "8993e3d0",
   "metadata": {},
   "source": [
    "---"
   ]
  },
  {
   "cell_type": "code",
   "execution_count": 56,
   "id": "bd7d478c",
   "metadata": {},
   "outputs": [],
   "source": [
    "amart = gt12018[['SAL_DT', 'PLU_CD', 'GDS_NM', 'SALE_QTY', 'SALE_PRC', 'SALE_AMT']]"
   ]
  },
  {
   "cell_type": "code",
   "execution_count": 57,
   "id": "17caa250",
   "metadata": {},
   "outputs": [],
   "source": [
    "bmart = gt72005[['SAL_DT', 'PLU_CD', 'GDS_NM', 'SALE_QTY', 'SALE_PRC', 'SALE_AMT']]"
   ]
  },
  {
   "cell_type": "code",
   "execution_count": 58,
   "id": "8c798218",
   "metadata": {},
   "outputs": [],
   "source": [
    "cmart = gt75008[['SAL_DT', 'PLU_CD', 'GDS_NM', 'SALE_QTY', 'SALE_PRC', 'SALE_AMT']]"
   ]
  },
  {
   "cell_type": "code",
   "execution_count": 59,
   "id": "653b682d",
   "metadata": {},
   "outputs": [],
   "source": [
    "dmart = gt142011[['SAL_DT', 'PLU_CD', 'GDS_NM', 'SALE_QTY', 'SALE_PRC', 'SALE_AMT']]"
   ]
  },
  {
   "cell_type": "code",
   "execution_count": 60,
   "id": "eda46ed0",
   "metadata": {},
   "outputs": [],
   "source": [
    "emart = gt145002[['SAL_DT', 'PLU_CD', 'GDS_NM', 'SALE_QTY', 'SALE_PRC', 'SALE_AMT']]"
   ]
  },
  {
   "cell_type": "code",
   "execution_count": 61,
   "id": "7bda7113",
   "metadata": {},
   "outputs": [],
   "source": [
    "fmart = gt150009[['SAL_DT', 'PLU_CD', 'GDS_NM', 'SALE_QTY', 'SALE_PRC', 'SALE_AMT']]"
   ]
  },
  {
   "cell_type": "code",
   "execution_count": 62,
   "id": "07a41e8e",
   "metadata": {},
   "outputs": [],
   "source": [
    "gmart = gt156011[['SAL_DT', 'PLU_CD', 'GDS_NM', 'SALE_QTY', 'SALE_PRC', 'SALE_AMT']]"
   ]
  },
  {
   "cell_type": "code",
   "execution_count": 63,
   "id": "80c7d6e2",
   "metadata": {},
   "outputs": [],
   "source": [
    "hmart = gt156012[['SAL_DT', 'PLU_CD', 'GDS_NM', 'SALE_QTY', 'SALE_PRC', 'SALE_AMT']]"
   ]
  },
  {
   "cell_type": "code",
   "execution_count": 64,
   "id": "44a7f28c",
   "metadata": {},
   "outputs": [],
   "source": [
    "imart = gt156013[['SAL_DT', 'PLU_CD', 'GDS_NM', 'SALE_QTY', 'SALE_PRC', 'SALE_AMT']]"
   ]
  },
  {
   "cell_type": "code",
   "execution_count": 65,
   "id": "c2794f40",
   "metadata": {},
   "outputs": [],
   "source": [
    "jmart = gt164050[['SAL_DT', 'PLU_CD', 'GDS_NM', 'SALE_QTY', 'SALE_PRC', 'SALE_AMT']]"
   ]
  },
  {
   "cell_type": "code",
   "execution_count": 66,
   "id": "a5b54e8b",
   "metadata": {},
   "outputs": [],
   "source": [
    "kmart = gt168009[['SAL_DT', 'PLU_CD', 'GDS_NM', 'SALE_QTY', 'SALE_PRC', 'SALE_AMT']]"
   ]
  },
  {
   "cell_type": "code",
   "execution_count": 67,
   "id": "0112ed32",
   "metadata": {},
   "outputs": [],
   "source": [
    "lmart = gt194001[['SAL_DT', 'PLU_CD', 'GDS_NM', 'SALE_QTY', 'SALE_PRC', 'SALE_AMT']]"
   ]
  },
  {
   "cell_type": "code",
   "execution_count": 68,
   "id": "b5ed8e0c",
   "metadata": {},
   "outputs": [],
   "source": [
    "mmart = gt201001[['SAL_DT', 'PLU_CD', 'GDS_NM', 'SALE_QTY', 'SALE_PRC', 'SALE_AMT']]"
   ]
  },
  {
   "cell_type": "code",
   "execution_count": 69,
   "id": "324488c0",
   "metadata": {},
   "outputs": [],
   "source": [
    "nmart = gt216008[['SAL_DT', 'PLU_CD', 'GDS_NM', 'SALE_QTY', 'SALE_PRC', 'SALE_AMT']]"
   ]
  },
  {
   "cell_type": "code",
   "execution_count": 70,
   "id": "bf02c188",
   "metadata": {},
   "outputs": [],
   "source": [
    "omart = gt227003[['SAL_DT', 'PLU_CD', 'GDS_NM', 'SALE_QTY', 'SALE_PRC', 'SALE_AMT']]"
   ]
  },
  {
   "cell_type": "code",
   "execution_count": 71,
   "id": "619aa242",
   "metadata": {},
   "outputs": [],
   "source": [
    "pmart = gt363004[['SAL_DT', 'PLU_CD', 'GDS_NM', 'SALE_QTY', 'SALE_PRC', 'SALE_AMT']]"
   ]
  },
  {
   "cell_type": "markdown",
   "id": "5a42d1b3",
   "metadata": {},
   "source": [
    "---"
   ]
  },
  {
   "cell_type": "code",
   "execution_count": 72,
   "id": "f8b08d50",
   "metadata": {},
   "outputs": [
    {
     "name": "stdout",
     "output_type": "stream",
     "text": [
      "<class 'pandas.core.frame.DataFrame'>\n",
      "Int64Index: 9372289 entries, 0 to 9372288\n",
      "Data columns (total 6 columns):\n",
      " #   Column    Dtype \n",
      "---  ------    ----- \n",
      " 0   SAL_DT    int64 \n",
      " 1   PLU_CD    object\n",
      " 2   GDS_NM    object\n",
      " 3   SALE_QTY  int32 \n",
      " 4   SALE_PRC  int32 \n",
      " 5   SALE_AMT  int32 \n",
      "dtypes: int32(3), int64(1), object(2)\n",
      "memory usage: 393.3+ MB\n"
     ]
    }
   ],
   "source": [
    "amart.info()"
   ]
  },
  {
   "cell_type": "code",
   "execution_count": 73,
   "id": "c0482e1a",
   "metadata": {},
   "outputs": [
    {
     "name": "stdout",
     "output_type": "stream",
     "text": [
      "<class 'pandas.core.frame.DataFrame'>\n",
      "Int64Index: 416312 entries, 0 to 416311\n",
      "Data columns (total 6 columns):\n",
      " #   Column    Non-Null Count   Dtype \n",
      "---  ------    --------------   ----- \n",
      " 0   SAL_DT    416312 non-null  int64 \n",
      " 1   PLU_CD    416312 non-null  object\n",
      " 2   GDS_NM    416312 non-null  object\n",
      " 3   SALE_QTY  416312 non-null  int32 \n",
      " 4   SALE_PRC  416312 non-null  int32 \n",
      " 5   SALE_AMT  416312 non-null  int32 \n",
      "dtypes: int32(3), int64(1), object(2)\n",
      "memory usage: 17.5+ MB\n"
     ]
    }
   ],
   "source": [
    "pmart.info()"
   ]
  },
  {
   "cell_type": "code",
   "execution_count": null,
   "id": "48d0d9e8",
   "metadata": {},
   "outputs": [],
   "source": []
  },
  {
   "cell_type": "code",
   "execution_count": null,
   "id": "a042ab0f",
   "metadata": {},
   "outputs": [],
   "source": []
  },
  {
   "cell_type": "code",
   "execution_count": 74,
   "id": "8e9c295b",
   "metadata": {},
   "outputs": [
    {
     "data": {
      "text/html": [
       "<div>\n",
       "<style scoped>\n",
       "    .dataframe tbody tr th:only-of-type {\n",
       "        vertical-align: middle;\n",
       "    }\n",
       "\n",
       "    .dataframe tbody tr th {\n",
       "        vertical-align: top;\n",
       "    }\n",
       "\n",
       "    .dataframe thead th {\n",
       "        text-align: right;\n",
       "    }\n",
       "</style>\n",
       "<table border=\"1\" class=\"dataframe\">\n",
       "  <thead>\n",
       "    <tr style=\"text-align: right;\">\n",
       "      <th></th>\n",
       "      <th>SAL_DT</th>\n",
       "      <th>PLU_CD</th>\n",
       "      <th>GDS_NM</th>\n",
       "      <th>SALE_QTY</th>\n",
       "      <th>SALE_PRC</th>\n",
       "      <th>SALE_AMT</th>\n",
       "    </tr>\n",
       "  </thead>\n",
       "  <tbody>\n",
       "    <tr>\n",
       "      <th>0</th>\n",
       "      <td>20220928</td>\n",
       "      <td>1</td>\n",
       "      <td>배송비</td>\n",
       "      <td>1</td>\n",
       "      <td>0</td>\n",
       "      <td>0</td>\n",
       "    </tr>\n",
       "    <tr>\n",
       "      <th>1</th>\n",
       "      <td>20220929</td>\n",
       "      <td>1</td>\n",
       "      <td>배송비</td>\n",
       "      <td>5000</td>\n",
       "      <td>1</td>\n",
       "      <td>5000</td>\n",
       "    </tr>\n",
       "    <tr>\n",
       "      <th>2</th>\n",
       "      <td>20210722</td>\n",
       "      <td>2</td>\n",
       "      <td>사은행사쿠폰</td>\n",
       "      <td>1</td>\n",
       "      <td>0</td>\n",
       "      <td>0</td>\n",
       "    </tr>\n",
       "    <tr>\n",
       "      <th>3</th>\n",
       "      <td>20201222</td>\n",
       "      <td>93682091</td>\n",
       "      <td>스니커즈피넛싱글</td>\n",
       "      <td>1</td>\n",
       "      <td>990</td>\n",
       "      <td>990</td>\n",
       "    </tr>\n",
       "    <tr>\n",
       "      <th>4</th>\n",
       "      <td>20201222</td>\n",
       "      <td>93682091</td>\n",
       "      <td>스니커즈피넛싱글</td>\n",
       "      <td>1</td>\n",
       "      <td>990</td>\n",
       "      <td>990</td>\n",
       "    </tr>\n",
       "    <tr>\n",
       "      <th>...</th>\n",
       "      <td>...</td>\n",
       "      <td>...</td>\n",
       "      <td>...</td>\n",
       "      <td>...</td>\n",
       "      <td>...</td>\n",
       "      <td>...</td>\n",
       "    </tr>\n",
       "    <tr>\n",
       "      <th>416307</th>\n",
       "      <td>20220504</td>\n",
       "      <td>9334214017686</td>\n",
       "      <td>시저)연어와쇠고기 1Kg</td>\n",
       "      <td>1</td>\n",
       "      <td>9900</td>\n",
       "      <td>9900</td>\n",
       "    </tr>\n",
       "    <tr>\n",
       "      <th>416308</th>\n",
       "      <td>20220829</td>\n",
       "      <td>9334214017686</td>\n",
       "      <td>시저)연어와쇠고기 1Kg</td>\n",
       "      <td>1</td>\n",
       "      <td>9900</td>\n",
       "      <td>9900</td>\n",
       "    </tr>\n",
       "    <tr>\n",
       "      <th>416309</th>\n",
       "      <td>20220906</td>\n",
       "      <td>9334214017686</td>\n",
       "      <td>시저)연어와쇠고기 1Kg</td>\n",
       "      <td>1</td>\n",
       "      <td>9900</td>\n",
       "      <td>9900</td>\n",
       "    </tr>\n",
       "    <tr>\n",
       "      <th>416310</th>\n",
       "      <td>20220916</td>\n",
       "      <td>9334214017686</td>\n",
       "      <td>시저)연어와쇠고기 1Kg</td>\n",
       "      <td>1</td>\n",
       "      <td>9900</td>\n",
       "      <td>9900</td>\n",
       "    </tr>\n",
       "    <tr>\n",
       "      <th>416311</th>\n",
       "      <td>20220921</td>\n",
       "      <td>9334214017686</td>\n",
       "      <td>시저)연어와쇠고기 1Kg</td>\n",
       "      <td>1</td>\n",
       "      <td>9900</td>\n",
       "      <td>9900</td>\n",
       "    </tr>\n",
       "  </tbody>\n",
       "</table>\n",
       "<p>24805743 rows × 6 columns</p>\n",
       "</div>"
      ],
      "text/plain": [
       "          SAL_DT         PLU_CD         GDS_NM  SALE_QTY  SALE_PRC  SALE_AMT\n",
       "0       20220928              1            배송비         1         0         0\n",
       "1       20220929              1            배송비      5000         1      5000\n",
       "2       20210722              2         사은행사쿠폰         1         0         0\n",
       "3       20201222       93682091       스니커즈피넛싱글         1       990       990\n",
       "4       20201222       93682091       스니커즈피넛싱글         1       990       990\n",
       "...          ...            ...            ...       ...       ...       ...\n",
       "416307  20220504  9334214017686  시저)연어와쇠고기 1Kg         1      9900      9900\n",
       "416308  20220829  9334214017686  시저)연어와쇠고기 1Kg         1      9900      9900\n",
       "416309  20220906  9334214017686  시저)연어와쇠고기 1Kg         1      9900      9900\n",
       "416310  20220916  9334214017686  시저)연어와쇠고기 1Kg         1      9900      9900\n",
       "416311  20220921  9334214017686  시저)연어와쇠고기 1Kg         1      9900      9900\n",
       "\n",
       "[24805743 rows x 6 columns]"
      ]
     },
     "execution_count": 74,
     "metadata": {},
     "output_type": "execute_result"
    }
   ],
   "source": [
    "cat = pd.concat([amart,bmart,cmart,dmart,emart,fmart,gmart,hmart,imart,jmart,kmart,lmart,mmart,nmart,omart,pmart,])\n",
    "cat"
   ]
  },
  {
   "cell_type": "code",
   "execution_count": 75,
   "id": "7ba6ec4e",
   "metadata": {},
   "outputs": [
    {
     "data": {
      "text/plain": [
       "SAL_DT      0\n",
       "PLU_CD      0\n",
       "GDS_NM      0\n",
       "SALE_QTY    0\n",
       "SALE_PRC    0\n",
       "SALE_AMT    0\n",
       "dtype: int64"
      ]
     },
     "execution_count": 75,
     "metadata": {},
     "output_type": "execute_result"
    }
   ],
   "source": [
    "cat.isnull().sum()"
   ]
  },
  {
   "cell_type": "code",
   "execution_count": 76,
   "id": "2ccd02e8",
   "metadata": {},
   "outputs": [
    {
     "data": {
      "text/html": [
       "<div>\n",
       "<style scoped>\n",
       "    .dataframe tbody tr th:only-of-type {\n",
       "        vertical-align: middle;\n",
       "    }\n",
       "\n",
       "    .dataframe tbody tr th {\n",
       "        vertical-align: top;\n",
       "    }\n",
       "\n",
       "    .dataframe thead th {\n",
       "        text-align: right;\n",
       "    }\n",
       "</style>\n",
       "<table border=\"1\" class=\"dataframe\">\n",
       "  <thead>\n",
       "    <tr style=\"text-align: right;\">\n",
       "      <th></th>\n",
       "      <th>SAL_DT</th>\n",
       "      <th>PLU_CD</th>\n",
       "      <th>GDS_NM</th>\n",
       "      <th>SALE_QTY</th>\n",
       "      <th>SALE_PRC</th>\n",
       "      <th>SALE_AMT</th>\n",
       "    </tr>\n",
       "  </thead>\n",
       "  <tbody>\n",
       "    <tr>\n",
       "      <th>0</th>\n",
       "      <td>20220928</td>\n",
       "      <td>1</td>\n",
       "      <td>배송비</td>\n",
       "      <td>1</td>\n",
       "      <td>0</td>\n",
       "      <td>0</td>\n",
       "    </tr>\n",
       "    <tr>\n",
       "      <th>1</th>\n",
       "      <td>20220929</td>\n",
       "      <td>1</td>\n",
       "      <td>배송비</td>\n",
       "      <td>5000</td>\n",
       "      <td>1</td>\n",
       "      <td>5000</td>\n",
       "    </tr>\n",
       "    <tr>\n",
       "      <th>2</th>\n",
       "      <td>20210722</td>\n",
       "      <td>2</td>\n",
       "      <td>사은행사쿠폰</td>\n",
       "      <td>1</td>\n",
       "      <td>0</td>\n",
       "      <td>0</td>\n",
       "    </tr>\n",
       "    <tr>\n",
       "      <th>3</th>\n",
       "      <td>20201222</td>\n",
       "      <td>93682091</td>\n",
       "      <td>스니커즈피넛싱글</td>\n",
       "      <td>1</td>\n",
       "      <td>990</td>\n",
       "      <td>990</td>\n",
       "    </tr>\n",
       "    <tr>\n",
       "      <th>4</th>\n",
       "      <td>20201222</td>\n",
       "      <td>93682091</td>\n",
       "      <td>스니커즈피넛싱글</td>\n",
       "      <td>1</td>\n",
       "      <td>990</td>\n",
       "      <td>990</td>\n",
       "    </tr>\n",
       "    <tr>\n",
       "      <th>...</th>\n",
       "      <td>...</td>\n",
       "      <td>...</td>\n",
       "      <td>...</td>\n",
       "      <td>...</td>\n",
       "      <td>...</td>\n",
       "      <td>...</td>\n",
       "    </tr>\n",
       "    <tr>\n",
       "      <th>416307</th>\n",
       "      <td>20220504</td>\n",
       "      <td>9334214017686</td>\n",
       "      <td>시저)연어와쇠고기 1Kg</td>\n",
       "      <td>1</td>\n",
       "      <td>9900</td>\n",
       "      <td>9900</td>\n",
       "    </tr>\n",
       "    <tr>\n",
       "      <th>416308</th>\n",
       "      <td>20220829</td>\n",
       "      <td>9334214017686</td>\n",
       "      <td>시저)연어와쇠고기 1Kg</td>\n",
       "      <td>1</td>\n",
       "      <td>9900</td>\n",
       "      <td>9900</td>\n",
       "    </tr>\n",
       "    <tr>\n",
       "      <th>416309</th>\n",
       "      <td>20220906</td>\n",
       "      <td>9334214017686</td>\n",
       "      <td>시저)연어와쇠고기 1Kg</td>\n",
       "      <td>1</td>\n",
       "      <td>9900</td>\n",
       "      <td>9900</td>\n",
       "    </tr>\n",
       "    <tr>\n",
       "      <th>416310</th>\n",
       "      <td>20220916</td>\n",
       "      <td>9334214017686</td>\n",
       "      <td>시저)연어와쇠고기 1Kg</td>\n",
       "      <td>1</td>\n",
       "      <td>9900</td>\n",
       "      <td>9900</td>\n",
       "    </tr>\n",
       "    <tr>\n",
       "      <th>416311</th>\n",
       "      <td>20220921</td>\n",
       "      <td>9334214017686</td>\n",
       "      <td>시저)연어와쇠고기 1Kg</td>\n",
       "      <td>1</td>\n",
       "      <td>9900</td>\n",
       "      <td>9900</td>\n",
       "    </tr>\n",
       "  </tbody>\n",
       "</table>\n",
       "<p>24805743 rows × 6 columns</p>\n",
       "</div>"
      ],
      "text/plain": [
       "          SAL_DT         PLU_CD         GDS_NM  SALE_QTY  SALE_PRC  SALE_AMT\n",
       "0       20220928              1            배송비         1         0         0\n",
       "1       20220929              1            배송비      5000         1      5000\n",
       "2       20210722              2         사은행사쿠폰         1         0         0\n",
       "3       20201222       93682091       스니커즈피넛싱글         1       990       990\n",
       "4       20201222       93682091       스니커즈피넛싱글         1       990       990\n",
       "...          ...            ...            ...       ...       ...       ...\n",
       "416307  20220504  9334214017686  시저)연어와쇠고기 1Kg         1      9900      9900\n",
       "416308  20220829  9334214017686  시저)연어와쇠고기 1Kg         1      9900      9900\n",
       "416309  20220906  9334214017686  시저)연어와쇠고기 1Kg         1      9900      9900\n",
       "416310  20220916  9334214017686  시저)연어와쇠고기 1Kg         1      9900      9900\n",
       "416311  20220921  9334214017686  시저)연어와쇠고기 1Kg         1      9900      9900\n",
       "\n",
       "[24805743 rows x 6 columns]"
      ]
     },
     "execution_count": 76,
     "metadata": {},
     "output_type": "execute_result"
    }
   ],
   "source": [
    "cat"
   ]
  },
  {
   "cell_type": "code",
   "execution_count": 77,
   "id": "1176be6e",
   "metadata": {},
   "outputs": [
    {
     "data": {
      "text/plain": [
       "0                   배송비\n",
       "1                   배송비\n",
       "2                사은행사쿠폰\n",
       "3              스니커즈피넛싱글\n",
       "4              스니커즈피넛싱글\n",
       "              ...      \n",
       "416307    시저 연어와쇠고기 1Kg\n",
       "416308    시저 연어와쇠고기 1Kg\n",
       "416309    시저 연어와쇠고기 1Kg\n",
       "416310    시저 연어와쇠고기 1Kg\n",
       "416311    시저 연어와쇠고기 1Kg\n",
       "Name: GDS_NM, Length: 24805743, dtype: object"
      ]
     },
     "execution_count": 77,
     "metadata": {},
     "output_type": "execute_result"
    }
   ],
   "source": [
    "cat['GDS_NM']= cat['GDS_NM'].str.replace(pat=r'[^\\w]',repl=r' ',regex=True)\n",
    "cat['GDS_NM']"
   ]
  },
  {
   "cell_type": "code",
   "execution_count": 78,
   "id": "dfabb802",
   "metadata": {},
   "outputs": [
    {
     "data": {
      "text/html": [
       "<div>\n",
       "<style scoped>\n",
       "    .dataframe tbody tr th:only-of-type {\n",
       "        vertical-align: middle;\n",
       "    }\n",
       "\n",
       "    .dataframe tbody tr th {\n",
       "        vertical-align: top;\n",
       "    }\n",
       "\n",
       "    .dataframe thead th {\n",
       "        text-align: right;\n",
       "    }\n",
       "</style>\n",
       "<table border=\"1\" class=\"dataframe\">\n",
       "  <thead>\n",
       "    <tr style=\"text-align: right;\">\n",
       "      <th></th>\n",
       "      <th>SAL_DT</th>\n",
       "      <th>PLU_CD</th>\n",
       "      <th>GDS_NM</th>\n",
       "      <th>SALE_QTY</th>\n",
       "      <th>SALE_PRC</th>\n",
       "      <th>SALE_AMT</th>\n",
       "    </tr>\n",
       "  </thead>\n",
       "  <tbody>\n",
       "    <tr>\n",
       "      <th>0</th>\n",
       "      <td>20220928</td>\n",
       "      <td>1</td>\n",
       "      <td>배송비</td>\n",
       "      <td>1</td>\n",
       "      <td>0</td>\n",
       "      <td>0</td>\n",
       "    </tr>\n",
       "    <tr>\n",
       "      <th>1</th>\n",
       "      <td>20220929</td>\n",
       "      <td>1</td>\n",
       "      <td>배송비</td>\n",
       "      <td>5000</td>\n",
       "      <td>1</td>\n",
       "      <td>5000</td>\n",
       "    </tr>\n",
       "    <tr>\n",
       "      <th>2</th>\n",
       "      <td>20210722</td>\n",
       "      <td>2</td>\n",
       "      <td>사은행사쿠폰</td>\n",
       "      <td>1</td>\n",
       "      <td>0</td>\n",
       "      <td>0</td>\n",
       "    </tr>\n",
       "    <tr>\n",
       "      <th>3</th>\n",
       "      <td>20201222</td>\n",
       "      <td>93682091</td>\n",
       "      <td>스니커즈피넛싱글</td>\n",
       "      <td>1</td>\n",
       "      <td>990</td>\n",
       "      <td>990</td>\n",
       "    </tr>\n",
       "    <tr>\n",
       "      <th>4</th>\n",
       "      <td>20201222</td>\n",
       "      <td>93682091</td>\n",
       "      <td>스니커즈피넛싱글</td>\n",
       "      <td>1</td>\n",
       "      <td>990</td>\n",
       "      <td>990</td>\n",
       "    </tr>\n",
       "    <tr>\n",
       "      <th>...</th>\n",
       "      <td>...</td>\n",
       "      <td>...</td>\n",
       "      <td>...</td>\n",
       "      <td>...</td>\n",
       "      <td>...</td>\n",
       "      <td>...</td>\n",
       "    </tr>\n",
       "    <tr>\n",
       "      <th>416307</th>\n",
       "      <td>20220504</td>\n",
       "      <td>9334214017686</td>\n",
       "      <td>시저연어와쇠고기1Kg</td>\n",
       "      <td>1</td>\n",
       "      <td>9900</td>\n",
       "      <td>9900</td>\n",
       "    </tr>\n",
       "    <tr>\n",
       "      <th>416308</th>\n",
       "      <td>20220829</td>\n",
       "      <td>9334214017686</td>\n",
       "      <td>시저연어와쇠고기1Kg</td>\n",
       "      <td>1</td>\n",
       "      <td>9900</td>\n",
       "      <td>9900</td>\n",
       "    </tr>\n",
       "    <tr>\n",
       "      <th>416309</th>\n",
       "      <td>20220906</td>\n",
       "      <td>9334214017686</td>\n",
       "      <td>시저연어와쇠고기1Kg</td>\n",
       "      <td>1</td>\n",
       "      <td>9900</td>\n",
       "      <td>9900</td>\n",
       "    </tr>\n",
       "    <tr>\n",
       "      <th>416310</th>\n",
       "      <td>20220916</td>\n",
       "      <td>9334214017686</td>\n",
       "      <td>시저연어와쇠고기1Kg</td>\n",
       "      <td>1</td>\n",
       "      <td>9900</td>\n",
       "      <td>9900</td>\n",
       "    </tr>\n",
       "    <tr>\n",
       "      <th>416311</th>\n",
       "      <td>20220921</td>\n",
       "      <td>9334214017686</td>\n",
       "      <td>시저연어와쇠고기1Kg</td>\n",
       "      <td>1</td>\n",
       "      <td>9900</td>\n",
       "      <td>9900</td>\n",
       "    </tr>\n",
       "  </tbody>\n",
       "</table>\n",
       "<p>24805743 rows × 6 columns</p>\n",
       "</div>"
      ],
      "text/plain": [
       "          SAL_DT         PLU_CD       GDS_NM  SALE_QTY  SALE_PRC  SALE_AMT\n",
       "0       20220928              1          배송비         1         0         0\n",
       "1       20220929              1          배송비      5000         1      5000\n",
       "2       20210722              2       사은행사쿠폰         1         0         0\n",
       "3       20201222       93682091     스니커즈피넛싱글         1       990       990\n",
       "4       20201222       93682091     스니커즈피넛싱글         1       990       990\n",
       "...          ...            ...          ...       ...       ...       ...\n",
       "416307  20220504  9334214017686  시저연어와쇠고기1Kg         1      9900      9900\n",
       "416308  20220829  9334214017686  시저연어와쇠고기1Kg         1      9900      9900\n",
       "416309  20220906  9334214017686  시저연어와쇠고기1Kg         1      9900      9900\n",
       "416310  20220916  9334214017686  시저연어와쇠고기1Kg         1      9900      9900\n",
       "416311  20220921  9334214017686  시저연어와쇠고기1Kg         1      9900      9900\n",
       "\n",
       "[24805743 rows x 6 columns]"
      ]
     },
     "execution_count": 78,
     "metadata": {},
     "output_type": "execute_result"
    }
   ],
   "source": [
    "cat['GDS_NM'] = cat['GDS_NM'].str.replace(\" \", \"\")\n",
    "cat"
   ]
  },
  {
   "cell_type": "code",
   "execution_count": 79,
   "id": "16677c65",
   "metadata": {},
   "outputs": [
    {
     "data": {
      "text/html": [
       "<div>\n",
       "<style scoped>\n",
       "    .dataframe tbody tr th:only-of-type {\n",
       "        vertical-align: middle;\n",
       "    }\n",
       "\n",
       "    .dataframe tbody tr th {\n",
       "        vertical-align: top;\n",
       "    }\n",
       "\n",
       "    .dataframe thead th {\n",
       "        text-align: right;\n",
       "    }\n",
       "</style>\n",
       "<table border=\"1\" class=\"dataframe\">\n",
       "  <thead>\n",
       "    <tr style=\"text-align: right;\">\n",
       "      <th></th>\n",
       "      <th>SAL_DT</th>\n",
       "      <th>PLU_CD</th>\n",
       "      <th>GDS_NM</th>\n",
       "      <th>SALE_QTY</th>\n",
       "      <th>SALE_PRC</th>\n",
       "      <th>SALE_AMT</th>\n",
       "    </tr>\n",
       "  </thead>\n",
       "  <tbody>\n",
       "    <tr>\n",
       "      <th>0</th>\n",
       "      <td>20220928</td>\n",
       "      <td>1</td>\n",
       "      <td>배송비</td>\n",
       "      <td>1</td>\n",
       "      <td>0</td>\n",
       "      <td>0</td>\n",
       "    </tr>\n",
       "    <tr>\n",
       "      <th>1</th>\n",
       "      <td>20220929</td>\n",
       "      <td>1</td>\n",
       "      <td>배송비</td>\n",
       "      <td>5000</td>\n",
       "      <td>1</td>\n",
       "      <td>5000</td>\n",
       "    </tr>\n",
       "    <tr>\n",
       "      <th>2</th>\n",
       "      <td>20210722</td>\n",
       "      <td>2</td>\n",
       "      <td>사은행사쿠폰</td>\n",
       "      <td>1</td>\n",
       "      <td>0</td>\n",
       "      <td>0</td>\n",
       "    </tr>\n",
       "    <tr>\n",
       "      <th>3</th>\n",
       "      <td>20201222</td>\n",
       "      <td>93682091</td>\n",
       "      <td>스니커즈피넛싱글</td>\n",
       "      <td>1</td>\n",
       "      <td>990</td>\n",
       "      <td>990</td>\n",
       "    </tr>\n",
       "    <tr>\n",
       "      <th>4</th>\n",
       "      <td>20201222</td>\n",
       "      <td>93682091</td>\n",
       "      <td>스니커즈피넛싱글</td>\n",
       "      <td>1</td>\n",
       "      <td>990</td>\n",
       "      <td>990</td>\n",
       "    </tr>\n",
       "    <tr>\n",
       "      <th>...</th>\n",
       "      <td>...</td>\n",
       "      <td>...</td>\n",
       "      <td>...</td>\n",
       "      <td>...</td>\n",
       "      <td>...</td>\n",
       "      <td>...</td>\n",
       "    </tr>\n",
       "    <tr>\n",
       "      <th>416307</th>\n",
       "      <td>20220504</td>\n",
       "      <td>9334214017686</td>\n",
       "      <td>시저연어와쇠고기1Kg</td>\n",
       "      <td>1</td>\n",
       "      <td>9900</td>\n",
       "      <td>9900</td>\n",
       "    </tr>\n",
       "    <tr>\n",
       "      <th>416308</th>\n",
       "      <td>20220829</td>\n",
       "      <td>9334214017686</td>\n",
       "      <td>시저연어와쇠고기1Kg</td>\n",
       "      <td>1</td>\n",
       "      <td>9900</td>\n",
       "      <td>9900</td>\n",
       "    </tr>\n",
       "    <tr>\n",
       "      <th>416309</th>\n",
       "      <td>20220906</td>\n",
       "      <td>9334214017686</td>\n",
       "      <td>시저연어와쇠고기1Kg</td>\n",
       "      <td>1</td>\n",
       "      <td>9900</td>\n",
       "      <td>9900</td>\n",
       "    </tr>\n",
       "    <tr>\n",
       "      <th>416310</th>\n",
       "      <td>20220916</td>\n",
       "      <td>9334214017686</td>\n",
       "      <td>시저연어와쇠고기1Kg</td>\n",
       "      <td>1</td>\n",
       "      <td>9900</td>\n",
       "      <td>9900</td>\n",
       "    </tr>\n",
       "    <tr>\n",
       "      <th>416311</th>\n",
       "      <td>20220921</td>\n",
       "      <td>9334214017686</td>\n",
       "      <td>시저연어와쇠고기1Kg</td>\n",
       "      <td>1</td>\n",
       "      <td>9900</td>\n",
       "      <td>9900</td>\n",
       "    </tr>\n",
       "  </tbody>\n",
       "</table>\n",
       "<p>24805743 rows × 6 columns</p>\n",
       "</div>"
      ],
      "text/plain": [
       "          SAL_DT         PLU_CD       GDS_NM  SALE_QTY  SALE_PRC  SALE_AMT\n",
       "0       20220928              1          배송비         1         0         0\n",
       "1       20220929              1          배송비      5000         1      5000\n",
       "2       20210722              2       사은행사쿠폰         1         0         0\n",
       "3       20201222       93682091     스니커즈피넛싱글         1       990       990\n",
       "4       20201222       93682091     스니커즈피넛싱글         1       990       990\n",
       "...          ...            ...          ...       ...       ...       ...\n",
       "416307  20220504  9334214017686  시저연어와쇠고기1Kg         1      9900      9900\n",
       "416308  20220829  9334214017686  시저연어와쇠고기1Kg         1      9900      9900\n",
       "416309  20220906  9334214017686  시저연어와쇠고기1Kg         1      9900      9900\n",
       "416310  20220916  9334214017686  시저연어와쇠고기1Kg         1      9900      9900\n",
       "416311  20220921  9334214017686  시저연어와쇠고기1Kg         1      9900      9900\n",
       "\n",
       "[24805743 rows x 6 columns]"
      ]
     },
     "execution_count": 79,
     "metadata": {},
     "output_type": "execute_result"
    }
   ],
   "source": [
    "cat"
   ]
  },
  {
   "cell_type": "code",
   "execution_count": 80,
   "id": "77664d89",
   "metadata": {},
   "outputs": [
    {
     "name": "stdout",
     "output_type": "stream",
     "text": [
      "<class 'pandas.core.frame.DataFrame'>\n",
      "Int64Index: 24805743 entries, 0 to 416311\n",
      "Data columns (total 6 columns):\n",
      " #   Column    Dtype \n",
      "---  ------    ----- \n",
      " 0   SAL_DT    int64 \n",
      " 1   PLU_CD    object\n",
      " 2   GDS_NM    object\n",
      " 3   SALE_QTY  int32 \n",
      " 4   SALE_PRC  int32 \n",
      " 5   SALE_AMT  int32 \n",
      "dtypes: int32(3), int64(1), object(2)\n",
      "memory usage: 1.0+ GB\n"
     ]
    }
   ],
   "source": [
    "cat.info()"
   ]
  },
  {
   "cell_type": "code",
   "execution_count": 81,
   "id": "fc2fc35d",
   "metadata": {},
   "outputs": [
    {
     "data": {
      "text/plain": [
       "SAL_DT      0\n",
       "PLU_CD      0\n",
       "GDS_NM      0\n",
       "SALE_QTY    0\n",
       "SALE_PRC    0\n",
       "SALE_AMT    0\n",
       "dtype: int64"
      ]
     },
     "execution_count": 81,
     "metadata": {},
     "output_type": "execute_result"
    }
   ],
   "source": [
    "cat.isnull().sum()"
   ]
  },
  {
   "cell_type": "code",
   "execution_count": 82,
   "id": "bc2edbc2",
   "metadata": {},
   "outputs": [
    {
     "data": {
      "text/html": [
       "<div>\n",
       "<style scoped>\n",
       "    .dataframe tbody tr th:only-of-type {\n",
       "        vertical-align: middle;\n",
       "    }\n",
       "\n",
       "    .dataframe tbody tr th {\n",
       "        vertical-align: top;\n",
       "    }\n",
       "\n",
       "    .dataframe thead th {\n",
       "        text-align: right;\n",
       "    }\n",
       "</style>\n",
       "<table border=\"1\" class=\"dataframe\">\n",
       "  <thead>\n",
       "    <tr style=\"text-align: right;\">\n",
       "      <th></th>\n",
       "      <th>SAL_DT</th>\n",
       "      <th>PLU_CD</th>\n",
       "      <th>GDS_NM</th>\n",
       "      <th>SALE_QTY</th>\n",
       "      <th>SALE_PRC</th>\n",
       "      <th>SALE_AMT</th>\n",
       "    </tr>\n",
       "  </thead>\n",
       "  <tbody>\n",
       "    <tr>\n",
       "      <th>38093</th>\n",
       "      <td>20220402</td>\n",
       "      <td>200131</td>\n",
       "      <td>모듬쌈채류</td>\n",
       "      <td>9999</td>\n",
       "      <td>172720</td>\n",
       "      <td>1727027280</td>\n",
       "    </tr>\n",
       "    <tr>\n",
       "      <th>849716</th>\n",
       "      <td>20220524</td>\n",
       "      <td>8801045420042</td>\n",
       "      <td>오뚜기바삭하고고소한튀김가루</td>\n",
       "      <td>9999</td>\n",
       "      <td>3900</td>\n",
       "      <td>38996100</td>\n",
       "    </tr>\n",
       "    <tr>\n",
       "      <th>49829</th>\n",
       "      <td>20211106</td>\n",
       "      <td>2599990000100</td>\n",
       "      <td>아이스콘1개</td>\n",
       "      <td>9999</td>\n",
       "      <td>900</td>\n",
       "      <td>8999100</td>\n",
       "    </tr>\n",
       "    <tr>\n",
       "      <th>292541</th>\n",
       "      <td>20210919</td>\n",
       "      <td>8809440820009</td>\n",
       "      <td>종이컵박스</td>\n",
       "      <td>9999</td>\n",
       "      <td>9900</td>\n",
       "      <td>98990100</td>\n",
       "    </tr>\n",
       "    <tr>\n",
       "      <th>38094</th>\n",
       "      <td>20220402</td>\n",
       "      <td>200131</td>\n",
       "      <td>모듬쌈채류</td>\n",
       "      <td>9999</td>\n",
       "      <td>170210</td>\n",
       "      <td>1701929790</td>\n",
       "    </tr>\n",
       "    <tr>\n",
       "      <th>456386</th>\n",
       "      <td>20220114</td>\n",
       "      <td>22001566</td>\n",
       "      <td>츄파춥스</td>\n",
       "      <td>9999</td>\n",
       "      <td>250</td>\n",
       "      <td>2499750</td>\n",
       "    </tr>\n",
       "    <tr>\n",
       "      <th>122028</th>\n",
       "      <td>20220317</td>\n",
       "      <td>202024</td>\n",
       "      <td>딸기</td>\n",
       "      <td>9999</td>\n",
       "      <td>10000</td>\n",
       "      <td>99990000</td>\n",
       "    </tr>\n",
       "    <tr>\n",
       "      <th>44417</th>\n",
       "      <td>20220114</td>\n",
       "      <td>200160</td>\n",
       "      <td>백오이</td>\n",
       "      <td>9999</td>\n",
       "      <td>2480</td>\n",
       "      <td>24797520</td>\n",
       "    </tr>\n",
       "    <tr>\n",
       "      <th>1666064</th>\n",
       "      <td>20220421</td>\n",
       "      <td>8809517210078</td>\n",
       "      <td>에그탑특란</td>\n",
       "      <td>9999</td>\n",
       "      <td>10000</td>\n",
       "      <td>79792020</td>\n",
       "    </tr>\n",
       "    <tr>\n",
       "      <th>965765</th>\n",
       "      <td>20220124</td>\n",
       "      <td>8801045299419</td>\n",
       "      <td>오옛날사골곰탕</td>\n",
       "      <td>9999</td>\n",
       "      <td>1000</td>\n",
       "      <td>9999000</td>\n",
       "    </tr>\n",
       "    <tr>\n",
       "      <th>255445</th>\n",
       "      <td>20210919</td>\n",
       "      <td>8802521125819</td>\n",
       "      <td>국순당대박막걸리</td>\n",
       "      <td>9999</td>\n",
       "      <td>1000</td>\n",
       "      <td>9999000</td>\n",
       "    </tr>\n",
       "    <tr>\n",
       "      <th>50244</th>\n",
       "      <td>20211106</td>\n",
       "      <td>2599990000117</td>\n",
       "      <td>잡화</td>\n",
       "      <td>9999</td>\n",
       "      <td>400000</td>\n",
       "      <td>-2147483648</td>\n",
       "    </tr>\n",
       "    <tr>\n",
       "      <th>3710</th>\n",
       "      <td>20210919</td>\n",
       "      <td>2501130000710</td>\n",
       "      <td>소금20kg</td>\n",
       "      <td>9999</td>\n",
       "      <td>27000</td>\n",
       "      <td>269973000</td>\n",
       "    </tr>\n",
       "    <tr>\n",
       "      <th>5748206</th>\n",
       "      <td>20210403</td>\n",
       "      <td>8801048101023</td>\n",
       "      <td>진로이즈백</td>\n",
       "      <td>9982</td>\n",
       "      <td>1350</td>\n",
       "      <td>13475700</td>\n",
       "    </tr>\n",
       "    <tr>\n",
       "      <th>155980</th>\n",
       "      <td>20211020</td>\n",
       "      <td>2999000001064</td>\n",
       "      <td>천하장사</td>\n",
       "      <td>9800</td>\n",
       "      <td>200</td>\n",
       "      <td>1960000</td>\n",
       "    </tr>\n",
       "    <tr>\n",
       "      <th>116929</th>\n",
       "      <td>20220523</td>\n",
       "      <td>22000539</td>\n",
       "      <td>제스프리</td>\n",
       "      <td>9800</td>\n",
       "      <td>5000</td>\n",
       "      <td>49000000</td>\n",
       "    </tr>\n",
       "    <tr>\n",
       "      <th>138201</th>\n",
       "      <td>20220602</td>\n",
       "      <td>2900000000322</td>\n",
       "      <td>공산</td>\n",
       "      <td>9650</td>\n",
       "      <td>4000</td>\n",
       "      <td>38600000</td>\n",
       "    </tr>\n",
       "    <tr>\n",
       "      <th>618049</th>\n",
       "      <td>20220704</td>\n",
       "      <td>8801007227320</td>\n",
       "      <td>CJ백설하얀설탕</td>\n",
       "      <td>9000</td>\n",
       "      <td>12000</td>\n",
       "      <td>71820000</td>\n",
       "    </tr>\n",
       "    <tr>\n",
       "      <th>610614</th>\n",
       "      <td>20220704</td>\n",
       "      <td>8801007144641</td>\n",
       "      <td>CJ갈색설탕</td>\n",
       "      <td>9000</td>\n",
       "      <td>14500</td>\n",
       "      <td>89100000</td>\n",
       "    </tr>\n",
       "    <tr>\n",
       "      <th>119972</th>\n",
       "      <td>20211126</td>\n",
       "      <td>2489898982335</td>\n",
       "      <td>흙대파</td>\n",
       "      <td>9000</td>\n",
       "      <td>990</td>\n",
       "      <td>8910000</td>\n",
       "    </tr>\n",
       "    <tr>\n",
       "      <th>38092</th>\n",
       "      <td>20220402</td>\n",
       "      <td>200131</td>\n",
       "      <td>모듬쌈채류</td>\n",
       "      <td>9000</td>\n",
       "      <td>176650</td>\n",
       "      <td>1589850000</td>\n",
       "    </tr>\n",
       "    <tr>\n",
       "      <th>686655</th>\n",
       "      <td>20220704</td>\n",
       "      <td>8801013113136</td>\n",
       "      <td>큐원하얀설탕</td>\n",
       "      <td>9000</td>\n",
       "      <td>11500</td>\n",
       "      <td>85320000</td>\n",
       "    </tr>\n",
       "    <tr>\n",
       "      <th>686676</th>\n",
       "      <td>20220704</td>\n",
       "      <td>8801013120479</td>\n",
       "      <td>큐원갈색설탕</td>\n",
       "      <td>9000</td>\n",
       "      <td>12500</td>\n",
       "      <td>99000000</td>\n",
       "    </tr>\n",
       "    <tr>\n",
       "      <th>119999</th>\n",
       "      <td>20211130</td>\n",
       "      <td>2489898982335</td>\n",
       "      <td>흙대파</td>\n",
       "      <td>9000</td>\n",
       "      <td>990</td>\n",
       "      <td>8910000</td>\n",
       "    </tr>\n",
       "    <tr>\n",
       "      <th>186241</th>\n",
       "      <td>20211126</td>\n",
       "      <td>8801115111030</td>\n",
       "      <td>서울우유18ℓ</td>\n",
       "      <td>9000</td>\n",
       "      <td>5800</td>\n",
       "      <td>52200000</td>\n",
       "    </tr>\n",
       "    <tr>\n",
       "      <th>136539</th>\n",
       "      <td>20211112</td>\n",
       "      <td>2900000000025</td>\n",
       "      <td>청과</td>\n",
       "      <td>8900</td>\n",
       "      <td>1000</td>\n",
       "      <td>8900000</td>\n",
       "    </tr>\n",
       "    <tr>\n",
       "      <th>963847</th>\n",
       "      <td>20210712</td>\n",
       "      <td>8801115111030</td>\n",
       "      <td>서울우유18</td>\n",
       "      <td>8888</td>\n",
       "      <td>5000</td>\n",
       "      <td>44440000</td>\n",
       "    </tr>\n",
       "    <tr>\n",
       "      <th>585999</th>\n",
       "      <td>20220618</td>\n",
       "      <td>8809246700048</td>\n",
       "      <td>강릉최가심층수두부</td>\n",
       "      <td>8855</td>\n",
       "      <td>2980</td>\n",
       "      <td>17532900</td>\n",
       "    </tr>\n",
       "    <tr>\n",
       "      <th>1183749</th>\n",
       "      <td>20211025</td>\n",
       "      <td>8801056175870</td>\n",
       "      <td>롯데펩시콜라제로250</td>\n",
       "      <td>8801</td>\n",
       "      <td>750</td>\n",
       "      <td>6600750</td>\n",
       "    </tr>\n",
       "    <tr>\n",
       "      <th>33505</th>\n",
       "      <td>20220321</td>\n",
       "      <td>2000000866123</td>\n",
       "      <td>음식물스티커120L</td>\n",
       "      <td>8401</td>\n",
       "      <td>7850</td>\n",
       "      <td>65947850</td>\n",
       "    </tr>\n",
       "  </tbody>\n",
       "</table>\n",
       "</div>"
      ],
      "text/plain": [
       "           SAL_DT         PLU_CD          GDS_NM  SALE_QTY  SALE_PRC  \\\n",
       "38093    20220402         200131           모듬쌈채류      9999    172720   \n",
       "849716   20220524  8801045420042  오뚜기바삭하고고소한튀김가루      9999      3900   \n",
       "49829    20211106  2599990000100          아이스콘1개      9999       900   \n",
       "292541   20210919  8809440820009           종이컵박스      9999      9900   \n",
       "38094    20220402         200131           모듬쌈채류      9999    170210   \n",
       "456386   20220114       22001566            츄파춥스      9999       250   \n",
       "122028   20220317         202024              딸기      9999     10000   \n",
       "44417    20220114         200160             백오이      9999      2480   \n",
       "1666064  20220421  8809517210078           에그탑특란      9999     10000   \n",
       "965765   20220124  8801045299419         오옛날사골곰탕      9999      1000   \n",
       "255445   20210919  8802521125819        국순당대박막걸리      9999      1000   \n",
       "50244    20211106  2599990000117              잡화      9999    400000   \n",
       "3710     20210919  2501130000710          소금20kg      9999     27000   \n",
       "5748206  20210403  8801048101023           진로이즈백      9982      1350   \n",
       "155980   20211020  2999000001064            천하장사      9800       200   \n",
       "116929   20220523       22000539            제스프리      9800      5000   \n",
       "138201   20220602  2900000000322              공산      9650      4000   \n",
       "618049   20220704  8801007227320        CJ백설하얀설탕      9000     12000   \n",
       "610614   20220704  8801007144641          CJ갈색설탕      9000     14500   \n",
       "119972   20211126  2489898982335             흙대파      9000       990   \n",
       "38092    20220402         200131           모듬쌈채류      9000    176650   \n",
       "686655   20220704  8801013113136          큐원하얀설탕      9000     11500   \n",
       "686676   20220704  8801013120479          큐원갈색설탕      9000     12500   \n",
       "119999   20211130  2489898982335             흙대파      9000       990   \n",
       "186241   20211126  8801115111030         서울우유18ℓ      9000      5800   \n",
       "136539   20211112  2900000000025              청과      8900      1000   \n",
       "963847   20210712  8801115111030          서울우유18      8888      5000   \n",
       "585999   20220618  8809246700048       강릉최가심층수두부      8855      2980   \n",
       "1183749  20211025  8801056175870     롯데펩시콜라제로250      8801       750   \n",
       "33505    20220321  2000000866123      음식물스티커120L      8401      7850   \n",
       "\n",
       "           SALE_AMT  \n",
       "38093    1727027280  \n",
       "849716     38996100  \n",
       "49829       8999100  \n",
       "292541     98990100  \n",
       "38094    1701929790  \n",
       "456386      2499750  \n",
       "122028     99990000  \n",
       "44417      24797520  \n",
       "1666064    79792020  \n",
       "965765      9999000  \n",
       "255445      9999000  \n",
       "50244   -2147483648  \n",
       "3710      269973000  \n",
       "5748206    13475700  \n",
       "155980      1960000  \n",
       "116929     49000000  \n",
       "138201     38600000  \n",
       "618049     71820000  \n",
       "610614     89100000  \n",
       "119972      8910000  \n",
       "38092    1589850000  \n",
       "686655     85320000  \n",
       "686676     99000000  \n",
       "119999      8910000  \n",
       "186241     52200000  \n",
       "136539      8900000  \n",
       "963847     44440000  \n",
       "585999     17532900  \n",
       "1183749     6600750  \n",
       "33505      65947850  "
      ]
     },
     "execution_count": 82,
     "metadata": {},
     "output_type": "execute_result"
    }
   ],
   "source": [
    "cat.sort_values('SALE_QTY', ascending=False).head(30)"
   ]
  },
  {
   "cell_type": "code",
   "execution_count": 83,
   "id": "0c737326",
   "metadata": {},
   "outputs": [],
   "source": [
    "drap = cat[cat['PLU_CD'].str.contains('2599990000117')].index\n",
    "cat.drop(drap, inplace=True)"
   ]
  },
  {
   "cell_type": "code",
   "execution_count": 84,
   "id": "542d91f5",
   "metadata": {},
   "outputs": [
    {
     "data": {
      "text/html": [
       "<div>\n",
       "<style scoped>\n",
       "    .dataframe tbody tr th:only-of-type {\n",
       "        vertical-align: middle;\n",
       "    }\n",
       "\n",
       "    .dataframe tbody tr th {\n",
       "        vertical-align: top;\n",
       "    }\n",
       "\n",
       "    .dataframe thead th {\n",
       "        text-align: right;\n",
       "    }\n",
       "</style>\n",
       "<table border=\"1\" class=\"dataframe\">\n",
       "  <thead>\n",
       "    <tr style=\"text-align: right;\">\n",
       "      <th></th>\n",
       "      <th>SAL_DT</th>\n",
       "      <th>PLU_CD</th>\n",
       "      <th>GDS_NM</th>\n",
       "      <th>SALE_QTY</th>\n",
       "      <th>SALE_PRC</th>\n",
       "      <th>SALE_AMT</th>\n",
       "    </tr>\n",
       "  </thead>\n",
       "  <tbody>\n",
       "    <tr>\n",
       "      <th>255445</th>\n",
       "      <td>20210919</td>\n",
       "      <td>8802521125819</td>\n",
       "      <td>국순당대박막걸리</td>\n",
       "      <td>9999</td>\n",
       "      <td>1000</td>\n",
       "      <td>9999000</td>\n",
       "    </tr>\n",
       "    <tr>\n",
       "      <th>1666064</th>\n",
       "      <td>20220421</td>\n",
       "      <td>8809517210078</td>\n",
       "      <td>에그탑특란</td>\n",
       "      <td>9999</td>\n",
       "      <td>10000</td>\n",
       "      <td>79792020</td>\n",
       "    </tr>\n",
       "    <tr>\n",
       "      <th>49829</th>\n",
       "      <td>20211106</td>\n",
       "      <td>2599990000100</td>\n",
       "      <td>아이스콘1개</td>\n",
       "      <td>9999</td>\n",
       "      <td>900</td>\n",
       "      <td>8999100</td>\n",
       "    </tr>\n",
       "    <tr>\n",
       "      <th>122028</th>\n",
       "      <td>20220317</td>\n",
       "      <td>202024</td>\n",
       "      <td>딸기</td>\n",
       "      <td>9999</td>\n",
       "      <td>10000</td>\n",
       "      <td>99990000</td>\n",
       "    </tr>\n",
       "    <tr>\n",
       "      <th>38094</th>\n",
       "      <td>20220402</td>\n",
       "      <td>200131</td>\n",
       "      <td>모듬쌈채류</td>\n",
       "      <td>9999</td>\n",
       "      <td>170210</td>\n",
       "      <td>1701929790</td>\n",
       "    </tr>\n",
       "    <tr>\n",
       "      <th>292541</th>\n",
       "      <td>20210919</td>\n",
       "      <td>8809440820009</td>\n",
       "      <td>종이컵박스</td>\n",
       "      <td>9999</td>\n",
       "      <td>9900</td>\n",
       "      <td>98990100</td>\n",
       "    </tr>\n",
       "    <tr>\n",
       "      <th>3710</th>\n",
       "      <td>20210919</td>\n",
       "      <td>2501130000710</td>\n",
       "      <td>소금20kg</td>\n",
       "      <td>9999</td>\n",
       "      <td>27000</td>\n",
       "      <td>269973000</td>\n",
       "    </tr>\n",
       "    <tr>\n",
       "      <th>849716</th>\n",
       "      <td>20220524</td>\n",
       "      <td>8801045420042</td>\n",
       "      <td>오뚜기바삭하고고소한튀김가루</td>\n",
       "      <td>9999</td>\n",
       "      <td>3900</td>\n",
       "      <td>38996100</td>\n",
       "    </tr>\n",
       "    <tr>\n",
       "      <th>38093</th>\n",
       "      <td>20220402</td>\n",
       "      <td>200131</td>\n",
       "      <td>모듬쌈채류</td>\n",
       "      <td>9999</td>\n",
       "      <td>172720</td>\n",
       "      <td>1727027280</td>\n",
       "    </tr>\n",
       "    <tr>\n",
       "      <th>965765</th>\n",
       "      <td>20220124</td>\n",
       "      <td>8801045299419</td>\n",
       "      <td>오옛날사골곰탕</td>\n",
       "      <td>9999</td>\n",
       "      <td>1000</td>\n",
       "      <td>9999000</td>\n",
       "    </tr>\n",
       "    <tr>\n",
       "      <th>44417</th>\n",
       "      <td>20220114</td>\n",
       "      <td>200160</td>\n",
       "      <td>백오이</td>\n",
       "      <td>9999</td>\n",
       "      <td>2480</td>\n",
       "      <td>24797520</td>\n",
       "    </tr>\n",
       "    <tr>\n",
       "      <th>456386</th>\n",
       "      <td>20220114</td>\n",
       "      <td>22001566</td>\n",
       "      <td>츄파춥스</td>\n",
       "      <td>9999</td>\n",
       "      <td>250</td>\n",
       "      <td>2499750</td>\n",
       "    </tr>\n",
       "    <tr>\n",
       "      <th>5748206</th>\n",
       "      <td>20210403</td>\n",
       "      <td>8801048101023</td>\n",
       "      <td>진로이즈백</td>\n",
       "      <td>9982</td>\n",
       "      <td>1350</td>\n",
       "      <td>13475700</td>\n",
       "    </tr>\n",
       "    <tr>\n",
       "      <th>116929</th>\n",
       "      <td>20220523</td>\n",
       "      <td>22000539</td>\n",
       "      <td>제스프리</td>\n",
       "      <td>9800</td>\n",
       "      <td>5000</td>\n",
       "      <td>49000000</td>\n",
       "    </tr>\n",
       "    <tr>\n",
       "      <th>155980</th>\n",
       "      <td>20211020</td>\n",
       "      <td>2999000001064</td>\n",
       "      <td>천하장사</td>\n",
       "      <td>9800</td>\n",
       "      <td>200</td>\n",
       "      <td>1960000</td>\n",
       "    </tr>\n",
       "    <tr>\n",
       "      <th>138201</th>\n",
       "      <td>20220602</td>\n",
       "      <td>2900000000322</td>\n",
       "      <td>공산</td>\n",
       "      <td>9650</td>\n",
       "      <td>4000</td>\n",
       "      <td>38600000</td>\n",
       "    </tr>\n",
       "    <tr>\n",
       "      <th>686676</th>\n",
       "      <td>20220704</td>\n",
       "      <td>8801013120479</td>\n",
       "      <td>큐원갈색설탕</td>\n",
       "      <td>9000</td>\n",
       "      <td>12500</td>\n",
       "      <td>99000000</td>\n",
       "    </tr>\n",
       "    <tr>\n",
       "      <th>186241</th>\n",
       "      <td>20211126</td>\n",
       "      <td>8801115111030</td>\n",
       "      <td>서울우유18ℓ</td>\n",
       "      <td>9000</td>\n",
       "      <td>5800</td>\n",
       "      <td>52200000</td>\n",
       "    </tr>\n",
       "    <tr>\n",
       "      <th>686655</th>\n",
       "      <td>20220704</td>\n",
       "      <td>8801013113136</td>\n",
       "      <td>큐원하얀설탕</td>\n",
       "      <td>9000</td>\n",
       "      <td>11500</td>\n",
       "      <td>85320000</td>\n",
       "    </tr>\n",
       "    <tr>\n",
       "      <th>119999</th>\n",
       "      <td>20211130</td>\n",
       "      <td>2489898982335</td>\n",
       "      <td>흙대파</td>\n",
       "      <td>9000</td>\n",
       "      <td>990</td>\n",
       "      <td>8910000</td>\n",
       "    </tr>\n",
       "    <tr>\n",
       "      <th>119972</th>\n",
       "      <td>20211126</td>\n",
       "      <td>2489898982335</td>\n",
       "      <td>흙대파</td>\n",
       "      <td>9000</td>\n",
       "      <td>990</td>\n",
       "      <td>8910000</td>\n",
       "    </tr>\n",
       "    <tr>\n",
       "      <th>38092</th>\n",
       "      <td>20220402</td>\n",
       "      <td>200131</td>\n",
       "      <td>모듬쌈채류</td>\n",
       "      <td>9000</td>\n",
       "      <td>176650</td>\n",
       "      <td>1589850000</td>\n",
       "    </tr>\n",
       "    <tr>\n",
       "      <th>618049</th>\n",
       "      <td>20220704</td>\n",
       "      <td>8801007227320</td>\n",
       "      <td>CJ백설하얀설탕</td>\n",
       "      <td>9000</td>\n",
       "      <td>12000</td>\n",
       "      <td>71820000</td>\n",
       "    </tr>\n",
       "    <tr>\n",
       "      <th>610614</th>\n",
       "      <td>20220704</td>\n",
       "      <td>8801007144641</td>\n",
       "      <td>CJ갈색설탕</td>\n",
       "      <td>9000</td>\n",
       "      <td>14500</td>\n",
       "      <td>89100000</td>\n",
       "    </tr>\n",
       "    <tr>\n",
       "      <th>136539</th>\n",
       "      <td>20211112</td>\n",
       "      <td>2900000000025</td>\n",
       "      <td>청과</td>\n",
       "      <td>8900</td>\n",
       "      <td>1000</td>\n",
       "      <td>8900000</td>\n",
       "    </tr>\n",
       "    <tr>\n",
       "      <th>963847</th>\n",
       "      <td>20210712</td>\n",
       "      <td>8801115111030</td>\n",
       "      <td>서울우유18</td>\n",
       "      <td>8888</td>\n",
       "      <td>5000</td>\n",
       "      <td>44440000</td>\n",
       "    </tr>\n",
       "    <tr>\n",
       "      <th>585999</th>\n",
       "      <td>20220618</td>\n",
       "      <td>8809246700048</td>\n",
       "      <td>강릉최가심층수두부</td>\n",
       "      <td>8855</td>\n",
       "      <td>2980</td>\n",
       "      <td>17532900</td>\n",
       "    </tr>\n",
       "    <tr>\n",
       "      <th>1183749</th>\n",
       "      <td>20211025</td>\n",
       "      <td>8801056175870</td>\n",
       "      <td>롯데펩시콜라제로250</td>\n",
       "      <td>8801</td>\n",
       "      <td>750</td>\n",
       "      <td>6600750</td>\n",
       "    </tr>\n",
       "    <tr>\n",
       "      <th>33505</th>\n",
       "      <td>20220321</td>\n",
       "      <td>2000000866123</td>\n",
       "      <td>음식물스티커120L</td>\n",
       "      <td>8401</td>\n",
       "      <td>7850</td>\n",
       "      <td>65947850</td>\n",
       "    </tr>\n",
       "    <tr>\n",
       "      <th>428169</th>\n",
       "      <td>20220411</td>\n",
       "      <td>8806006508227</td>\n",
       "      <td>유한락스후로랄1L12</td>\n",
       "      <td>8076</td>\n",
       "      <td>3100</td>\n",
       "      <td>25035600</td>\n",
       "    </tr>\n",
       "  </tbody>\n",
       "</table>\n",
       "</div>"
      ],
      "text/plain": [
       "           SAL_DT         PLU_CD          GDS_NM  SALE_QTY  SALE_PRC  \\\n",
       "255445   20210919  8802521125819        국순당대박막걸리      9999      1000   \n",
       "1666064  20220421  8809517210078           에그탑특란      9999     10000   \n",
       "49829    20211106  2599990000100          아이스콘1개      9999       900   \n",
       "122028   20220317         202024              딸기      9999     10000   \n",
       "38094    20220402         200131           모듬쌈채류      9999    170210   \n",
       "292541   20210919  8809440820009           종이컵박스      9999      9900   \n",
       "3710     20210919  2501130000710          소금20kg      9999     27000   \n",
       "849716   20220524  8801045420042  오뚜기바삭하고고소한튀김가루      9999      3900   \n",
       "38093    20220402         200131           모듬쌈채류      9999    172720   \n",
       "965765   20220124  8801045299419         오옛날사골곰탕      9999      1000   \n",
       "44417    20220114         200160             백오이      9999      2480   \n",
       "456386   20220114       22001566            츄파춥스      9999       250   \n",
       "5748206  20210403  8801048101023           진로이즈백      9982      1350   \n",
       "116929   20220523       22000539            제스프리      9800      5000   \n",
       "155980   20211020  2999000001064            천하장사      9800       200   \n",
       "138201   20220602  2900000000322              공산      9650      4000   \n",
       "686676   20220704  8801013120479          큐원갈색설탕      9000     12500   \n",
       "186241   20211126  8801115111030         서울우유18ℓ      9000      5800   \n",
       "686655   20220704  8801013113136          큐원하얀설탕      9000     11500   \n",
       "119999   20211130  2489898982335             흙대파      9000       990   \n",
       "119972   20211126  2489898982335             흙대파      9000       990   \n",
       "38092    20220402         200131           모듬쌈채류      9000    176650   \n",
       "618049   20220704  8801007227320        CJ백설하얀설탕      9000     12000   \n",
       "610614   20220704  8801007144641          CJ갈색설탕      9000     14500   \n",
       "136539   20211112  2900000000025              청과      8900      1000   \n",
       "963847   20210712  8801115111030          서울우유18      8888      5000   \n",
       "585999   20220618  8809246700048       강릉최가심층수두부      8855      2980   \n",
       "1183749  20211025  8801056175870     롯데펩시콜라제로250      8801       750   \n",
       "33505    20220321  2000000866123      음식물스티커120L      8401      7850   \n",
       "428169   20220411  8806006508227     유한락스후로랄1L12      8076      3100   \n",
       "\n",
       "           SALE_AMT  \n",
       "255445      9999000  \n",
       "1666064    79792020  \n",
       "49829       8999100  \n",
       "122028     99990000  \n",
       "38094    1701929790  \n",
       "292541     98990100  \n",
       "3710      269973000  \n",
       "849716     38996100  \n",
       "38093    1727027280  \n",
       "965765      9999000  \n",
       "44417      24797520  \n",
       "456386      2499750  \n",
       "5748206    13475700  \n",
       "116929     49000000  \n",
       "155980      1960000  \n",
       "138201     38600000  \n",
       "686676     99000000  \n",
       "186241     52200000  \n",
       "686655     85320000  \n",
       "119999      8910000  \n",
       "119972      8910000  \n",
       "38092    1589850000  \n",
       "618049     71820000  \n",
       "610614     89100000  \n",
       "136539      8900000  \n",
       "963847     44440000  \n",
       "585999     17532900  \n",
       "1183749     6600750  \n",
       "33505      65947850  \n",
       "428169     25035600  "
      ]
     },
     "execution_count": 84,
     "metadata": {},
     "output_type": "execute_result"
    }
   ],
   "source": [
    "cat.sort_values('SALE_QTY', ascending=False).head(30)"
   ]
  },
  {
   "cell_type": "code",
   "execution_count": 85,
   "id": "b00c5e81",
   "metadata": {},
   "outputs": [
    {
     "data": {
      "text/html": [
       "<div>\n",
       "<style scoped>\n",
       "    .dataframe tbody tr th:only-of-type {\n",
       "        vertical-align: middle;\n",
       "    }\n",
       "\n",
       "    .dataframe tbody tr th {\n",
       "        vertical-align: top;\n",
       "    }\n",
       "\n",
       "    .dataframe thead th {\n",
       "        text-align: right;\n",
       "    }\n",
       "</style>\n",
       "<table border=\"1\" class=\"dataframe\">\n",
       "  <thead>\n",
       "    <tr style=\"text-align: right;\">\n",
       "      <th></th>\n",
       "      <th>SAL_DT</th>\n",
       "      <th>PLU_CD</th>\n",
       "      <th>GDS_NM</th>\n",
       "      <th>SALE_QTY</th>\n",
       "      <th>SALE_PRC</th>\n",
       "      <th>SALE_AMT</th>\n",
       "    </tr>\n",
       "  </thead>\n",
       "  <tbody>\n",
       "    <tr>\n",
       "      <th>0</th>\n",
       "      <td>20220928</td>\n",
       "      <td>1</td>\n",
       "      <td>배송비</td>\n",
       "      <td>1</td>\n",
       "      <td>0</td>\n",
       "      <td>0</td>\n",
       "    </tr>\n",
       "    <tr>\n",
       "      <th>1</th>\n",
       "      <td>20220929</td>\n",
       "      <td>1</td>\n",
       "      <td>배송비</td>\n",
       "      <td>5000</td>\n",
       "      <td>1</td>\n",
       "      <td>5000</td>\n",
       "    </tr>\n",
       "    <tr>\n",
       "      <th>2</th>\n",
       "      <td>20210722</td>\n",
       "      <td>2</td>\n",
       "      <td>사은행사쿠폰</td>\n",
       "      <td>1</td>\n",
       "      <td>0</td>\n",
       "      <td>0</td>\n",
       "    </tr>\n",
       "    <tr>\n",
       "      <th>3</th>\n",
       "      <td>20201222</td>\n",
       "      <td>93682091</td>\n",
       "      <td>스니커즈피넛싱글</td>\n",
       "      <td>1</td>\n",
       "      <td>990</td>\n",
       "      <td>990</td>\n",
       "    </tr>\n",
       "    <tr>\n",
       "      <th>4</th>\n",
       "      <td>20201222</td>\n",
       "      <td>93682091</td>\n",
       "      <td>스니커즈피넛싱글</td>\n",
       "      <td>1</td>\n",
       "      <td>990</td>\n",
       "      <td>990</td>\n",
       "    </tr>\n",
       "    <tr>\n",
       "      <th>...</th>\n",
       "      <td>...</td>\n",
       "      <td>...</td>\n",
       "      <td>...</td>\n",
       "      <td>...</td>\n",
       "      <td>...</td>\n",
       "      <td>...</td>\n",
       "    </tr>\n",
       "    <tr>\n",
       "      <th>416307</th>\n",
       "      <td>20220504</td>\n",
       "      <td>9334214017686</td>\n",
       "      <td>시저연어와쇠고기1Kg</td>\n",
       "      <td>1</td>\n",
       "      <td>9900</td>\n",
       "      <td>9900</td>\n",
       "    </tr>\n",
       "    <tr>\n",
       "      <th>416308</th>\n",
       "      <td>20220829</td>\n",
       "      <td>9334214017686</td>\n",
       "      <td>시저연어와쇠고기1Kg</td>\n",
       "      <td>1</td>\n",
       "      <td>9900</td>\n",
       "      <td>9900</td>\n",
       "    </tr>\n",
       "    <tr>\n",
       "      <th>416309</th>\n",
       "      <td>20220906</td>\n",
       "      <td>9334214017686</td>\n",
       "      <td>시저연어와쇠고기1Kg</td>\n",
       "      <td>1</td>\n",
       "      <td>9900</td>\n",
       "      <td>9900</td>\n",
       "    </tr>\n",
       "    <tr>\n",
       "      <th>416310</th>\n",
       "      <td>20220916</td>\n",
       "      <td>9334214017686</td>\n",
       "      <td>시저연어와쇠고기1Kg</td>\n",
       "      <td>1</td>\n",
       "      <td>9900</td>\n",
       "      <td>9900</td>\n",
       "    </tr>\n",
       "    <tr>\n",
       "      <th>416311</th>\n",
       "      <td>20220921</td>\n",
       "      <td>9334214017686</td>\n",
       "      <td>시저연어와쇠고기1Kg</td>\n",
       "      <td>1</td>\n",
       "      <td>9900</td>\n",
       "      <td>9900</td>\n",
       "    </tr>\n",
       "  </tbody>\n",
       "</table>\n",
       "<p>24778719 rows × 6 columns</p>\n",
       "</div>"
      ],
      "text/plain": [
       "          SAL_DT         PLU_CD       GDS_NM  SALE_QTY  SALE_PRC  SALE_AMT\n",
       "0       20220928              1          배송비         1         0         0\n",
       "1       20220929              1          배송비      5000         1      5000\n",
       "2       20210722              2       사은행사쿠폰         1         0         0\n",
       "3       20201222       93682091     스니커즈피넛싱글         1       990       990\n",
       "4       20201222       93682091     스니커즈피넛싱글         1       990       990\n",
       "...          ...            ...          ...       ...       ...       ...\n",
       "416307  20220504  9334214017686  시저연어와쇠고기1Kg         1      9900      9900\n",
       "416308  20220829  9334214017686  시저연어와쇠고기1Kg         1      9900      9900\n",
       "416309  20220906  9334214017686  시저연어와쇠고기1Kg         1      9900      9900\n",
       "416310  20220916  9334214017686  시저연어와쇠고기1Kg         1      9900      9900\n",
       "416311  20220921  9334214017686  시저연어와쇠고기1Kg         1      9900      9900\n",
       "\n",
       "[24778719 rows x 6 columns]"
      ]
     },
     "execution_count": 85,
     "metadata": {},
     "output_type": "execute_result"
    }
   ],
   "source": [
    "cat"
   ]
  },
  {
   "cell_type": "code",
   "execution_count": 86,
   "id": "ad097db4",
   "metadata": {},
   "outputs": [],
   "source": [
    "cat = cat.drop(cat[cat.SALE_AMT==0].index)"
   ]
  },
  {
   "cell_type": "code",
   "execution_count": 87,
   "id": "2ae2dc84",
   "metadata": {},
   "outputs": [
    {
     "data": {
      "text/html": [
       "<div>\n",
       "<style scoped>\n",
       "    .dataframe tbody tr th:only-of-type {\n",
       "        vertical-align: middle;\n",
       "    }\n",
       "\n",
       "    .dataframe tbody tr th {\n",
       "        vertical-align: top;\n",
       "    }\n",
       "\n",
       "    .dataframe thead th {\n",
       "        text-align: right;\n",
       "    }\n",
       "</style>\n",
       "<table border=\"1\" class=\"dataframe\">\n",
       "  <thead>\n",
       "    <tr style=\"text-align: right;\">\n",
       "      <th></th>\n",
       "      <th>SAL_DT</th>\n",
       "      <th>PLU_CD</th>\n",
       "      <th>GDS_NM</th>\n",
       "      <th>SALE_QTY</th>\n",
       "      <th>SALE_PRC</th>\n",
       "      <th>SALE_AMT</th>\n",
       "    </tr>\n",
       "  </thead>\n",
       "  <tbody>\n",
       "    <tr>\n",
       "      <th>4</th>\n",
       "      <td>20201222</td>\n",
       "      <td>93682091</td>\n",
       "      <td>스니커즈피넛싱글</td>\n",
       "      <td>1</td>\n",
       "      <td>990</td>\n",
       "      <td>990</td>\n",
       "    </tr>\n",
       "    <tr>\n",
       "      <th>5</th>\n",
       "      <td>20201223</td>\n",
       "      <td>93682091</td>\n",
       "      <td>스니커즈피넛싱글</td>\n",
       "      <td>1</td>\n",
       "      <td>990</td>\n",
       "      <td>990</td>\n",
       "    </tr>\n",
       "    <tr>\n",
       "      <th>6</th>\n",
       "      <td>20201223</td>\n",
       "      <td>93682091</td>\n",
       "      <td>스니커즈피넛싱글</td>\n",
       "      <td>2</td>\n",
       "      <td>990</td>\n",
       "      <td>1980</td>\n",
       "    </tr>\n",
       "    <tr>\n",
       "      <th>7</th>\n",
       "      <td>20201226</td>\n",
       "      <td>93682091</td>\n",
       "      <td>스니커즈피넛싱글</td>\n",
       "      <td>1</td>\n",
       "      <td>990</td>\n",
       "      <td>990</td>\n",
       "    </tr>\n",
       "    <tr>\n",
       "      <th>8</th>\n",
       "      <td>20201226</td>\n",
       "      <td>93682091</td>\n",
       "      <td>스니커즈피넛싱글</td>\n",
       "      <td>1</td>\n",
       "      <td>990</td>\n",
       "      <td>990</td>\n",
       "    </tr>\n",
       "    <tr>\n",
       "      <th>...</th>\n",
       "      <td>...</td>\n",
       "      <td>...</td>\n",
       "      <td>...</td>\n",
       "      <td>...</td>\n",
       "      <td>...</td>\n",
       "      <td>...</td>\n",
       "    </tr>\n",
       "    <tr>\n",
       "      <th>416307</th>\n",
       "      <td>20220504</td>\n",
       "      <td>9334214017686</td>\n",
       "      <td>시저연어와쇠고기1Kg</td>\n",
       "      <td>1</td>\n",
       "      <td>9900</td>\n",
       "      <td>9900</td>\n",
       "    </tr>\n",
       "    <tr>\n",
       "      <th>416308</th>\n",
       "      <td>20220829</td>\n",
       "      <td>9334214017686</td>\n",
       "      <td>시저연어와쇠고기1Kg</td>\n",
       "      <td>1</td>\n",
       "      <td>9900</td>\n",
       "      <td>9900</td>\n",
       "    </tr>\n",
       "    <tr>\n",
       "      <th>416309</th>\n",
       "      <td>20220906</td>\n",
       "      <td>9334214017686</td>\n",
       "      <td>시저연어와쇠고기1Kg</td>\n",
       "      <td>1</td>\n",
       "      <td>9900</td>\n",
       "      <td>9900</td>\n",
       "    </tr>\n",
       "    <tr>\n",
       "      <th>416310</th>\n",
       "      <td>20220916</td>\n",
       "      <td>9334214017686</td>\n",
       "      <td>시저연어와쇠고기1Kg</td>\n",
       "      <td>1</td>\n",
       "      <td>9900</td>\n",
       "      <td>9900</td>\n",
       "    </tr>\n",
       "    <tr>\n",
       "      <th>416311</th>\n",
       "      <td>20220921</td>\n",
       "      <td>9334214017686</td>\n",
       "      <td>시저연어와쇠고기1Kg</td>\n",
       "      <td>1</td>\n",
       "      <td>9900</td>\n",
       "      <td>9900</td>\n",
       "    </tr>\n",
       "  </tbody>\n",
       "</table>\n",
       "<p>24548776 rows × 6 columns</p>\n",
       "</div>"
      ],
      "text/plain": [
       "          SAL_DT         PLU_CD       GDS_NM  SALE_QTY  SALE_PRC  SALE_AMT\n",
       "4       20201222       93682091     스니커즈피넛싱글         1       990       990\n",
       "5       20201223       93682091     스니커즈피넛싱글         1       990       990\n",
       "6       20201223       93682091     스니커즈피넛싱글         2       990      1980\n",
       "7       20201226       93682091     스니커즈피넛싱글         1       990       990\n",
       "8       20201226       93682091     스니커즈피넛싱글         1       990       990\n",
       "...          ...            ...          ...       ...       ...       ...\n",
       "416307  20220504  9334214017686  시저연어와쇠고기1Kg         1      9900      9900\n",
       "416308  20220829  9334214017686  시저연어와쇠고기1Kg         1      9900      9900\n",
       "416309  20220906  9334214017686  시저연어와쇠고기1Kg         1      9900      9900\n",
       "416310  20220916  9334214017686  시저연어와쇠고기1Kg         1      9900      9900\n",
       "416311  20220921  9334214017686  시저연어와쇠고기1Kg         1      9900      9900\n",
       "\n",
       "[24548776 rows x 6 columns]"
      ]
     },
     "execution_count": 87,
     "metadata": {},
     "output_type": "execute_result"
    }
   ],
   "source": [
    "cat"
   ]
  },
  {
   "cell_type": "code",
   "execution_count": 88,
   "id": "73514aba",
   "metadata": {},
   "outputs": [
    {
     "data": {
      "text/html": [
       "<div>\n",
       "<style scoped>\n",
       "    .dataframe tbody tr th:only-of-type {\n",
       "        vertical-align: middle;\n",
       "    }\n",
       "\n",
       "    .dataframe tbody tr th {\n",
       "        vertical-align: top;\n",
       "    }\n",
       "\n",
       "    .dataframe thead th {\n",
       "        text-align: right;\n",
       "    }\n",
       "</style>\n",
       "<table border=\"1\" class=\"dataframe\">\n",
       "  <thead>\n",
       "    <tr style=\"text-align: right;\">\n",
       "      <th></th>\n",
       "      <th>SAL_DT</th>\n",
       "      <th>PLU_CD</th>\n",
       "      <th>GDS_NM</th>\n",
       "      <th>SALE_QTY</th>\n",
       "      <th>SALE_PRC</th>\n",
       "      <th>SALE_AMT</th>\n",
       "    </tr>\n",
       "  </thead>\n",
       "  <tbody>\n",
       "    <tr>\n",
       "      <th>56864</th>\n",
       "      <td>20220323</td>\n",
       "      <td>201044</td>\n",
       "      <td>딸기</td>\n",
       "      <td>2</td>\n",
       "      <td>880491120</td>\n",
       "      <td>1760982240</td>\n",
       "    </tr>\n",
       "    <tr>\n",
       "      <th>38093</th>\n",
       "      <td>20220402</td>\n",
       "      <td>200131</td>\n",
       "      <td>모듬쌈채류</td>\n",
       "      <td>9999</td>\n",
       "      <td>172720</td>\n",
       "      <td>1727027280</td>\n",
       "    </tr>\n",
       "    <tr>\n",
       "      <th>38094</th>\n",
       "      <td>20220402</td>\n",
       "      <td>200131</td>\n",
       "      <td>모듬쌈채류</td>\n",
       "      <td>9999</td>\n",
       "      <td>170210</td>\n",
       "      <td>1701929790</td>\n",
       "    </tr>\n",
       "    <tr>\n",
       "      <th>38092</th>\n",
       "      <td>20220402</td>\n",
       "      <td>200131</td>\n",
       "      <td>모듬쌈채류</td>\n",
       "      <td>9000</td>\n",
       "      <td>176650</td>\n",
       "      <td>1589850000</td>\n",
       "    </tr>\n",
       "    <tr>\n",
       "      <th>674984</th>\n",
       "      <td>20210926</td>\n",
       "      <td>520000009</td>\n",
       "      <td>망고스틴</td>\n",
       "      <td>1</td>\n",
       "      <td>941181000</td>\n",
       "      <td>941181000</td>\n",
       "    </tr>\n",
       "    <tr>\n",
       "      <th>2670</th>\n",
       "      <td>20220210</td>\n",
       "      <td>200000</td>\n",
       "      <td>청량고추</td>\n",
       "      <td>1</td>\n",
       "      <td>930144000</td>\n",
       "      <td>930144000</td>\n",
       "    </tr>\n",
       "    <tr>\n",
       "      <th>242232</th>\n",
       "      <td>20220110</td>\n",
       "      <td>22000033</td>\n",
       "      <td>식품</td>\n",
       "      <td>3000</td>\n",
       "      <td>300000</td>\n",
       "      <td>900000000</td>\n",
       "    </tr>\n",
       "    <tr>\n",
       "      <th>81077</th>\n",
       "      <td>20211018</td>\n",
       "      <td>200047</td>\n",
       "      <td>청상추1봉</td>\n",
       "      <td>1</td>\n",
       "      <td>880306000</td>\n",
       "      <td>880306000</td>\n",
       "    </tr>\n",
       "    <tr>\n",
       "      <th>1110322</th>\n",
       "      <td>20220813</td>\n",
       "      <td>8801051088151</td>\n",
       "      <td>엘자연퐁용기베이킹소다레몬</td>\n",
       "      <td>1</td>\n",
       "      <td>880109440</td>\n",
       "      <td>880109440</td>\n",
       "    </tr>\n",
       "    <tr>\n",
       "      <th>1199921</th>\n",
       "      <td>20220722</td>\n",
       "      <td>8801056227708</td>\n",
       "      <td>롯데칠성사이다플러스500ml</td>\n",
       "      <td>1</td>\n",
       "      <td>880104890</td>\n",
       "      <td>880104890</td>\n",
       "    </tr>\n",
       "    <tr>\n",
       "      <th>406423</th>\n",
       "      <td>20220122</td>\n",
       "      <td>8801045442723</td>\n",
       "      <td>오옥수수유</td>\n",
       "      <td>1</td>\n",
       "      <td>880100780</td>\n",
       "      <td>880100780</td>\n",
       "    </tr>\n",
       "    <tr>\n",
       "      <th>406422</th>\n",
       "      <td>20220122</td>\n",
       "      <td>8801045442723</td>\n",
       "      <td>오옥수수유</td>\n",
       "      <td>1</td>\n",
       "      <td>880100780</td>\n",
       "      <td>880100780</td>\n",
       "    </tr>\n",
       "    <tr>\n",
       "      <th>406421</th>\n",
       "      <td>20220122</td>\n",
       "      <td>8801045442723</td>\n",
       "      <td>오옥수수유</td>\n",
       "      <td>1</td>\n",
       "      <td>880100780</td>\n",
       "      <td>880100780</td>\n",
       "    </tr>\n",
       "    <tr>\n",
       "      <th>1690874</th>\n",
       "      <td>20210830</td>\n",
       "      <td>8809102740386</td>\n",
       "      <td>왕란</td>\n",
       "      <td>3</td>\n",
       "      <td>288090720</td>\n",
       "      <td>864272160</td>\n",
       "    </tr>\n",
       "    <tr>\n",
       "      <th>742004</th>\n",
       "      <td>20220407</td>\n",
       "      <td>8801118256790</td>\n",
       "      <td>델몬트미니컵홈</td>\n",
       "      <td>1</td>\n",
       "      <td>600012450</td>\n",
       "      <td>600012450</td>\n",
       "    </tr>\n",
       "    <tr>\n",
       "      <th>146173</th>\n",
       "      <td>20220405</td>\n",
       "      <td>2734840004703</td>\n",
       "      <td>배선물세트9과</td>\n",
       "      <td>1</td>\n",
       "      <td>590020000</td>\n",
       "      <td>590020000</td>\n",
       "    </tr>\n",
       "    <tr>\n",
       "      <th>2669</th>\n",
       "      <td>20211213</td>\n",
       "      <td>200000</td>\n",
       "      <td>청량고추</td>\n",
       "      <td>1</td>\n",
       "      <td>518831980</td>\n",
       "      <td>518831980</td>\n",
       "    </tr>\n",
       "    <tr>\n",
       "      <th>85</th>\n",
       "      <td>20220901</td>\n",
       "      <td>200000</td>\n",
       "      <td>다시마</td>\n",
       "      <td>1</td>\n",
       "      <td>490603600</td>\n",
       "      <td>490603600</td>\n",
       "    </tr>\n",
       "    <tr>\n",
       "      <th>667046</th>\n",
       "      <td>20210815</td>\n",
       "      <td>8801115114383</td>\n",
       "      <td>서울우유3651등급우유</td>\n",
       "      <td>2</td>\n",
       "      <td>200113900</td>\n",
       "      <td>400227800</td>\n",
       "    </tr>\n",
       "    <tr>\n",
       "      <th>126660</th>\n",
       "      <td>20210918</td>\n",
       "      <td>2734840001641</td>\n",
       "      <td>햇망양파3kg</td>\n",
       "      <td>2</td>\n",
       "      <td>200025400</td>\n",
       "      <td>400050800</td>\n",
       "    </tr>\n",
       "    <tr>\n",
       "      <th>156542</th>\n",
       "      <td>20220816</td>\n",
       "      <td>3800111203089</td>\n",
       "      <td>크랄스카레몬보드카</td>\n",
       "      <td>1</td>\n",
       "      <td>380011120</td>\n",
       "      <td>380011120</td>\n",
       "    </tr>\n",
       "    <tr>\n",
       "      <th>3539157</th>\n",
       "      <td>20211010</td>\n",
       "      <td>351030</td>\n",
       "      <td>국내산돈가브리살</td>\n",
       "      <td>1</td>\n",
       "      <td>351028000</td>\n",
       "      <td>351028000</td>\n",
       "    </tr>\n",
       "    <tr>\n",
       "      <th>1503194</th>\n",
       "      <td>20220219</td>\n",
       "      <td>2908990004702</td>\n",
       "      <td>쥬키니호박2개</td>\n",
       "      <td>1</td>\n",
       "      <td>351010010</td>\n",
       "      <td>351010010</td>\n",
       "    </tr>\n",
       "    <tr>\n",
       "      <th>3342339</th>\n",
       "      <td>20220411</td>\n",
       "      <td>351001</td>\n",
       "      <td>국내산돈삼겹살</td>\n",
       "      <td>1</td>\n",
       "      <td>351008000</td>\n",
       "      <td>351008000</td>\n",
       "    </tr>\n",
       "    <tr>\n",
       "      <th>285771</th>\n",
       "      <td>20220520</td>\n",
       "      <td>211023</td>\n",
       "      <td>식품</td>\n",
       "      <td>1</td>\n",
       "      <td>292222000</td>\n",
       "      <td>292222000</td>\n",
       "    </tr>\n",
       "    <tr>\n",
       "      <th>581672</th>\n",
       "      <td>20220820</td>\n",
       "      <td>8809182054694</td>\n",
       "      <td>자연담은쌀21년산햅쌀</td>\n",
       "      <td>5940</td>\n",
       "      <td>68000</td>\n",
       "      <td>285120000</td>\n",
       "    </tr>\n",
       "    <tr>\n",
       "      <th>86904</th>\n",
       "      <td>20220420</td>\n",
       "      <td>2000804</td>\n",
       "      <td>천혜향</td>\n",
       "      <td>1</td>\n",
       "      <td>279002000</td>\n",
       "      <td>279002000</td>\n",
       "    </tr>\n",
       "    <tr>\n",
       "      <th>3710</th>\n",
       "      <td>20210919</td>\n",
       "      <td>2501130000710</td>\n",
       "      <td>소금20kg</td>\n",
       "      <td>9999</td>\n",
       "      <td>27000</td>\n",
       "      <td>269973000</td>\n",
       "    </tr>\n",
       "    <tr>\n",
       "      <th>159983</th>\n",
       "      <td>20220107</td>\n",
       "      <td>255341</td>\n",
       "      <td>생삼겹살구이용</td>\n",
       "      <td>1</td>\n",
       "      <td>255103000</td>\n",
       "      <td>229592700</td>\n",
       "    </tr>\n",
       "    <tr>\n",
       "      <th>160918</th>\n",
       "      <td>20220908</td>\n",
       "      <td>290009</td>\n",
       "      <td>과자</td>\n",
       "      <td>1</td>\n",
       "      <td>220000570</td>\n",
       "      <td>220000570</td>\n",
       "    </tr>\n",
       "  </tbody>\n",
       "</table>\n",
       "</div>"
      ],
      "text/plain": [
       "           SAL_DT         PLU_CD           GDS_NM  SALE_QTY   SALE_PRC  \\\n",
       "56864    20220323         201044               딸기         2  880491120   \n",
       "38093    20220402         200131            모듬쌈채류      9999     172720   \n",
       "38094    20220402         200131            모듬쌈채류      9999     170210   \n",
       "38092    20220402         200131            모듬쌈채류      9000     176650   \n",
       "674984   20210926      520000009             망고스틴         1  941181000   \n",
       "2670     20220210         200000             청량고추         1  930144000   \n",
       "242232   20220110       22000033               식품      3000     300000   \n",
       "81077    20211018         200047            청상추1봉         1  880306000   \n",
       "1110322  20220813  8801051088151    엘자연퐁용기베이킹소다레몬         1  880109440   \n",
       "1199921  20220722  8801056227708  롯데칠성사이다플러스500ml         1  880104890   \n",
       "406423   20220122  8801045442723            오옥수수유         1  880100780   \n",
       "406422   20220122  8801045442723            오옥수수유         1  880100780   \n",
       "406421   20220122  8801045442723            오옥수수유         1  880100780   \n",
       "1690874  20210830  8809102740386               왕란         3  288090720   \n",
       "742004   20220407  8801118256790          델몬트미니컵홈         1  600012450   \n",
       "146173   20220405  2734840004703          배선물세트9과         1  590020000   \n",
       "2669     20211213         200000             청량고추         1  518831980   \n",
       "85       20220901         200000              다시마         1  490603600   \n",
       "667046   20210815  8801115114383     서울우유3651등급우유         2  200113900   \n",
       "126660   20210918  2734840001641          햇망양파3kg         2  200025400   \n",
       "156542   20220816  3800111203089        크랄스카레몬보드카         1  380011120   \n",
       "3539157  20211010         351030         국내산돈가브리살         1  351028000   \n",
       "1503194  20220219  2908990004702          쥬키니호박2개         1  351010010   \n",
       "3342339  20220411         351001          국내산돈삼겹살         1  351008000   \n",
       "285771   20220520         211023               식품         1  292222000   \n",
       "581672   20220820  8809182054694      자연담은쌀21년산햅쌀      5940      68000   \n",
       "86904    20220420        2000804              천혜향         1  279002000   \n",
       "3710     20210919  2501130000710           소금20kg      9999      27000   \n",
       "159983   20220107         255341          생삼겹살구이용         1  255103000   \n",
       "160918   20220908         290009               과자         1  220000570   \n",
       "\n",
       "           SALE_AMT  \n",
       "56864    1760982240  \n",
       "38093    1727027280  \n",
       "38094    1701929790  \n",
       "38092    1589850000  \n",
       "674984    941181000  \n",
       "2670      930144000  \n",
       "242232    900000000  \n",
       "81077     880306000  \n",
       "1110322   880109440  \n",
       "1199921   880104890  \n",
       "406423    880100780  \n",
       "406422    880100780  \n",
       "406421    880100780  \n",
       "1690874   864272160  \n",
       "742004    600012450  \n",
       "146173    590020000  \n",
       "2669      518831980  \n",
       "85        490603600  \n",
       "667046    400227800  \n",
       "126660    400050800  \n",
       "156542    380011120  \n",
       "3539157   351028000  \n",
       "1503194   351010010  \n",
       "3342339   351008000  \n",
       "285771    292222000  \n",
       "581672    285120000  \n",
       "86904     279002000  \n",
       "3710      269973000  \n",
       "159983    229592700  \n",
       "160918    220000570  "
      ]
     },
     "execution_count": 88,
     "metadata": {},
     "output_type": "execute_result"
    }
   ],
   "source": [
    "cat.sort_values('SALE_AMT', ascending=False).head(30)"
   ]
  },
  {
   "cell_type": "code",
   "execution_count": null,
   "id": "c47c9a0a",
   "metadata": {},
   "outputs": [],
   "source": []
  },
  {
   "cell_type": "code",
   "execution_count": 89,
   "id": "f1984e4a",
   "metadata": {},
   "outputs": [
    {
     "data": {
      "text/plain": [
       "3500.0"
      ]
     },
     "execution_count": 89,
     "metadata": {},
     "output_type": "execute_result"
    }
   ],
   "source": [
    "q1=cat['SALE_AMT'].quantile(0.25)\n",
    "q2=cat['SALE_AMT'].quantile(0.5)\n",
    "q3=cat['SALE_AMT'].quantile(0.75)\n",
    "iqr=q3-q1\n",
    "iqr"
   ]
  },
  {
   "cell_type": "code",
   "execution_count": 90,
   "id": "b8b50919",
   "metadata": {},
   "outputs": [
    {
     "data": {
      "text/html": [
       "<div>\n",
       "<style scoped>\n",
       "    .dataframe tbody tr th:only-of-type {\n",
       "        vertical-align: middle;\n",
       "    }\n",
       "\n",
       "    .dataframe tbody tr th {\n",
       "        vertical-align: top;\n",
       "    }\n",
       "\n",
       "    .dataframe thead th {\n",
       "        text-align: right;\n",
       "    }\n",
       "</style>\n",
       "<table border=\"1\" class=\"dataframe\">\n",
       "  <thead>\n",
       "    <tr style=\"text-align: right;\">\n",
       "      <th></th>\n",
       "      <th>SAL_DT</th>\n",
       "      <th>PLU_CD</th>\n",
       "      <th>GDS_NM</th>\n",
       "      <th>SALE_QTY</th>\n",
       "      <th>SALE_PRC</th>\n",
       "      <th>SALE_AMT</th>\n",
       "    </tr>\n",
       "  </thead>\n",
       "  <tbody>\n",
       "    <tr>\n",
       "      <th>54</th>\n",
       "      <td>20210213</td>\n",
       "      <td>93682091</td>\n",
       "      <td>스니커즈피넛싱글</td>\n",
       "      <td>24</td>\n",
       "      <td>990</td>\n",
       "      <td>23760</td>\n",
       "    </tr>\n",
       "    <tr>\n",
       "      <th>289</th>\n",
       "      <td>20220424</td>\n",
       "      <td>93682091</td>\n",
       "      <td>스니커즈피넛싱글</td>\n",
       "      <td>24</td>\n",
       "      <td>1100</td>\n",
       "      <td>26400</td>\n",
       "    </tr>\n",
       "    <tr>\n",
       "      <th>309</th>\n",
       "      <td>20220610</td>\n",
       "      <td>93682091</td>\n",
       "      <td>스니커즈피넛싱글</td>\n",
       "      <td>10</td>\n",
       "      <td>1100</td>\n",
       "      <td>11000</td>\n",
       "    </tr>\n",
       "    <tr>\n",
       "      <th>344</th>\n",
       "      <td>20220916</td>\n",
       "      <td>93682091</td>\n",
       "      <td>스니커즈피넛싱글</td>\n",
       "      <td>10</td>\n",
       "      <td>1450</td>\n",
       "      <td>14500</td>\n",
       "    </tr>\n",
       "    <tr>\n",
       "      <th>397</th>\n",
       "      <td>20210213</td>\n",
       "      <td>93682091</td>\n",
       "      <td>스니커즈피넛싱글</td>\n",
       "      <td>24</td>\n",
       "      <td>990</td>\n",
       "      <td>23760</td>\n",
       "    </tr>\n",
       "    <tr>\n",
       "      <th>...</th>\n",
       "      <td>...</td>\n",
       "      <td>...</td>\n",
       "      <td>...</td>\n",
       "      <td>...</td>\n",
       "      <td>...</td>\n",
       "      <td>...</td>\n",
       "    </tr>\n",
       "    <tr>\n",
       "      <th>416213</th>\n",
       "      <td>20220611</td>\n",
       "      <td>8888021203578</td>\n",
       "      <td>에너자이저맥스</td>\n",
       "      <td>1</td>\n",
       "      <td>11500</td>\n",
       "      <td>11500</td>\n",
       "    </tr>\n",
       "    <tr>\n",
       "      <th>416214</th>\n",
       "      <td>20220629</td>\n",
       "      <td>8888021203578</td>\n",
       "      <td>에너자이저맥스</td>\n",
       "      <td>1</td>\n",
       "      <td>11500</td>\n",
       "      <td>11500</td>\n",
       "    </tr>\n",
       "    <tr>\n",
       "      <th>416215</th>\n",
       "      <td>20220629</td>\n",
       "      <td>8888021203578</td>\n",
       "      <td>에너자이저맥스</td>\n",
       "      <td>1</td>\n",
       "      <td>11500</td>\n",
       "      <td>11500</td>\n",
       "    </tr>\n",
       "    <tr>\n",
       "      <th>416216</th>\n",
       "      <td>20220728</td>\n",
       "      <td>8888021203578</td>\n",
       "      <td>에너자이저맥스</td>\n",
       "      <td>1</td>\n",
       "      <td>11500</td>\n",
       "      <td>11500</td>\n",
       "    </tr>\n",
       "    <tr>\n",
       "      <th>416217</th>\n",
       "      <td>20220813</td>\n",
       "      <td>8888021203578</td>\n",
       "      <td>에너자이저맥스</td>\n",
       "      <td>1</td>\n",
       "      <td>11500</td>\n",
       "      <td>11500</td>\n",
       "    </tr>\n",
       "  </tbody>\n",
       "</table>\n",
       "<p>1853446 rows × 6 columns</p>\n",
       "</div>"
      ],
      "text/plain": [
       "          SAL_DT         PLU_CD    GDS_NM  SALE_QTY  SALE_PRC  SALE_AMT\n",
       "54      20210213       93682091  스니커즈피넛싱글        24       990     23760\n",
       "289     20220424       93682091  스니커즈피넛싱글        24      1100     26400\n",
       "309     20220610       93682091  스니커즈피넛싱글        10      1100     11000\n",
       "344     20220916       93682091  스니커즈피넛싱글        10      1450     14500\n",
       "397     20210213       93682091  스니커즈피넛싱글        24       990     23760\n",
       "...          ...            ...       ...       ...       ...       ...\n",
       "416213  20220611  8888021203578   에너자이저맥스         1     11500     11500\n",
       "416214  20220629  8888021203578   에너자이저맥스         1     11500     11500\n",
       "416215  20220629  8888021203578   에너자이저맥스         1     11500     11500\n",
       "416216  20220728  8888021203578   에너자이저맥스         1     11500     11500\n",
       "416217  20220813  8888021203578   에너자이저맥스         1     11500     11500\n",
       "\n",
       "[1853446 rows x 6 columns]"
      ]
     },
     "execution_count": 90,
     "metadata": {},
     "output_type": "execute_result"
    }
   ],
   "source": [
    "condition=cat['SALE_AMT']>q3+1.5*iqr\n",
    "cat[condition]"
   ]
  },
  {
   "cell_type": "code",
   "execution_count": 91,
   "id": "2ec21e24",
   "metadata": {},
   "outputs": [],
   "source": [
    "a=cat[condition].index\n",
    "cat.drop(a,inplace=True)"
   ]
  },
  {
   "cell_type": "code",
   "execution_count": 92,
   "id": "e69745bb",
   "metadata": {},
   "outputs": [
    {
     "data": {
      "text/html": [
       "<div>\n",
       "<style scoped>\n",
       "    .dataframe tbody tr th:only-of-type {\n",
       "        vertical-align: middle;\n",
       "    }\n",
       "\n",
       "    .dataframe tbody tr th {\n",
       "        vertical-align: top;\n",
       "    }\n",
       "\n",
       "    .dataframe thead th {\n",
       "        text-align: right;\n",
       "    }\n",
       "</style>\n",
       "<table border=\"1\" class=\"dataframe\">\n",
       "  <thead>\n",
       "    <tr style=\"text-align: right;\">\n",
       "      <th></th>\n",
       "      <th>SAL_DT</th>\n",
       "      <th>PLU_CD</th>\n",
       "      <th>GDS_NM</th>\n",
       "      <th>SALE_QTY</th>\n",
       "      <th>SALE_PRC</th>\n",
       "      <th>SALE_AMT</th>\n",
       "    </tr>\n",
       "  </thead>\n",
       "  <tbody>\n",
       "    <tr>\n",
       "      <th>4</th>\n",
       "      <td>20201222</td>\n",
       "      <td>93682091</td>\n",
       "      <td>스니커즈피넛싱글</td>\n",
       "      <td>1</td>\n",
       "      <td>990</td>\n",
       "      <td>990</td>\n",
       "    </tr>\n",
       "    <tr>\n",
       "      <th>5</th>\n",
       "      <td>20201223</td>\n",
       "      <td>93682091</td>\n",
       "      <td>스니커즈피넛싱글</td>\n",
       "      <td>1</td>\n",
       "      <td>990</td>\n",
       "      <td>990</td>\n",
       "    </tr>\n",
       "    <tr>\n",
       "      <th>11</th>\n",
       "      <td>20210102</td>\n",
       "      <td>93682091</td>\n",
       "      <td>스니커즈피넛싱글</td>\n",
       "      <td>1</td>\n",
       "      <td>990</td>\n",
       "      <td>990</td>\n",
       "    </tr>\n",
       "    <tr>\n",
       "      <th>17</th>\n",
       "      <td>20210111</td>\n",
       "      <td>93682091</td>\n",
       "      <td>스니커즈피넛싱글</td>\n",
       "      <td>5</td>\n",
       "      <td>990</td>\n",
       "      <td>4950</td>\n",
       "    </tr>\n",
       "    <tr>\n",
       "      <th>18</th>\n",
       "      <td>20210113</td>\n",
       "      <td>93682091</td>\n",
       "      <td>스니커즈피넛싱글</td>\n",
       "      <td>6</td>\n",
       "      <td>990</td>\n",
       "      <td>5940</td>\n",
       "    </tr>\n",
       "    <tr>\n",
       "      <th>...</th>\n",
       "      <td>...</td>\n",
       "      <td>...</td>\n",
       "      <td>...</td>\n",
       "      <td>...</td>\n",
       "      <td>...</td>\n",
       "      <td>...</td>\n",
       "    </tr>\n",
       "    <tr>\n",
       "      <th>415982</th>\n",
       "      <td>20220921</td>\n",
       "      <td>8886467100055</td>\n",
       "      <td>프링글스핫스파이스</td>\n",
       "      <td>2</td>\n",
       "      <td>1980</td>\n",
       "      <td>3960</td>\n",
       "    </tr>\n",
       "    <tr>\n",
       "      <th>415985</th>\n",
       "      <td>20220924</td>\n",
       "      <td>8886467100055</td>\n",
       "      <td>프링글스핫스파이스</td>\n",
       "      <td>1</td>\n",
       "      <td>1980</td>\n",
       "      <td>1980</td>\n",
       "    </tr>\n",
       "    <tr>\n",
       "      <th>415987</th>\n",
       "      <td>20220927</td>\n",
       "      <td>8886467100055</td>\n",
       "      <td>프링글스핫스파이스</td>\n",
       "      <td>1</td>\n",
       "      <td>1980</td>\n",
       "      <td>1980</td>\n",
       "    </tr>\n",
       "    <tr>\n",
       "      <th>415988</th>\n",
       "      <td>20220929</td>\n",
       "      <td>8886467100055</td>\n",
       "      <td>프링글스핫스파이스</td>\n",
       "      <td>2</td>\n",
       "      <td>1980</td>\n",
       "      <td>3960</td>\n",
       "    </tr>\n",
       "    <tr>\n",
       "      <th>415989</th>\n",
       "      <td>20220325</td>\n",
       "      <td>8888021200164</td>\n",
       "      <td>에너자이저AAA</td>\n",
       "      <td>1</td>\n",
       "      <td>2700</td>\n",
       "      <td>2700</td>\n",
       "    </tr>\n",
       "  </tbody>\n",
       "</table>\n",
       "<p>15975947 rows × 6 columns</p>\n",
       "</div>"
      ],
      "text/plain": [
       "          SAL_DT         PLU_CD     GDS_NM  SALE_QTY  SALE_PRC  SALE_AMT\n",
       "4       20201222       93682091   스니커즈피넛싱글         1       990       990\n",
       "5       20201223       93682091   스니커즈피넛싱글         1       990       990\n",
       "11      20210102       93682091   스니커즈피넛싱글         1       990       990\n",
       "17      20210111       93682091   스니커즈피넛싱글         5       990      4950\n",
       "18      20210113       93682091   스니커즈피넛싱글         6       990      5940\n",
       "...          ...            ...        ...       ...       ...       ...\n",
       "415982  20220921  8886467100055  프링글스핫스파이스         2      1980      3960\n",
       "415985  20220924  8886467100055  프링글스핫스파이스         1      1980      1980\n",
       "415987  20220927  8886467100055  프링글스핫스파이스         1      1980      1980\n",
       "415988  20220929  8886467100055  프링글스핫스파이스         2      1980      3960\n",
       "415989  20220325  8888021200164   에너자이저AAA         1      2700      2700\n",
       "\n",
       "[15975947 rows x 6 columns]"
      ]
     },
     "execution_count": 92,
     "metadata": {},
     "output_type": "execute_result"
    }
   ],
   "source": [
    "cat"
   ]
  },
  {
   "cell_type": "code",
   "execution_count": 93,
   "id": "dc779a53",
   "metadata": {},
   "outputs": [
    {
     "data": {
      "text/html": [
       "<div>\n",
       "<style scoped>\n",
       "    .dataframe tbody tr th:only-of-type {\n",
       "        vertical-align: middle;\n",
       "    }\n",
       "\n",
       "    .dataframe tbody tr th {\n",
       "        vertical-align: top;\n",
       "    }\n",
       "\n",
       "    .dataframe thead th {\n",
       "        text-align: right;\n",
       "    }\n",
       "</style>\n",
       "<table border=\"1\" class=\"dataframe\">\n",
       "  <thead>\n",
       "    <tr style=\"text-align: right;\">\n",
       "      <th></th>\n",
       "      <th>SAL_DT</th>\n",
       "      <th>PLU_CD</th>\n",
       "      <th>GDS_NM</th>\n",
       "      <th>SALE_QTY</th>\n",
       "      <th>SALE_PRC</th>\n",
       "      <th>SALE_AMT</th>\n",
       "    </tr>\n",
       "  </thead>\n",
       "  <tbody>\n",
       "    <tr>\n",
       "      <th>4612435</th>\n",
       "      <td>20201220</td>\n",
       "      <td>8801019511820</td>\n",
       "      <td>해태고향만두</td>\n",
       "      <td>1</td>\n",
       "      <td>10250</td>\n",
       "      <td>10250</td>\n",
       "    </tr>\n",
       "    <tr>\n",
       "      <th>3888701</th>\n",
       "      <td>20210409</td>\n",
       "      <td>711062</td>\n",
       "      <td>한우양지국거리</td>\n",
       "      <td>1</td>\n",
       "      <td>10250</td>\n",
       "      <td>10250</td>\n",
       "    </tr>\n",
       "    <tr>\n",
       "      <th>3888614</th>\n",
       "      <td>20210405</td>\n",
       "      <td>711062</td>\n",
       "      <td>한우양지국거리</td>\n",
       "      <td>1</td>\n",
       "      <td>10250</td>\n",
       "      <td>10250</td>\n",
       "    </tr>\n",
       "    <tr>\n",
       "      <th>3888613</th>\n",
       "      <td>20210405</td>\n",
       "      <td>711062</td>\n",
       "      <td>한우양지국거리</td>\n",
       "      <td>1</td>\n",
       "      <td>10250</td>\n",
       "      <td>10250</td>\n",
       "    </tr>\n",
       "    <tr>\n",
       "      <th>3888566</th>\n",
       "      <td>20210403</td>\n",
       "      <td>711062</td>\n",
       "      <td>한우양지국거리</td>\n",
       "      <td>1</td>\n",
       "      <td>10250</td>\n",
       "      <td>10250</td>\n",
       "    </tr>\n",
       "    <tr>\n",
       "      <th>3888509</th>\n",
       "      <td>20210401</td>\n",
       "      <td>711062</td>\n",
       "      <td>한우양지국거리</td>\n",
       "      <td>1</td>\n",
       "      <td>10250</td>\n",
       "      <td>10250</td>\n",
       "    </tr>\n",
       "    <tr>\n",
       "      <th>3830362</th>\n",
       "      <td>20210314</td>\n",
       "      <td>521015</td>\n",
       "      <td>양념돈까스</td>\n",
       "      <td>1</td>\n",
       "      <td>10250</td>\n",
       "      <td>10250</td>\n",
       "    </tr>\n",
       "    <tr>\n",
       "      <th>3888488</th>\n",
       "      <td>20210331</td>\n",
       "      <td>711062</td>\n",
       "      <td>한우양지국거리</td>\n",
       "      <td>1</td>\n",
       "      <td>10250</td>\n",
       "      <td>10250</td>\n",
       "    </tr>\n",
       "    <tr>\n",
       "      <th>3888328</th>\n",
       "      <td>20210325</td>\n",
       "      <td>711062</td>\n",
       "      <td>한우양지국거리</td>\n",
       "      <td>1</td>\n",
       "      <td>10250</td>\n",
       "      <td>10250</td>\n",
       "    </tr>\n",
       "    <tr>\n",
       "      <th>3888313</th>\n",
       "      <td>20210325</td>\n",
       "      <td>711062</td>\n",
       "      <td>한우양지국거리</td>\n",
       "      <td>1</td>\n",
       "      <td>10250</td>\n",
       "      <td>10250</td>\n",
       "    </tr>\n",
       "    <tr>\n",
       "      <th>3888300</th>\n",
       "      <td>20210324</td>\n",
       "      <td>711062</td>\n",
       "      <td>한우양지국거리</td>\n",
       "      <td>1</td>\n",
       "      <td>10250</td>\n",
       "      <td>10250</td>\n",
       "    </tr>\n",
       "    <tr>\n",
       "      <th>3888271</th>\n",
       "      <td>20210323</td>\n",
       "      <td>711062</td>\n",
       "      <td>한우양지국거리</td>\n",
       "      <td>1</td>\n",
       "      <td>10250</td>\n",
       "      <td>10250</td>\n",
       "    </tr>\n",
       "    <tr>\n",
       "      <th>3888256</th>\n",
       "      <td>20210322</td>\n",
       "      <td>711062</td>\n",
       "      <td>한우양지국거리</td>\n",
       "      <td>1</td>\n",
       "      <td>10250</td>\n",
       "      <td>10250</td>\n",
       "    </tr>\n",
       "    <tr>\n",
       "      <th>3888181</th>\n",
       "      <td>20210319</td>\n",
       "      <td>711062</td>\n",
       "      <td>한우양지국거리</td>\n",
       "      <td>1</td>\n",
       "      <td>10250</td>\n",
       "      <td>10250</td>\n",
       "    </tr>\n",
       "    <tr>\n",
       "      <th>3386957</th>\n",
       "      <td>20210823</td>\n",
       "      <td>351006</td>\n",
       "      <td>국내산돈앞다리살</td>\n",
       "      <td>1</td>\n",
       "      <td>10250</td>\n",
       "      <td>10250</td>\n",
       "    </tr>\n",
       "    <tr>\n",
       "      <th>3888176</th>\n",
       "      <td>20210319</td>\n",
       "      <td>711062</td>\n",
       "      <td>한우양지국거리</td>\n",
       "      <td>1</td>\n",
       "      <td>10250</td>\n",
       "      <td>10250</td>\n",
       "    </tr>\n",
       "    <tr>\n",
       "      <th>3888116</th>\n",
       "      <td>20210317</td>\n",
       "      <td>711062</td>\n",
       "      <td>한우양지국거리</td>\n",
       "      <td>1</td>\n",
       "      <td>10250</td>\n",
       "      <td>10250</td>\n",
       "    </tr>\n",
       "    <tr>\n",
       "      <th>3888098</th>\n",
       "      <td>20210316</td>\n",
       "      <td>711062</td>\n",
       "      <td>한우양지국거리</td>\n",
       "      <td>1</td>\n",
       "      <td>10250</td>\n",
       "      <td>10250</td>\n",
       "    </tr>\n",
       "    <tr>\n",
       "      <th>3386862</th>\n",
       "      <td>20210821</td>\n",
       "      <td>351006</td>\n",
       "      <td>국내산돈앞다리살</td>\n",
       "      <td>1</td>\n",
       "      <td>10250</td>\n",
       "      <td>10250</td>\n",
       "    </tr>\n",
       "    <tr>\n",
       "      <th>3888096</th>\n",
       "      <td>20210316</td>\n",
       "      <td>711062</td>\n",
       "      <td>한우양지국거리</td>\n",
       "      <td>1</td>\n",
       "      <td>10250</td>\n",
       "      <td>10250</td>\n",
       "    </tr>\n",
       "    <tr>\n",
       "      <th>3830526</th>\n",
       "      <td>20210403</td>\n",
       "      <td>521015</td>\n",
       "      <td>양념돈까스</td>\n",
       "      <td>1</td>\n",
       "      <td>10250</td>\n",
       "      <td>10250</td>\n",
       "    </tr>\n",
       "    <tr>\n",
       "      <th>3830530</th>\n",
       "      <td>20210403</td>\n",
       "      <td>521015</td>\n",
       "      <td>양념돈까스</td>\n",
       "      <td>1</td>\n",
       "      <td>10250</td>\n",
       "      <td>10250</td>\n",
       "    </tr>\n",
       "    <tr>\n",
       "      <th>3830559</th>\n",
       "      <td>20210405</td>\n",
       "      <td>521015</td>\n",
       "      <td>양념돈까스</td>\n",
       "      <td>1</td>\n",
       "      <td>10250</td>\n",
       "      <td>10250</td>\n",
       "    </tr>\n",
       "    <tr>\n",
       "      <th>3386364</th>\n",
       "      <td>20210812</td>\n",
       "      <td>351006</td>\n",
       "      <td>국내산돈앞다리살</td>\n",
       "      <td>1</td>\n",
       "      <td>10250</td>\n",
       "      <td>10250</td>\n",
       "    </tr>\n",
       "    <tr>\n",
       "      <th>3830659</th>\n",
       "      <td>20210415</td>\n",
       "      <td>521015</td>\n",
       "      <td>양념돈까스</td>\n",
       "      <td>1</td>\n",
       "      <td>10250</td>\n",
       "      <td>10250</td>\n",
       "    </tr>\n",
       "    <tr>\n",
       "      <th>3888698</th>\n",
       "      <td>20210408</td>\n",
       "      <td>711062</td>\n",
       "      <td>한우양지국거리</td>\n",
       "      <td>1</td>\n",
       "      <td>10250</td>\n",
       "      <td>10250</td>\n",
       "    </tr>\n",
       "    <tr>\n",
       "      <th>3888709</th>\n",
       "      <td>20210409</td>\n",
       "      <td>711062</td>\n",
       "      <td>한우양지국거리</td>\n",
       "      <td>1</td>\n",
       "      <td>10250</td>\n",
       "      <td>10250</td>\n",
       "    </tr>\n",
       "    <tr>\n",
       "      <th>3890010</th>\n",
       "      <td>20210524</td>\n",
       "      <td>711062</td>\n",
       "      <td>한우양지국거리</td>\n",
       "      <td>1</td>\n",
       "      <td>10250</td>\n",
       "      <td>10250</td>\n",
       "    </tr>\n",
       "    <tr>\n",
       "      <th>3888825</th>\n",
       "      <td>20210414</td>\n",
       "      <td>711062</td>\n",
       "      <td>한우양지국거리</td>\n",
       "      <td>1</td>\n",
       "      <td>10250</td>\n",
       "      <td>10250</td>\n",
       "    </tr>\n",
       "    <tr>\n",
       "      <th>3889951</th>\n",
       "      <td>20210523</td>\n",
       "      <td>711062</td>\n",
       "      <td>한우양지국거리</td>\n",
       "      <td>1</td>\n",
       "      <td>10250</td>\n",
       "      <td>10250</td>\n",
       "    </tr>\n",
       "  </tbody>\n",
       "</table>\n",
       "</div>"
      ],
      "text/plain": [
       "           SAL_DT         PLU_CD    GDS_NM  SALE_QTY  SALE_PRC  SALE_AMT\n",
       "4612435  20201220  8801019511820    해태고향만두         1     10250     10250\n",
       "3888701  20210409         711062   한우양지국거리         1     10250     10250\n",
       "3888614  20210405         711062   한우양지국거리         1     10250     10250\n",
       "3888613  20210405         711062   한우양지국거리         1     10250     10250\n",
       "3888566  20210403         711062   한우양지국거리         1     10250     10250\n",
       "3888509  20210401         711062   한우양지국거리         1     10250     10250\n",
       "3830362  20210314         521015     양념돈까스         1     10250     10250\n",
       "3888488  20210331         711062   한우양지국거리         1     10250     10250\n",
       "3888328  20210325         711062   한우양지국거리         1     10250     10250\n",
       "3888313  20210325         711062   한우양지국거리         1     10250     10250\n",
       "3888300  20210324         711062   한우양지국거리         1     10250     10250\n",
       "3888271  20210323         711062   한우양지국거리         1     10250     10250\n",
       "3888256  20210322         711062   한우양지국거리         1     10250     10250\n",
       "3888181  20210319         711062   한우양지국거리         1     10250     10250\n",
       "3386957  20210823         351006  국내산돈앞다리살         1     10250     10250\n",
       "3888176  20210319         711062   한우양지국거리         1     10250     10250\n",
       "3888116  20210317         711062   한우양지국거리         1     10250     10250\n",
       "3888098  20210316         711062   한우양지국거리         1     10250     10250\n",
       "3386862  20210821         351006  국내산돈앞다리살         1     10250     10250\n",
       "3888096  20210316         711062   한우양지국거리         1     10250     10250\n",
       "3830526  20210403         521015     양념돈까스         1     10250     10250\n",
       "3830530  20210403         521015     양념돈까스         1     10250     10250\n",
       "3830559  20210405         521015     양념돈까스         1     10250     10250\n",
       "3386364  20210812         351006  국내산돈앞다리살         1     10250     10250\n",
       "3830659  20210415         521015     양념돈까스         1     10250     10250\n",
       "3888698  20210408         711062   한우양지국거리         1     10250     10250\n",
       "3888709  20210409         711062   한우양지국거리         1     10250     10250\n",
       "3890010  20210524         711062   한우양지국거리         1     10250     10250\n",
       "3888825  20210414         711062   한우양지국거리         1     10250     10250\n",
       "3889951  20210523         711062   한우양지국거리         1     10250     10250"
      ]
     },
     "execution_count": 93,
     "metadata": {},
     "output_type": "execute_result"
    }
   ],
   "source": [
    "cat.sort_values('SALE_AMT', ascending=False).head(30)"
   ]
  },
  {
   "cell_type": "code",
   "execution_count": 94,
   "id": "b41fce20",
   "metadata": {},
   "outputs": [],
   "source": [
    "# cat.to_csv('cat1017.csv', index=False)"
   ]
  },
  {
   "cell_type": "code",
   "execution_count": 95,
   "id": "079486f0",
   "metadata": {},
   "outputs": [
    {
     "name": "stderr",
     "output_type": "stream",
     "text": [
      "C:\\Users\\min\\AppData\\Local\\Temp\\ipykernel_9524\\3080142892.py:1: SettingWithCopyWarning: \n",
      "A value is trying to be set on a copy of a slice from a DataFrame.\n",
      "Try using .loc[row_indexer,col_indexer] = value instead\n",
      "\n",
      "See the caveats in the documentation: https://pandas.pydata.org/pandas-docs/stable/user_guide/indexing.html#returning-a-view-versus-a-copy\n",
      "  amart['GDS_NM']= amart['GDS_NM'].str.replace(pat=r'[^\\w]',repl=r' ',regex=True)\n"
     ]
    }
   ],
   "source": [
    "amart['GDS_NM']= amart['GDS_NM'].str.replace(pat=r'[^\\w]',repl=r' ',regex=True)"
   ]
  },
  {
   "cell_type": "code",
   "execution_count": 96,
   "id": "c5c60164",
   "metadata": {},
   "outputs": [
    {
     "name": "stderr",
     "output_type": "stream",
     "text": [
      "C:\\Users\\min\\AppData\\Local\\Temp\\ipykernel_9524\\967139811.py:1: SettingWithCopyWarning: \n",
      "A value is trying to be set on a copy of a slice from a DataFrame.\n",
      "Try using .loc[row_indexer,col_indexer] = value instead\n",
      "\n",
      "See the caveats in the documentation: https://pandas.pydata.org/pandas-docs/stable/user_guide/indexing.html#returning-a-view-versus-a-copy\n",
      "  bmart['GDS_NM']= bmart['GDS_NM'].str.replace(pat=r'[^\\w]',repl=r' ',regex=True)\n"
     ]
    }
   ],
   "source": [
    "bmart['GDS_NM']= bmart['GDS_NM'].str.replace(pat=r'[^\\w]',repl=r' ',regex=True)"
   ]
  },
  {
   "cell_type": "code",
   "execution_count": 97,
   "id": "ea45c7d2",
   "metadata": {},
   "outputs": [
    {
     "name": "stderr",
     "output_type": "stream",
     "text": [
      "C:\\Users\\min\\AppData\\Local\\Temp\\ipykernel_9524\\3657235262.py:1: SettingWithCopyWarning: \n",
      "A value is trying to be set on a copy of a slice from a DataFrame.\n",
      "Try using .loc[row_indexer,col_indexer] = value instead\n",
      "\n",
      "See the caveats in the documentation: https://pandas.pydata.org/pandas-docs/stable/user_guide/indexing.html#returning-a-view-versus-a-copy\n",
      "  cmart['GDS_NM']= cmart['GDS_NM'].str.replace(pat=r'[^\\w]',repl=r' ',regex=True)\n"
     ]
    }
   ],
   "source": [
    "cmart['GDS_NM']= cmart['GDS_NM'].str.replace(pat=r'[^\\w]',repl=r' ',regex=True)"
   ]
  },
  {
   "cell_type": "code",
   "execution_count": 98,
   "id": "008b561e",
   "metadata": {},
   "outputs": [
    {
     "name": "stderr",
     "output_type": "stream",
     "text": [
      "C:\\Users\\min\\AppData\\Local\\Temp\\ipykernel_9524\\1035598593.py:1: SettingWithCopyWarning: \n",
      "A value is trying to be set on a copy of a slice from a DataFrame.\n",
      "Try using .loc[row_indexer,col_indexer] = value instead\n",
      "\n",
      "See the caveats in the documentation: https://pandas.pydata.org/pandas-docs/stable/user_guide/indexing.html#returning-a-view-versus-a-copy\n",
      "  dmart['GDS_NM']= dmart['GDS_NM'].str.replace(pat=r'[^\\w]',repl=r' ',regex=True)\n"
     ]
    }
   ],
   "source": [
    "dmart['GDS_NM']= dmart['GDS_NM'].str.replace(pat=r'[^\\w]',repl=r' ',regex=True)"
   ]
  },
  {
   "cell_type": "code",
   "execution_count": 99,
   "id": "c9f333ae",
   "metadata": {},
   "outputs": [
    {
     "name": "stderr",
     "output_type": "stream",
     "text": [
      "C:\\Users\\min\\AppData\\Local\\Temp\\ipykernel_9524\\1439526364.py:1: SettingWithCopyWarning: \n",
      "A value is trying to be set on a copy of a slice from a DataFrame.\n",
      "Try using .loc[row_indexer,col_indexer] = value instead\n",
      "\n",
      "See the caveats in the documentation: https://pandas.pydata.org/pandas-docs/stable/user_guide/indexing.html#returning-a-view-versus-a-copy\n",
      "  emart['GDS_NM']= emart['GDS_NM'].str.replace(pat=r'[^\\w]',repl=r' ',regex=True)\n"
     ]
    }
   ],
   "source": [
    "emart['GDS_NM']= emart['GDS_NM'].str.replace(pat=r'[^\\w]',repl=r' ',regex=True)"
   ]
  },
  {
   "cell_type": "code",
   "execution_count": 100,
   "id": "8d257576",
   "metadata": {},
   "outputs": [
    {
     "name": "stderr",
     "output_type": "stream",
     "text": [
      "C:\\Users\\min\\AppData\\Local\\Temp\\ipykernel_9524\\2156973165.py:1: SettingWithCopyWarning: \n",
      "A value is trying to be set on a copy of a slice from a DataFrame.\n",
      "Try using .loc[row_indexer,col_indexer] = value instead\n",
      "\n",
      "See the caveats in the documentation: https://pandas.pydata.org/pandas-docs/stable/user_guide/indexing.html#returning-a-view-versus-a-copy\n",
      "  fmart['GDS_NM']= fmart['GDS_NM'].str.replace(pat=r'[^\\w]',repl=r' ',regex=True)\n"
     ]
    }
   ],
   "source": [
    "fmart['GDS_NM']= fmart['GDS_NM'].str.replace(pat=r'[^\\w]',repl=r' ',regex=True)"
   ]
  },
  {
   "cell_type": "code",
   "execution_count": 101,
   "id": "29fb1a7b",
   "metadata": {},
   "outputs": [
    {
     "name": "stderr",
     "output_type": "stream",
     "text": [
      "C:\\Users\\min\\AppData\\Local\\Temp\\ipykernel_9524\\928706471.py:1: SettingWithCopyWarning: \n",
      "A value is trying to be set on a copy of a slice from a DataFrame.\n",
      "Try using .loc[row_indexer,col_indexer] = value instead\n",
      "\n",
      "See the caveats in the documentation: https://pandas.pydata.org/pandas-docs/stable/user_guide/indexing.html#returning-a-view-versus-a-copy\n",
      "  gmart['GDS_NM']= gmart['GDS_NM'].str.replace(pat=r'[^\\w]',repl=r' ',regex=True)\n"
     ]
    }
   ],
   "source": [
    "gmart['GDS_NM']= gmart['GDS_NM'].str.replace(pat=r'[^\\w]',repl=r' ',regex=True)"
   ]
  },
  {
   "cell_type": "code",
   "execution_count": 102,
   "id": "3a770d76",
   "metadata": {},
   "outputs": [
    {
     "name": "stderr",
     "output_type": "stream",
     "text": [
      "C:\\Users\\min\\AppData\\Local\\Temp\\ipykernel_9524\\25282870.py:1: SettingWithCopyWarning: \n",
      "A value is trying to be set on a copy of a slice from a DataFrame.\n",
      "Try using .loc[row_indexer,col_indexer] = value instead\n",
      "\n",
      "See the caveats in the documentation: https://pandas.pydata.org/pandas-docs/stable/user_guide/indexing.html#returning-a-view-versus-a-copy\n",
      "  hmart['GDS_NM']= hmart['GDS_NM'].str.replace(pat=r'[^\\w]',repl=r' ',regex=True)\n"
     ]
    }
   ],
   "source": [
    "hmart['GDS_NM']= hmart['GDS_NM'].str.replace(pat=r'[^\\w]',repl=r' ',regex=True)"
   ]
  },
  {
   "cell_type": "code",
   "execution_count": 103,
   "id": "8e3b733e",
   "metadata": {},
   "outputs": [
    {
     "name": "stderr",
     "output_type": "stream",
     "text": [
      "C:\\Users\\min\\AppData\\Local\\Temp\\ipykernel_9524\\662183045.py:1: SettingWithCopyWarning: \n",
      "A value is trying to be set on a copy of a slice from a DataFrame.\n",
      "Try using .loc[row_indexer,col_indexer] = value instead\n",
      "\n",
      "See the caveats in the documentation: https://pandas.pydata.org/pandas-docs/stable/user_guide/indexing.html#returning-a-view-versus-a-copy\n",
      "  imart['GDS_NM']= imart['GDS_NM'].str.replace(pat=r'[^\\w]',repl=r' ',regex=True)\n"
     ]
    }
   ],
   "source": [
    "imart['GDS_NM']= imart['GDS_NM'].str.replace(pat=r'[^\\w]',repl=r' ',regex=True)"
   ]
  },
  {
   "cell_type": "code",
   "execution_count": 104,
   "id": "e7b80fb0",
   "metadata": {},
   "outputs": [
    {
     "name": "stderr",
     "output_type": "stream",
     "text": [
      "C:\\Users\\min\\AppData\\Local\\Temp\\ipykernel_9524\\3849642933.py:1: SettingWithCopyWarning: \n",
      "A value is trying to be set on a copy of a slice from a DataFrame.\n",
      "Try using .loc[row_indexer,col_indexer] = value instead\n",
      "\n",
      "See the caveats in the documentation: https://pandas.pydata.org/pandas-docs/stable/user_guide/indexing.html#returning-a-view-versus-a-copy\n",
      "  jmart['GDS_NM']= jmart['GDS_NM'].str.replace(pat=r'[^\\w]',repl=r' ',regex=True)\n"
     ]
    }
   ],
   "source": [
    "jmart['GDS_NM']= jmart['GDS_NM'].str.replace(pat=r'[^\\w]',repl=r' ',regex=True)"
   ]
  },
  {
   "cell_type": "code",
   "execution_count": 105,
   "id": "c9b45df9",
   "metadata": {},
   "outputs": [
    {
     "name": "stderr",
     "output_type": "stream",
     "text": [
      "C:\\Users\\min\\AppData\\Local\\Temp\\ipykernel_9524\\2082119223.py:1: SettingWithCopyWarning: \n",
      "A value is trying to be set on a copy of a slice from a DataFrame.\n",
      "Try using .loc[row_indexer,col_indexer] = value instead\n",
      "\n",
      "See the caveats in the documentation: https://pandas.pydata.org/pandas-docs/stable/user_guide/indexing.html#returning-a-view-versus-a-copy\n",
      "  kmart['GDS_NM']= kmart['GDS_NM'].str.replace(pat=r'[^\\w]',repl=r' ',regex=True)\n"
     ]
    }
   ],
   "source": [
    "kmart['GDS_NM']= kmart['GDS_NM'].str.replace(pat=r'[^\\w]',repl=r' ',regex=True)"
   ]
  },
  {
   "cell_type": "code",
   "execution_count": 106,
   "id": "4dac079f",
   "metadata": {},
   "outputs": [
    {
     "name": "stderr",
     "output_type": "stream",
     "text": [
      "C:\\Users\\min\\AppData\\Local\\Temp\\ipykernel_9524\\2911249751.py:1: SettingWithCopyWarning: \n",
      "A value is trying to be set on a copy of a slice from a DataFrame.\n",
      "Try using .loc[row_indexer,col_indexer] = value instead\n",
      "\n",
      "See the caveats in the documentation: https://pandas.pydata.org/pandas-docs/stable/user_guide/indexing.html#returning-a-view-versus-a-copy\n",
      "  lmart['GDS_NM']= lmart['GDS_NM'].str.replace(pat=r'[^\\w]',repl=r' ',regex=True)\n"
     ]
    }
   ],
   "source": [
    "lmart['GDS_NM']= lmart['GDS_NM'].str.replace(pat=r'[^\\w]',repl=r' ',regex=True)"
   ]
  },
  {
   "cell_type": "code",
   "execution_count": 107,
   "id": "60fecccf",
   "metadata": {},
   "outputs": [
    {
     "name": "stderr",
     "output_type": "stream",
     "text": [
      "C:\\Users\\min\\AppData\\Local\\Temp\\ipykernel_9524\\3786957636.py:1: SettingWithCopyWarning: \n",
      "A value is trying to be set on a copy of a slice from a DataFrame.\n",
      "Try using .loc[row_indexer,col_indexer] = value instead\n",
      "\n",
      "See the caveats in the documentation: https://pandas.pydata.org/pandas-docs/stable/user_guide/indexing.html#returning-a-view-versus-a-copy\n",
      "  mmart['GDS_NM']= mmart['GDS_NM'].str.replace(pat=r'[^\\w]',repl=r' ',regex=True)\n"
     ]
    }
   ],
   "source": [
    "mmart['GDS_NM']= mmart['GDS_NM'].str.replace(pat=r'[^\\w]',repl=r' ',regex=True)"
   ]
  },
  {
   "cell_type": "code",
   "execution_count": 108,
   "id": "9e5ee192",
   "metadata": {},
   "outputs": [
    {
     "name": "stderr",
     "output_type": "stream",
     "text": [
      "C:\\Users\\min\\AppData\\Local\\Temp\\ipykernel_9524\\2172425848.py:1: SettingWithCopyWarning: \n",
      "A value is trying to be set on a copy of a slice from a DataFrame.\n",
      "Try using .loc[row_indexer,col_indexer] = value instead\n",
      "\n",
      "See the caveats in the documentation: https://pandas.pydata.org/pandas-docs/stable/user_guide/indexing.html#returning-a-view-versus-a-copy\n",
      "  nmart['GDS_NM']= nmart['GDS_NM'].str.replace(pat=r'[^\\w]',repl=r' ',regex=True)\n"
     ]
    }
   ],
   "source": [
    "nmart['GDS_NM']= nmart['GDS_NM'].str.replace(pat=r'[^\\w]',repl=r' ',regex=True)"
   ]
  },
  {
   "cell_type": "code",
   "execution_count": 109,
   "id": "52a37eaa",
   "metadata": {},
   "outputs": [
    {
     "name": "stderr",
     "output_type": "stream",
     "text": [
      "C:\\Users\\min\\AppData\\Local\\Temp\\ipykernel_9524\\57238121.py:1: SettingWithCopyWarning: \n",
      "A value is trying to be set on a copy of a slice from a DataFrame.\n",
      "Try using .loc[row_indexer,col_indexer] = value instead\n",
      "\n",
      "See the caveats in the documentation: https://pandas.pydata.org/pandas-docs/stable/user_guide/indexing.html#returning-a-view-versus-a-copy\n",
      "  omart['GDS_NM']= omart['GDS_NM'].str.replace(pat=r'[^\\w]',repl=r' ',regex=True)\n"
     ]
    }
   ],
   "source": [
    "omart['GDS_NM']= omart['GDS_NM'].str.replace(pat=r'[^\\w]',repl=r' ',regex=True)"
   ]
  },
  {
   "cell_type": "code",
   "execution_count": 110,
   "id": "cd2feff3",
   "metadata": {},
   "outputs": [
    {
     "name": "stderr",
     "output_type": "stream",
     "text": [
      "C:\\Users\\min\\AppData\\Local\\Temp\\ipykernel_9524\\406490079.py:1: SettingWithCopyWarning: \n",
      "A value is trying to be set on a copy of a slice from a DataFrame.\n",
      "Try using .loc[row_indexer,col_indexer] = value instead\n",
      "\n",
      "See the caveats in the documentation: https://pandas.pydata.org/pandas-docs/stable/user_guide/indexing.html#returning-a-view-versus-a-copy\n",
      "  pmart['GDS_NM']= pmart['GDS_NM'].str.replace(pat=r'[^\\w]',repl=r' ',regex=True)\n"
     ]
    }
   ],
   "source": [
    "pmart['GDS_NM']= pmart['GDS_NM'].str.replace(pat=r'[^\\w]',repl=r' ',regex=True)"
   ]
  },
  {
   "cell_type": "code",
   "execution_count": null,
   "id": "57d75c67",
   "metadata": {},
   "outputs": [],
   "source": []
  },
  {
   "cell_type": "code",
   "execution_count": 111,
   "id": "9e82887c",
   "metadata": {},
   "outputs": [
    {
     "name": "stderr",
     "output_type": "stream",
     "text": [
      "C:\\Users\\min\\AppData\\Local\\Temp\\ipykernel_9524\\1785392373.py:1: SettingWithCopyWarning: \n",
      "A value is trying to be set on a copy of a slice from a DataFrame.\n",
      "Try using .loc[row_indexer,col_indexer] = value instead\n",
      "\n",
      "See the caveats in the documentation: https://pandas.pydata.org/pandas-docs/stable/user_guide/indexing.html#returning-a-view-versus-a-copy\n",
      "  amart['GDS_NM'] = amart['GDS_NM'].str.replace(\" \", \"\")\n"
     ]
    }
   ],
   "source": [
    "amart['GDS_NM'] = amart['GDS_NM'].str.replace(\" \", \"\")"
   ]
  },
  {
   "cell_type": "code",
   "execution_count": 112,
   "id": "a0f65516",
   "metadata": {},
   "outputs": [
    {
     "name": "stderr",
     "output_type": "stream",
     "text": [
      "C:\\Users\\min\\AppData\\Local\\Temp\\ipykernel_9524\\315580031.py:1: SettingWithCopyWarning: \n",
      "A value is trying to be set on a copy of a slice from a DataFrame.\n",
      "Try using .loc[row_indexer,col_indexer] = value instead\n",
      "\n",
      "See the caveats in the documentation: https://pandas.pydata.org/pandas-docs/stable/user_guide/indexing.html#returning-a-view-versus-a-copy\n",
      "  bmart['GDS_NM'] = bmart['GDS_NM'].str.replace(\" \", \"\")\n"
     ]
    }
   ],
   "source": [
    "bmart['GDS_NM'] = bmart['GDS_NM'].str.replace(\" \", \"\")"
   ]
  },
  {
   "cell_type": "code",
   "execution_count": 113,
   "id": "ba1b7893",
   "metadata": {},
   "outputs": [
    {
     "name": "stderr",
     "output_type": "stream",
     "text": [
      "C:\\Users\\min\\AppData\\Local\\Temp\\ipykernel_9524\\4004267277.py:1: SettingWithCopyWarning: \n",
      "A value is trying to be set on a copy of a slice from a DataFrame.\n",
      "Try using .loc[row_indexer,col_indexer] = value instead\n",
      "\n",
      "See the caveats in the documentation: https://pandas.pydata.org/pandas-docs/stable/user_guide/indexing.html#returning-a-view-versus-a-copy\n",
      "  cmart['GDS_NM'] = cmart['GDS_NM'].str.replace(\" \", \"\")\n"
     ]
    }
   ],
   "source": [
    "cmart['GDS_NM'] = cmart['GDS_NM'].str.replace(\" \", \"\")"
   ]
  },
  {
   "cell_type": "code",
   "execution_count": 114,
   "id": "653bacab",
   "metadata": {},
   "outputs": [
    {
     "name": "stderr",
     "output_type": "stream",
     "text": [
      "C:\\Users\\min\\AppData\\Local\\Temp\\ipykernel_9524\\3117476720.py:1: SettingWithCopyWarning: \n",
      "A value is trying to be set on a copy of a slice from a DataFrame.\n",
      "Try using .loc[row_indexer,col_indexer] = value instead\n",
      "\n",
      "See the caveats in the documentation: https://pandas.pydata.org/pandas-docs/stable/user_guide/indexing.html#returning-a-view-versus-a-copy\n",
      "  dmart['GDS_NM'] = dmart['GDS_NM'].str.replace(\" \", \"\")\n"
     ]
    }
   ],
   "source": [
    "dmart['GDS_NM'] = dmart['GDS_NM'].str.replace(\" \", \"\")"
   ]
  },
  {
   "cell_type": "code",
   "execution_count": 115,
   "id": "b3f9bbcb",
   "metadata": {},
   "outputs": [
    {
     "name": "stderr",
     "output_type": "stream",
     "text": [
      "C:\\Users\\min\\AppData\\Local\\Temp\\ipykernel_9524\\535662874.py:1: SettingWithCopyWarning: \n",
      "A value is trying to be set on a copy of a slice from a DataFrame.\n",
      "Try using .loc[row_indexer,col_indexer] = value instead\n",
      "\n",
      "See the caveats in the documentation: https://pandas.pydata.org/pandas-docs/stable/user_guide/indexing.html#returning-a-view-versus-a-copy\n",
      "  emart['GDS_NM'] = emart['GDS_NM'].str.replace(\" \", \"\")\n"
     ]
    }
   ],
   "source": [
    "emart['GDS_NM'] = emart['GDS_NM'].str.replace(\" \", \"\")"
   ]
  },
  {
   "cell_type": "code",
   "execution_count": 116,
   "id": "a9d526e6",
   "metadata": {},
   "outputs": [
    {
     "name": "stderr",
     "output_type": "stream",
     "text": [
      "C:\\Users\\min\\AppData\\Local\\Temp\\ipykernel_9524\\4219632656.py:1: SettingWithCopyWarning: \n",
      "A value is trying to be set on a copy of a slice from a DataFrame.\n",
      "Try using .loc[row_indexer,col_indexer] = value instead\n",
      "\n",
      "See the caveats in the documentation: https://pandas.pydata.org/pandas-docs/stable/user_guide/indexing.html#returning-a-view-versus-a-copy\n",
      "  fmart['GDS_NM'] = fmart['GDS_NM'].str.replace(\" \", \"\")\n"
     ]
    }
   ],
   "source": [
    "fmart['GDS_NM'] = fmart['GDS_NM'].str.replace(\" \", \"\")"
   ]
  },
  {
   "cell_type": "code",
   "execution_count": 117,
   "id": "9f8f938f",
   "metadata": {},
   "outputs": [
    {
     "name": "stderr",
     "output_type": "stream",
     "text": [
      "C:\\Users\\min\\AppData\\Local\\Temp\\ipykernel_9524\\3657432844.py:1: SettingWithCopyWarning: \n",
      "A value is trying to be set on a copy of a slice from a DataFrame.\n",
      "Try using .loc[row_indexer,col_indexer] = value instead\n",
      "\n",
      "See the caveats in the documentation: https://pandas.pydata.org/pandas-docs/stable/user_guide/indexing.html#returning-a-view-versus-a-copy\n",
      "  gmart['GDS_NM'] = gmart['GDS_NM'].str.replace(\" \", \"\")\n"
     ]
    }
   ],
   "source": [
    "gmart['GDS_NM'] = gmart['GDS_NM'].str.replace(\" \", \"\")"
   ]
  },
  {
   "cell_type": "code",
   "execution_count": 118,
   "id": "8b13de23",
   "metadata": {},
   "outputs": [
    {
     "name": "stderr",
     "output_type": "stream",
     "text": [
      "C:\\Users\\min\\AppData\\Local\\Temp\\ipykernel_9524\\1278260199.py:1: SettingWithCopyWarning: \n",
      "A value is trying to be set on a copy of a slice from a DataFrame.\n",
      "Try using .loc[row_indexer,col_indexer] = value instead\n",
      "\n",
      "See the caveats in the documentation: https://pandas.pydata.org/pandas-docs/stable/user_guide/indexing.html#returning-a-view-versus-a-copy\n",
      "  hmart['GDS_NM'] = hmart['GDS_NM'].str.replace(\" \", \"\")\n"
     ]
    }
   ],
   "source": [
    "hmart['GDS_NM'] = hmart['GDS_NM'].str.replace(\" \", \"\")"
   ]
  },
  {
   "cell_type": "code",
   "execution_count": 119,
   "id": "49164a26",
   "metadata": {},
   "outputs": [
    {
     "name": "stderr",
     "output_type": "stream",
     "text": [
      "C:\\Users\\min\\AppData\\Local\\Temp\\ipykernel_9524\\640070362.py:1: SettingWithCopyWarning: \n",
      "A value is trying to be set on a copy of a slice from a DataFrame.\n",
      "Try using .loc[row_indexer,col_indexer] = value instead\n",
      "\n",
      "See the caveats in the documentation: https://pandas.pydata.org/pandas-docs/stable/user_guide/indexing.html#returning-a-view-versus-a-copy\n",
      "  imart['GDS_NM'] = imart['GDS_NM'].str.replace(\" \", \"\")\n"
     ]
    }
   ],
   "source": [
    "imart['GDS_NM'] = imart['GDS_NM'].str.replace(\" \", \"\")"
   ]
  },
  {
   "cell_type": "code",
   "execution_count": 120,
   "id": "596e8156",
   "metadata": {},
   "outputs": [
    {
     "name": "stderr",
     "output_type": "stream",
     "text": [
      "C:\\Users\\min\\AppData\\Local\\Temp\\ipykernel_9524\\1606438950.py:1: SettingWithCopyWarning: \n",
      "A value is trying to be set on a copy of a slice from a DataFrame.\n",
      "Try using .loc[row_indexer,col_indexer] = value instead\n",
      "\n",
      "See the caveats in the documentation: https://pandas.pydata.org/pandas-docs/stable/user_guide/indexing.html#returning-a-view-versus-a-copy\n",
      "  jmart['GDS_NM'] = jmart['GDS_NM'].str.replace(\" \", \"\")\n"
     ]
    }
   ],
   "source": [
    "jmart['GDS_NM'] = jmart['GDS_NM'].str.replace(\" \", \"\")"
   ]
  },
  {
   "cell_type": "code",
   "execution_count": 121,
   "id": "d09a3cf6",
   "metadata": {},
   "outputs": [
    {
     "name": "stderr",
     "output_type": "stream",
     "text": [
      "C:\\Users\\min\\AppData\\Local\\Temp\\ipykernel_9524\\2673986475.py:1: SettingWithCopyWarning: \n",
      "A value is trying to be set on a copy of a slice from a DataFrame.\n",
      "Try using .loc[row_indexer,col_indexer] = value instead\n",
      "\n",
      "See the caveats in the documentation: https://pandas.pydata.org/pandas-docs/stable/user_guide/indexing.html#returning-a-view-versus-a-copy\n",
      "  kmart['GDS_NM'] = kmart['GDS_NM'].str.replace(\" \", \"\")\n"
     ]
    }
   ],
   "source": [
    "kmart['GDS_NM'] = kmart['GDS_NM'].str.replace(\" \", \"\")"
   ]
  },
  {
   "cell_type": "code",
   "execution_count": 122,
   "id": "c06a3aa7",
   "metadata": {},
   "outputs": [
    {
     "name": "stderr",
     "output_type": "stream",
     "text": [
      "C:\\Users\\min\\AppData\\Local\\Temp\\ipykernel_9524\\1733575829.py:1: SettingWithCopyWarning: \n",
      "A value is trying to be set on a copy of a slice from a DataFrame.\n",
      "Try using .loc[row_indexer,col_indexer] = value instead\n",
      "\n",
      "See the caveats in the documentation: https://pandas.pydata.org/pandas-docs/stable/user_guide/indexing.html#returning-a-view-versus-a-copy\n",
      "  lmart['GDS_NM'] = lmart['GDS_NM'].str.replace(\" \", \"\")\n"
     ]
    }
   ],
   "source": [
    "lmart['GDS_NM'] = lmart['GDS_NM'].str.replace(\" \", \"\")"
   ]
  },
  {
   "cell_type": "code",
   "execution_count": 123,
   "id": "e7e87ef9",
   "metadata": {},
   "outputs": [
    {
     "name": "stderr",
     "output_type": "stream",
     "text": [
      "C:\\Users\\min\\AppData\\Local\\Temp\\ipykernel_9524\\3665015404.py:1: SettingWithCopyWarning: \n",
      "A value is trying to be set on a copy of a slice from a DataFrame.\n",
      "Try using .loc[row_indexer,col_indexer] = value instead\n",
      "\n",
      "See the caveats in the documentation: https://pandas.pydata.org/pandas-docs/stable/user_guide/indexing.html#returning-a-view-versus-a-copy\n",
      "  mmart['GDS_NM'] = mmart['GDS_NM'].str.replace(\" \", \"\")\n"
     ]
    }
   ],
   "source": [
    "mmart['GDS_NM'] = mmart['GDS_NM'].str.replace(\" \", \"\")"
   ]
  },
  {
   "cell_type": "code",
   "execution_count": 124,
   "id": "3b1630a6",
   "metadata": {},
   "outputs": [
    {
     "name": "stderr",
     "output_type": "stream",
     "text": [
      "C:\\Users\\min\\AppData\\Local\\Temp\\ipykernel_9524\\4150920302.py:1: SettingWithCopyWarning: \n",
      "A value is trying to be set on a copy of a slice from a DataFrame.\n",
      "Try using .loc[row_indexer,col_indexer] = value instead\n",
      "\n",
      "See the caveats in the documentation: https://pandas.pydata.org/pandas-docs/stable/user_guide/indexing.html#returning-a-view-versus-a-copy\n",
      "  nmart['GDS_NM'] = nmart['GDS_NM'].str.replace(\" \", \"\")\n"
     ]
    }
   ],
   "source": [
    "nmart['GDS_NM'] = nmart['GDS_NM'].str.replace(\" \", \"\")"
   ]
  },
  {
   "cell_type": "code",
   "execution_count": 125,
   "id": "677d0767",
   "metadata": {},
   "outputs": [
    {
     "name": "stderr",
     "output_type": "stream",
     "text": [
      "C:\\Users\\min\\AppData\\Local\\Temp\\ipykernel_9524\\2738949209.py:1: SettingWithCopyWarning: \n",
      "A value is trying to be set on a copy of a slice from a DataFrame.\n",
      "Try using .loc[row_indexer,col_indexer] = value instead\n",
      "\n",
      "See the caveats in the documentation: https://pandas.pydata.org/pandas-docs/stable/user_guide/indexing.html#returning-a-view-versus-a-copy\n",
      "  omart['GDS_NM'] = omart['GDS_NM'].str.replace(\" \", \"\")\n"
     ]
    }
   ],
   "source": [
    "omart['GDS_NM'] = omart['GDS_NM'].str.replace(\" \", \"\")"
   ]
  },
  {
   "cell_type": "code",
   "execution_count": 126,
   "id": "493ab997",
   "metadata": {},
   "outputs": [
    {
     "name": "stderr",
     "output_type": "stream",
     "text": [
      "C:\\Users\\min\\AppData\\Local\\Temp\\ipykernel_9524\\2756536337.py:1: SettingWithCopyWarning: \n",
      "A value is trying to be set on a copy of a slice from a DataFrame.\n",
      "Try using .loc[row_indexer,col_indexer] = value instead\n",
      "\n",
      "See the caveats in the documentation: https://pandas.pydata.org/pandas-docs/stable/user_guide/indexing.html#returning-a-view-versus-a-copy\n",
      "  pmart['GDS_NM'] = pmart['GDS_NM'].str.replace(\" \", \"\")\n"
     ]
    }
   ],
   "source": [
    "pmart['GDS_NM'] = pmart['GDS_NM'].str.replace(\" \", \"\")"
   ]
  },
  {
   "cell_type": "code",
   "execution_count": null,
   "id": "51bce6bc",
   "metadata": {},
   "outputs": [],
   "source": []
  },
  {
   "cell_type": "code",
   "execution_count": 127,
   "id": "4e750c93",
   "metadata": {},
   "outputs": [
    {
     "name": "stderr",
     "output_type": "stream",
     "text": [
      "C:\\Users\\min\\AppData\\Local\\Temp\\ipykernel_9524\\3885113769.py:1: SettingWithCopyWarning: \n",
      "A value is trying to be set on a copy of a slice from a DataFrame.\n",
      "Try using .loc[row_indexer,col_indexer] = value instead\n",
      "\n",
      "See the caveats in the documentation: https://pandas.pydata.org/pandas-docs/stable/user_guide/indexing.html#returning-a-view-versus-a-copy\n",
      "  amart.SAL_DT = amart.SAL_DT.astype('str')\n"
     ]
    }
   ],
   "source": [
    "amart.SAL_DT = amart.SAL_DT.astype('str')"
   ]
  },
  {
   "cell_type": "code",
   "execution_count": 128,
   "id": "f071adb0",
   "metadata": {},
   "outputs": [
    {
     "name": "stderr",
     "output_type": "stream",
     "text": [
      "C:\\Users\\min\\AppData\\Local\\Temp\\ipykernel_9524\\541442207.py:1: SettingWithCopyWarning: \n",
      "A value is trying to be set on a copy of a slice from a DataFrame.\n",
      "Try using .loc[row_indexer,col_indexer] = value instead\n",
      "\n",
      "See the caveats in the documentation: https://pandas.pydata.org/pandas-docs/stable/user_guide/indexing.html#returning-a-view-versus-a-copy\n",
      "  bmart.SAL_DT = bmart.SAL_DT.astype('str')\n"
     ]
    }
   ],
   "source": [
    "bmart.SAL_DT = bmart.SAL_DT.astype('str')"
   ]
  },
  {
   "cell_type": "code",
   "execution_count": 129,
   "id": "002e1282",
   "metadata": {},
   "outputs": [
    {
     "name": "stderr",
     "output_type": "stream",
     "text": [
      "C:\\Users\\min\\AppData\\Local\\Temp\\ipykernel_9524\\3526472396.py:1: SettingWithCopyWarning: \n",
      "A value is trying to be set on a copy of a slice from a DataFrame.\n",
      "Try using .loc[row_indexer,col_indexer] = value instead\n",
      "\n",
      "See the caveats in the documentation: https://pandas.pydata.org/pandas-docs/stable/user_guide/indexing.html#returning-a-view-versus-a-copy\n",
      "  cmart.SAL_DT = cmart.SAL_DT.astype('str')\n"
     ]
    }
   ],
   "source": [
    "cmart.SAL_DT = cmart.SAL_DT.astype('str')"
   ]
  },
  {
   "cell_type": "code",
   "execution_count": 130,
   "id": "67043848",
   "metadata": {},
   "outputs": [
    {
     "name": "stderr",
     "output_type": "stream",
     "text": [
      "C:\\Users\\min\\AppData\\Local\\Temp\\ipykernel_9524\\875531337.py:1: SettingWithCopyWarning: \n",
      "A value is trying to be set on a copy of a slice from a DataFrame.\n",
      "Try using .loc[row_indexer,col_indexer] = value instead\n",
      "\n",
      "See the caveats in the documentation: https://pandas.pydata.org/pandas-docs/stable/user_guide/indexing.html#returning-a-view-versus-a-copy\n",
      "  dmart.SAL_DT = dmart.SAL_DT.astype('str')\n"
     ]
    }
   ],
   "source": [
    "dmart.SAL_DT = dmart.SAL_DT.astype('str')"
   ]
  },
  {
   "cell_type": "code",
   "execution_count": 131,
   "id": "3908a87f",
   "metadata": {},
   "outputs": [
    {
     "name": "stderr",
     "output_type": "stream",
     "text": [
      "C:\\Users\\min\\AppData\\Local\\Temp\\ipykernel_9524\\1215666788.py:1: SettingWithCopyWarning: \n",
      "A value is trying to be set on a copy of a slice from a DataFrame.\n",
      "Try using .loc[row_indexer,col_indexer] = value instead\n",
      "\n",
      "See the caveats in the documentation: https://pandas.pydata.org/pandas-docs/stable/user_guide/indexing.html#returning-a-view-versus-a-copy\n",
      "  emart.SAL_DT = emart.SAL_DT.astype('str')\n"
     ]
    }
   ],
   "source": [
    "emart.SAL_DT = emart.SAL_DT.astype('str')"
   ]
  },
  {
   "cell_type": "code",
   "execution_count": 132,
   "id": "90ae4d37",
   "metadata": {},
   "outputs": [
    {
     "name": "stderr",
     "output_type": "stream",
     "text": [
      "C:\\Users\\min\\AppData\\Local\\Temp\\ipykernel_9524\\1354189477.py:1: SettingWithCopyWarning: \n",
      "A value is trying to be set on a copy of a slice from a DataFrame.\n",
      "Try using .loc[row_indexer,col_indexer] = value instead\n",
      "\n",
      "See the caveats in the documentation: https://pandas.pydata.org/pandas-docs/stable/user_guide/indexing.html#returning-a-view-versus-a-copy\n",
      "  fmart.SAL_DT = fmart.SAL_DT.astype('str')\n"
     ]
    }
   ],
   "source": [
    "fmart.SAL_DT = fmart.SAL_DT.astype('str')"
   ]
  },
  {
   "cell_type": "code",
   "execution_count": 133,
   "id": "a721b430",
   "metadata": {},
   "outputs": [
    {
     "name": "stderr",
     "output_type": "stream",
     "text": [
      "C:\\Users\\min\\AppData\\Local\\Temp\\ipykernel_9524\\1167887507.py:1: SettingWithCopyWarning: \n",
      "A value is trying to be set on a copy of a slice from a DataFrame.\n",
      "Try using .loc[row_indexer,col_indexer] = value instead\n",
      "\n",
      "See the caveats in the documentation: https://pandas.pydata.org/pandas-docs/stable/user_guide/indexing.html#returning-a-view-versus-a-copy\n",
      "  gmart.SAL_DT = gmart.SAL_DT.astype('str')\n"
     ]
    }
   ],
   "source": [
    "gmart.SAL_DT = gmart.SAL_DT.astype('str')"
   ]
  },
  {
   "cell_type": "code",
   "execution_count": 134,
   "id": "54892da3",
   "metadata": {},
   "outputs": [
    {
     "name": "stderr",
     "output_type": "stream",
     "text": [
      "C:\\Users\\min\\AppData\\Local\\Temp\\ipykernel_9524\\2879231419.py:1: SettingWithCopyWarning: \n",
      "A value is trying to be set on a copy of a slice from a DataFrame.\n",
      "Try using .loc[row_indexer,col_indexer] = value instead\n",
      "\n",
      "See the caveats in the documentation: https://pandas.pydata.org/pandas-docs/stable/user_guide/indexing.html#returning-a-view-versus-a-copy\n",
      "  hmart.SAL_DT = hmart.SAL_DT.astype('str')\n"
     ]
    }
   ],
   "source": [
    "hmart.SAL_DT = hmart.SAL_DT.astype('str')"
   ]
  },
  {
   "cell_type": "code",
   "execution_count": 135,
   "id": "e0d09d80",
   "metadata": {},
   "outputs": [
    {
     "name": "stderr",
     "output_type": "stream",
     "text": [
      "C:\\Users\\min\\AppData\\Local\\Temp\\ipykernel_9524\\2678851469.py:1: SettingWithCopyWarning: \n",
      "A value is trying to be set on a copy of a slice from a DataFrame.\n",
      "Try using .loc[row_indexer,col_indexer] = value instead\n",
      "\n",
      "See the caveats in the documentation: https://pandas.pydata.org/pandas-docs/stable/user_guide/indexing.html#returning-a-view-versus-a-copy\n",
      "  imart.SAL_DT = imart.SAL_DT.astype('str')\n"
     ]
    }
   ],
   "source": [
    "imart.SAL_DT = imart.SAL_DT.astype('str')"
   ]
  },
  {
   "cell_type": "code",
   "execution_count": 136,
   "id": "518c782d",
   "metadata": {},
   "outputs": [
    {
     "name": "stderr",
     "output_type": "stream",
     "text": [
      "C:\\Users\\min\\AppData\\Local\\Temp\\ipykernel_9524\\3060416483.py:1: SettingWithCopyWarning: \n",
      "A value is trying to be set on a copy of a slice from a DataFrame.\n",
      "Try using .loc[row_indexer,col_indexer] = value instead\n",
      "\n",
      "See the caveats in the documentation: https://pandas.pydata.org/pandas-docs/stable/user_guide/indexing.html#returning-a-view-versus-a-copy\n",
      "  jmart.SAL_DT = jmart.SAL_DT.astype('str')\n"
     ]
    }
   ],
   "source": [
    "jmart.SAL_DT = jmart.SAL_DT.astype('str')"
   ]
  },
  {
   "cell_type": "code",
   "execution_count": 137,
   "id": "e57230ab",
   "metadata": {},
   "outputs": [
    {
     "name": "stderr",
     "output_type": "stream",
     "text": [
      "C:\\Users\\min\\AppData\\Local\\Temp\\ipykernel_9524\\88322625.py:1: SettingWithCopyWarning: \n",
      "A value is trying to be set on a copy of a slice from a DataFrame.\n",
      "Try using .loc[row_indexer,col_indexer] = value instead\n",
      "\n",
      "See the caveats in the documentation: https://pandas.pydata.org/pandas-docs/stable/user_guide/indexing.html#returning-a-view-versus-a-copy\n",
      "  kmart.SAL_DT = kmart.SAL_DT.astype('str')\n"
     ]
    }
   ],
   "source": [
    "kmart.SAL_DT = kmart.SAL_DT.astype('str')"
   ]
  },
  {
   "cell_type": "code",
   "execution_count": 138,
   "id": "7bc9ff86",
   "metadata": {},
   "outputs": [
    {
     "name": "stderr",
     "output_type": "stream",
     "text": [
      "C:\\Users\\min\\AppData\\Local\\Temp\\ipykernel_9524\\3732800839.py:1: SettingWithCopyWarning: \n",
      "A value is trying to be set on a copy of a slice from a DataFrame.\n",
      "Try using .loc[row_indexer,col_indexer] = value instead\n",
      "\n",
      "See the caveats in the documentation: https://pandas.pydata.org/pandas-docs/stable/user_guide/indexing.html#returning-a-view-versus-a-copy\n",
      "  lmart.SAL_DT = lmart.SAL_DT.astype('str')\n"
     ]
    }
   ],
   "source": [
    "lmart.SAL_DT = lmart.SAL_DT.astype('str')"
   ]
  },
  {
   "cell_type": "code",
   "execution_count": 139,
   "id": "cc43abf2",
   "metadata": {},
   "outputs": [
    {
     "name": "stderr",
     "output_type": "stream",
     "text": [
      "C:\\Users\\min\\AppData\\Local\\Temp\\ipykernel_9524\\2172443133.py:1: SettingWithCopyWarning: \n",
      "A value is trying to be set on a copy of a slice from a DataFrame.\n",
      "Try using .loc[row_indexer,col_indexer] = value instead\n",
      "\n",
      "See the caveats in the documentation: https://pandas.pydata.org/pandas-docs/stable/user_guide/indexing.html#returning-a-view-versus-a-copy\n",
      "  mmart.SAL_DT = mmart.SAL_DT.astype('str')\n"
     ]
    }
   ],
   "source": [
    "mmart.SAL_DT = mmart.SAL_DT.astype('str')"
   ]
  },
  {
   "cell_type": "code",
   "execution_count": 140,
   "id": "4b4492a4",
   "metadata": {},
   "outputs": [
    {
     "name": "stderr",
     "output_type": "stream",
     "text": [
      "C:\\Users\\min\\AppData\\Local\\Temp\\ipykernel_9524\\3605430748.py:1: SettingWithCopyWarning: \n",
      "A value is trying to be set on a copy of a slice from a DataFrame.\n",
      "Try using .loc[row_indexer,col_indexer] = value instead\n",
      "\n",
      "See the caveats in the documentation: https://pandas.pydata.org/pandas-docs/stable/user_guide/indexing.html#returning-a-view-versus-a-copy\n",
      "  nmart.SAL_DT = nmart.SAL_DT.astype('str')\n"
     ]
    }
   ],
   "source": [
    "nmart.SAL_DT = nmart.SAL_DT.astype('str')"
   ]
  },
  {
   "cell_type": "code",
   "execution_count": 141,
   "id": "816829fd",
   "metadata": {},
   "outputs": [
    {
     "name": "stderr",
     "output_type": "stream",
     "text": [
      "C:\\Users\\min\\AppData\\Local\\Temp\\ipykernel_9524\\883868284.py:1: SettingWithCopyWarning: \n",
      "A value is trying to be set on a copy of a slice from a DataFrame.\n",
      "Try using .loc[row_indexer,col_indexer] = value instead\n",
      "\n",
      "See the caveats in the documentation: https://pandas.pydata.org/pandas-docs/stable/user_guide/indexing.html#returning-a-view-versus-a-copy\n",
      "  omart.SAL_DT = omart.SAL_DT.astype('str')\n"
     ]
    }
   ],
   "source": [
    "omart.SAL_DT = omart.SAL_DT.astype('str')"
   ]
  },
  {
   "cell_type": "code",
   "execution_count": 142,
   "id": "bef1a6e1",
   "metadata": {},
   "outputs": [
    {
     "name": "stderr",
     "output_type": "stream",
     "text": [
      "C:\\Users\\min\\AppData\\Local\\Temp\\ipykernel_9524\\1585685688.py:1: SettingWithCopyWarning: \n",
      "A value is trying to be set on a copy of a slice from a DataFrame.\n",
      "Try using .loc[row_indexer,col_indexer] = value instead\n",
      "\n",
      "See the caveats in the documentation: https://pandas.pydata.org/pandas-docs/stable/user_guide/indexing.html#returning-a-view-versus-a-copy\n",
      "  pmart.SAL_DT = pmart.SAL_DT.astype('str')\n"
     ]
    }
   ],
   "source": [
    "pmart.SAL_DT = pmart.SAL_DT.astype('str')"
   ]
  },
  {
   "cell_type": "code",
   "execution_count": null,
   "id": "f762607f",
   "metadata": {},
   "outputs": [],
   "source": []
  },
  {
   "cell_type": "code",
   "execution_count": 143,
   "id": "07684bc3",
   "metadata": {},
   "outputs": [
    {
     "name": "stderr",
     "output_type": "stream",
     "text": [
      "C:\\Users\\min\\AppData\\Local\\Temp\\ipykernel_9524\\1784010760.py:1: SettingWithCopyWarning: \n",
      "A value is trying to be set on a copy of a slice from a DataFrame.\n",
      "Try using .loc[row_indexer,col_indexer] = value instead\n",
      "\n",
      "See the caveats in the documentation: https://pandas.pydata.org/pandas-docs/stable/user_guide/indexing.html#returning-a-view-versus-a-copy\n",
      "  amart.SAL_DT = pd.to_datetime(amart.SAL_DT)\n"
     ]
    }
   ],
   "source": [
    "amart.SAL_DT = pd.to_datetime(amart.SAL_DT)"
   ]
  },
  {
   "cell_type": "code",
   "execution_count": 144,
   "id": "68b19b7d",
   "metadata": {},
   "outputs": [
    {
     "name": "stderr",
     "output_type": "stream",
     "text": [
      "C:\\Users\\min\\AppData\\Local\\Temp\\ipykernel_9524\\3983763719.py:1: SettingWithCopyWarning: \n",
      "A value is trying to be set on a copy of a slice from a DataFrame.\n",
      "Try using .loc[row_indexer,col_indexer] = value instead\n",
      "\n",
      "See the caveats in the documentation: https://pandas.pydata.org/pandas-docs/stable/user_guide/indexing.html#returning-a-view-versus-a-copy\n",
      "  bmart.SAL_DT = pd.to_datetime(bmart.SAL_DT)\n"
     ]
    }
   ],
   "source": [
    "bmart.SAL_DT = pd.to_datetime(bmart.SAL_DT)"
   ]
  },
  {
   "cell_type": "code",
   "execution_count": 145,
   "id": "c1da4b8b",
   "metadata": {},
   "outputs": [
    {
     "name": "stderr",
     "output_type": "stream",
     "text": [
      "C:\\Users\\min\\AppData\\Local\\Temp\\ipykernel_9524\\3455951339.py:1: SettingWithCopyWarning: \n",
      "A value is trying to be set on a copy of a slice from a DataFrame.\n",
      "Try using .loc[row_indexer,col_indexer] = value instead\n",
      "\n",
      "See the caveats in the documentation: https://pandas.pydata.org/pandas-docs/stable/user_guide/indexing.html#returning-a-view-versus-a-copy\n",
      "  cmart.SAL_DT = pd.to_datetime(cmart.SAL_DT)\n"
     ]
    }
   ],
   "source": [
    "cmart.SAL_DT = pd.to_datetime(cmart.SAL_DT)"
   ]
  },
  {
   "cell_type": "code",
   "execution_count": 146,
   "id": "bd9d9869",
   "metadata": {},
   "outputs": [
    {
     "name": "stderr",
     "output_type": "stream",
     "text": [
      "C:\\Users\\min\\AppData\\Local\\Temp\\ipykernel_9524\\485657126.py:1: SettingWithCopyWarning: \n",
      "A value is trying to be set on a copy of a slice from a DataFrame.\n",
      "Try using .loc[row_indexer,col_indexer] = value instead\n",
      "\n",
      "See the caveats in the documentation: https://pandas.pydata.org/pandas-docs/stable/user_guide/indexing.html#returning-a-view-versus-a-copy\n",
      "  dmart.SAL_DT = pd.to_datetime(dmart.SAL_DT)\n"
     ]
    }
   ],
   "source": [
    "dmart.SAL_DT = pd.to_datetime(dmart.SAL_DT)"
   ]
  },
  {
   "cell_type": "code",
   "execution_count": 147,
   "id": "12e024bd",
   "metadata": {},
   "outputs": [
    {
     "name": "stderr",
     "output_type": "stream",
     "text": [
      "C:\\Users\\min\\AppData\\Local\\Temp\\ipykernel_9524\\1680685300.py:1: SettingWithCopyWarning: \n",
      "A value is trying to be set on a copy of a slice from a DataFrame.\n",
      "Try using .loc[row_indexer,col_indexer] = value instead\n",
      "\n",
      "See the caveats in the documentation: https://pandas.pydata.org/pandas-docs/stable/user_guide/indexing.html#returning-a-view-versus-a-copy\n",
      "  emart.SAL_DT = pd.to_datetime(emart.SAL_DT)\n"
     ]
    }
   ],
   "source": [
    "emart.SAL_DT = pd.to_datetime(emart.SAL_DT)"
   ]
  },
  {
   "cell_type": "code",
   "execution_count": 148,
   "id": "59f855a2",
   "metadata": {},
   "outputs": [
    {
     "name": "stderr",
     "output_type": "stream",
     "text": [
      "C:\\Users\\min\\AppData\\Local\\Temp\\ipykernel_9524\\500507328.py:1: SettingWithCopyWarning: \n",
      "A value is trying to be set on a copy of a slice from a DataFrame.\n",
      "Try using .loc[row_indexer,col_indexer] = value instead\n",
      "\n",
      "See the caveats in the documentation: https://pandas.pydata.org/pandas-docs/stable/user_guide/indexing.html#returning-a-view-versus-a-copy\n",
      "  fmart.SAL_DT = pd.to_datetime(fmart.SAL_DT)\n"
     ]
    }
   ],
   "source": [
    "fmart.SAL_DT = pd.to_datetime(fmart.SAL_DT)"
   ]
  },
  {
   "cell_type": "code",
   "execution_count": 149,
   "id": "432c77ca",
   "metadata": {},
   "outputs": [
    {
     "name": "stderr",
     "output_type": "stream",
     "text": [
      "C:\\Users\\min\\AppData\\Local\\Temp\\ipykernel_9524\\712517569.py:1: SettingWithCopyWarning: \n",
      "A value is trying to be set on a copy of a slice from a DataFrame.\n",
      "Try using .loc[row_indexer,col_indexer] = value instead\n",
      "\n",
      "See the caveats in the documentation: https://pandas.pydata.org/pandas-docs/stable/user_guide/indexing.html#returning-a-view-versus-a-copy\n",
      "  gmart.SAL_DT = pd.to_datetime(gmart.SAL_DT)\n"
     ]
    }
   ],
   "source": [
    "gmart.SAL_DT = pd.to_datetime(gmart.SAL_DT)"
   ]
  },
  {
   "cell_type": "code",
   "execution_count": 150,
   "id": "e73afd6b",
   "metadata": {},
   "outputs": [
    {
     "name": "stderr",
     "output_type": "stream",
     "text": [
      "C:\\Users\\min\\AppData\\Local\\Temp\\ipykernel_9524\\3072089181.py:1: SettingWithCopyWarning: \n",
      "A value is trying to be set on a copy of a slice from a DataFrame.\n",
      "Try using .loc[row_indexer,col_indexer] = value instead\n",
      "\n",
      "See the caveats in the documentation: https://pandas.pydata.org/pandas-docs/stable/user_guide/indexing.html#returning-a-view-versus-a-copy\n",
      "  hmart.SAL_DT = pd.to_datetime(hmart.SAL_DT)\n"
     ]
    }
   ],
   "source": [
    "hmart.SAL_DT = pd.to_datetime(hmart.SAL_DT)"
   ]
  },
  {
   "cell_type": "code",
   "execution_count": 151,
   "id": "e8bf5433",
   "metadata": {},
   "outputs": [
    {
     "name": "stderr",
     "output_type": "stream",
     "text": [
      "C:\\Users\\min\\AppData\\Local\\Temp\\ipykernel_9524\\3736661976.py:1: SettingWithCopyWarning: \n",
      "A value is trying to be set on a copy of a slice from a DataFrame.\n",
      "Try using .loc[row_indexer,col_indexer] = value instead\n",
      "\n",
      "See the caveats in the documentation: https://pandas.pydata.org/pandas-docs/stable/user_guide/indexing.html#returning-a-view-versus-a-copy\n",
      "  imart.SAL_DT = pd.to_datetime(imart.SAL_DT)\n"
     ]
    }
   ],
   "source": [
    "imart.SAL_DT = pd.to_datetime(imart.SAL_DT)"
   ]
  },
  {
   "cell_type": "code",
   "execution_count": 152,
   "id": "997b8c82",
   "metadata": {},
   "outputs": [
    {
     "name": "stderr",
     "output_type": "stream",
     "text": [
      "C:\\Users\\min\\AppData\\Local\\Temp\\ipykernel_9524\\1734783969.py:1: SettingWithCopyWarning: \n",
      "A value is trying to be set on a copy of a slice from a DataFrame.\n",
      "Try using .loc[row_indexer,col_indexer] = value instead\n",
      "\n",
      "See the caveats in the documentation: https://pandas.pydata.org/pandas-docs/stable/user_guide/indexing.html#returning-a-view-versus-a-copy\n",
      "  jmart.SAL_DT = pd.to_datetime(jmart.SAL_DT)\n"
     ]
    }
   ],
   "source": [
    "jmart.SAL_DT = pd.to_datetime(jmart.SAL_DT)"
   ]
  },
  {
   "cell_type": "code",
   "execution_count": 153,
   "id": "1d528bb6",
   "metadata": {},
   "outputs": [
    {
     "name": "stderr",
     "output_type": "stream",
     "text": [
      "C:\\Users\\min\\AppData\\Local\\Temp\\ipykernel_9524\\65332544.py:1: SettingWithCopyWarning: \n",
      "A value is trying to be set on a copy of a slice from a DataFrame.\n",
      "Try using .loc[row_indexer,col_indexer] = value instead\n",
      "\n",
      "See the caveats in the documentation: https://pandas.pydata.org/pandas-docs/stable/user_guide/indexing.html#returning-a-view-versus-a-copy\n",
      "  kmart.SAL_DT = pd.to_datetime(kmart.SAL_DT)\n"
     ]
    }
   ],
   "source": [
    "kmart.SAL_DT = pd.to_datetime(kmart.SAL_DT)"
   ]
  },
  {
   "cell_type": "code",
   "execution_count": 154,
   "id": "58b5d69f",
   "metadata": {},
   "outputs": [
    {
     "name": "stderr",
     "output_type": "stream",
     "text": [
      "C:\\Users\\min\\AppData\\Local\\Temp\\ipykernel_9524\\1506432488.py:1: SettingWithCopyWarning: \n",
      "A value is trying to be set on a copy of a slice from a DataFrame.\n",
      "Try using .loc[row_indexer,col_indexer] = value instead\n",
      "\n",
      "See the caveats in the documentation: https://pandas.pydata.org/pandas-docs/stable/user_guide/indexing.html#returning-a-view-versus-a-copy\n",
      "  lmart.SAL_DT = pd.to_datetime(lmart.SAL_DT)\n"
     ]
    }
   ],
   "source": [
    "lmart.SAL_DT = pd.to_datetime(lmart.SAL_DT)"
   ]
  },
  {
   "cell_type": "code",
   "execution_count": 155,
   "id": "4b587673",
   "metadata": {},
   "outputs": [
    {
     "name": "stderr",
     "output_type": "stream",
     "text": [
      "C:\\Users\\min\\AppData\\Local\\Temp\\ipykernel_9524\\1487978536.py:1: SettingWithCopyWarning: \n",
      "A value is trying to be set on a copy of a slice from a DataFrame.\n",
      "Try using .loc[row_indexer,col_indexer] = value instead\n",
      "\n",
      "See the caveats in the documentation: https://pandas.pydata.org/pandas-docs/stable/user_guide/indexing.html#returning-a-view-versus-a-copy\n",
      "  mmart.SAL_DT = pd.to_datetime(mmart.SAL_DT)\n"
     ]
    }
   ],
   "source": [
    "mmart.SAL_DT = pd.to_datetime(mmart.SAL_DT)"
   ]
  },
  {
   "cell_type": "code",
   "execution_count": 156,
   "id": "5f0a1764",
   "metadata": {},
   "outputs": [
    {
     "name": "stderr",
     "output_type": "stream",
     "text": [
      "C:\\Users\\min\\AppData\\Local\\Temp\\ipykernel_9524\\3132125264.py:1: SettingWithCopyWarning: \n",
      "A value is trying to be set on a copy of a slice from a DataFrame.\n",
      "Try using .loc[row_indexer,col_indexer] = value instead\n",
      "\n",
      "See the caveats in the documentation: https://pandas.pydata.org/pandas-docs/stable/user_guide/indexing.html#returning-a-view-versus-a-copy\n",
      "  nmart.SAL_DT = pd.to_datetime(nmart.SAL_DT)\n"
     ]
    }
   ],
   "source": [
    "nmart.SAL_DT = pd.to_datetime(nmart.SAL_DT)"
   ]
  },
  {
   "cell_type": "code",
   "execution_count": 157,
   "id": "01b02a66",
   "metadata": {},
   "outputs": [
    {
     "name": "stderr",
     "output_type": "stream",
     "text": [
      "C:\\Users\\min\\AppData\\Local\\Temp\\ipykernel_9524\\1803310467.py:1: SettingWithCopyWarning: \n",
      "A value is trying to be set on a copy of a slice from a DataFrame.\n",
      "Try using .loc[row_indexer,col_indexer] = value instead\n",
      "\n",
      "See the caveats in the documentation: https://pandas.pydata.org/pandas-docs/stable/user_guide/indexing.html#returning-a-view-versus-a-copy\n",
      "  omart.SAL_DT = pd.to_datetime(omart.SAL_DT)\n"
     ]
    }
   ],
   "source": [
    "omart.SAL_DT = pd.to_datetime(omart.SAL_DT)"
   ]
  },
  {
   "cell_type": "code",
   "execution_count": 158,
   "id": "4bf200cb",
   "metadata": {},
   "outputs": [
    {
     "name": "stderr",
     "output_type": "stream",
     "text": [
      "C:\\Users\\min\\AppData\\Local\\Temp\\ipykernel_9524\\3433981694.py:1: SettingWithCopyWarning: \n",
      "A value is trying to be set on a copy of a slice from a DataFrame.\n",
      "Try using .loc[row_indexer,col_indexer] = value instead\n",
      "\n",
      "See the caveats in the documentation: https://pandas.pydata.org/pandas-docs/stable/user_guide/indexing.html#returning-a-view-versus-a-copy\n",
      "  pmart.SAL_DT = pd.to_datetime(pmart.SAL_DT)\n"
     ]
    }
   ],
   "source": [
    "pmart.SAL_DT = pd.to_datetime(pmart.SAL_DT)"
   ]
  },
  {
   "cell_type": "code",
   "execution_count": null,
   "id": "fe5eb993",
   "metadata": {},
   "outputs": [],
   "source": []
  },
  {
   "cell_type": "code",
   "execution_count": 159,
   "id": "0a984b32",
   "metadata": {},
   "outputs": [
    {
     "name": "stderr",
     "output_type": "stream",
     "text": [
      "C:\\Users\\min\\AppData\\Local\\Temp\\ipykernel_9524\\2025590438.py:1: SettingWithCopyWarning: \n",
      "A value is trying to be set on a copy of a slice from a DataFrame.\n",
      "Try using .loc[row_indexer,col_indexer] = value instead\n",
      "\n",
      "See the caveats in the documentation: https://pandas.pydata.org/pandas-docs/stable/user_guide/indexing.html#returning-a-view-versus-a-copy\n",
      "  amart['month'] = pd.to_datetime(amart['SAL_DT'], format='%Y-%m-%d').dt.month\n"
     ]
    }
   ],
   "source": [
    "amart['month'] = pd.to_datetime(amart['SAL_DT'], format='%Y-%m-%d').dt.month"
   ]
  },
  {
   "cell_type": "code",
   "execution_count": 160,
   "id": "8ee49c0b",
   "metadata": {},
   "outputs": [
    {
     "name": "stderr",
     "output_type": "stream",
     "text": [
      "C:\\Users\\min\\AppData\\Local\\Temp\\ipykernel_9524\\3328334886.py:1: SettingWithCopyWarning: \n",
      "A value is trying to be set on a copy of a slice from a DataFrame.\n",
      "Try using .loc[row_indexer,col_indexer] = value instead\n",
      "\n",
      "See the caveats in the documentation: https://pandas.pydata.org/pandas-docs/stable/user_guide/indexing.html#returning-a-view-versus-a-copy\n",
      "  bmart['month'] = pd.to_datetime(bmart['SAL_DT'], format='%Y-%m-%d').dt.month\n"
     ]
    }
   ],
   "source": [
    "bmart['month'] = pd.to_datetime(bmart['SAL_DT'], format='%Y-%m-%d').dt.month"
   ]
  },
  {
   "cell_type": "code",
   "execution_count": 161,
   "id": "4e228822",
   "metadata": {},
   "outputs": [
    {
     "name": "stderr",
     "output_type": "stream",
     "text": [
      "C:\\Users\\min\\AppData\\Local\\Temp\\ipykernel_9524\\2110777485.py:1: SettingWithCopyWarning: \n",
      "A value is trying to be set on a copy of a slice from a DataFrame.\n",
      "Try using .loc[row_indexer,col_indexer] = value instead\n",
      "\n",
      "See the caveats in the documentation: https://pandas.pydata.org/pandas-docs/stable/user_guide/indexing.html#returning-a-view-versus-a-copy\n",
      "  cmart['month'] = pd.to_datetime(cmart['SAL_DT'], format='%Y-%m-%d').dt.month\n"
     ]
    }
   ],
   "source": [
    "cmart['month'] = pd.to_datetime(cmart['SAL_DT'], format='%Y-%m-%d').dt.month"
   ]
  },
  {
   "cell_type": "code",
   "execution_count": 162,
   "id": "ba46c299",
   "metadata": {},
   "outputs": [
    {
     "name": "stderr",
     "output_type": "stream",
     "text": [
      "C:\\Users\\min\\AppData\\Local\\Temp\\ipykernel_9524\\4096419698.py:1: SettingWithCopyWarning: \n",
      "A value is trying to be set on a copy of a slice from a DataFrame.\n",
      "Try using .loc[row_indexer,col_indexer] = value instead\n",
      "\n",
      "See the caveats in the documentation: https://pandas.pydata.org/pandas-docs/stable/user_guide/indexing.html#returning-a-view-versus-a-copy\n",
      "  dmart['month'] = pd.to_datetime(dmart['SAL_DT'], format='%Y-%m-%d').dt.month\n"
     ]
    }
   ],
   "source": [
    "dmart['month'] = pd.to_datetime(dmart['SAL_DT'], format='%Y-%m-%d').dt.month"
   ]
  },
  {
   "cell_type": "code",
   "execution_count": 163,
   "id": "90e37b8a",
   "metadata": {},
   "outputs": [
    {
     "name": "stderr",
     "output_type": "stream",
     "text": [
      "C:\\Users\\min\\AppData\\Local\\Temp\\ipykernel_9524\\1220644162.py:1: SettingWithCopyWarning: \n",
      "A value is trying to be set on a copy of a slice from a DataFrame.\n",
      "Try using .loc[row_indexer,col_indexer] = value instead\n",
      "\n",
      "See the caveats in the documentation: https://pandas.pydata.org/pandas-docs/stable/user_guide/indexing.html#returning-a-view-versus-a-copy\n",
      "  emart['month'] = pd.to_datetime(emart['SAL_DT'], format='%Y-%m-%d').dt.month\n"
     ]
    }
   ],
   "source": [
    "emart['month'] = pd.to_datetime(emart['SAL_DT'], format='%Y-%m-%d').dt.month"
   ]
  },
  {
   "cell_type": "code",
   "execution_count": 164,
   "id": "e37b653d",
   "metadata": {},
   "outputs": [
    {
     "name": "stderr",
     "output_type": "stream",
     "text": [
      "C:\\Users\\min\\AppData\\Local\\Temp\\ipykernel_9524\\736592498.py:1: SettingWithCopyWarning: \n",
      "A value is trying to be set on a copy of a slice from a DataFrame.\n",
      "Try using .loc[row_indexer,col_indexer] = value instead\n",
      "\n",
      "See the caveats in the documentation: https://pandas.pydata.org/pandas-docs/stable/user_guide/indexing.html#returning-a-view-versus-a-copy\n",
      "  fmart['month'] = pd.to_datetime(fmart['SAL_DT'], format='%Y-%m-%d').dt.month\n"
     ]
    }
   ],
   "source": [
    "fmart['month'] = pd.to_datetime(fmart['SAL_DT'], format='%Y-%m-%d').dt.month"
   ]
  },
  {
   "cell_type": "code",
   "execution_count": 165,
   "id": "405238c8",
   "metadata": {},
   "outputs": [
    {
     "name": "stderr",
     "output_type": "stream",
     "text": [
      "C:\\Users\\min\\AppData\\Local\\Temp\\ipykernel_9524\\1874643876.py:1: SettingWithCopyWarning: \n",
      "A value is trying to be set on a copy of a slice from a DataFrame.\n",
      "Try using .loc[row_indexer,col_indexer] = value instead\n",
      "\n",
      "See the caveats in the documentation: https://pandas.pydata.org/pandas-docs/stable/user_guide/indexing.html#returning-a-view-versus-a-copy\n",
      "  gmart['month'] = pd.to_datetime(gmart['SAL_DT'], format='%Y-%m-%d').dt.month\n"
     ]
    }
   ],
   "source": [
    "gmart['month'] = pd.to_datetime(gmart['SAL_DT'], format='%Y-%m-%d').dt.month"
   ]
  },
  {
   "cell_type": "code",
   "execution_count": 166,
   "id": "57d5d60b",
   "metadata": {},
   "outputs": [
    {
     "name": "stderr",
     "output_type": "stream",
     "text": [
      "C:\\Users\\min\\AppData\\Local\\Temp\\ipykernel_9524\\2455289896.py:1: SettingWithCopyWarning: \n",
      "A value is trying to be set on a copy of a slice from a DataFrame.\n",
      "Try using .loc[row_indexer,col_indexer] = value instead\n",
      "\n",
      "See the caveats in the documentation: https://pandas.pydata.org/pandas-docs/stable/user_guide/indexing.html#returning-a-view-versus-a-copy\n",
      "  hmart['month'] = pd.to_datetime(hmart['SAL_DT'], format='%Y-%m-%d').dt.month\n"
     ]
    }
   ],
   "source": [
    "hmart['month'] = pd.to_datetime(hmart['SAL_DT'], format='%Y-%m-%d').dt.month"
   ]
  },
  {
   "cell_type": "code",
   "execution_count": 167,
   "id": "c0f5f300",
   "metadata": {},
   "outputs": [
    {
     "name": "stderr",
     "output_type": "stream",
     "text": [
      "C:\\Users\\min\\AppData\\Local\\Temp\\ipykernel_9524\\3145127230.py:1: SettingWithCopyWarning: \n",
      "A value is trying to be set on a copy of a slice from a DataFrame.\n",
      "Try using .loc[row_indexer,col_indexer] = value instead\n",
      "\n",
      "See the caveats in the documentation: https://pandas.pydata.org/pandas-docs/stable/user_guide/indexing.html#returning-a-view-versus-a-copy\n",
      "  imart['month'] = pd.to_datetime(imart['SAL_DT'], format='%Y-%m-%d').dt.month\n"
     ]
    }
   ],
   "source": [
    "imart['month'] = pd.to_datetime(imart['SAL_DT'], format='%Y-%m-%d').dt.month"
   ]
  },
  {
   "cell_type": "code",
   "execution_count": 168,
   "id": "09bfe03a",
   "metadata": {},
   "outputs": [
    {
     "name": "stderr",
     "output_type": "stream",
     "text": [
      "C:\\Users\\min\\AppData\\Local\\Temp\\ipykernel_9524\\2044907286.py:1: SettingWithCopyWarning: \n",
      "A value is trying to be set on a copy of a slice from a DataFrame.\n",
      "Try using .loc[row_indexer,col_indexer] = value instead\n",
      "\n",
      "See the caveats in the documentation: https://pandas.pydata.org/pandas-docs/stable/user_guide/indexing.html#returning-a-view-versus-a-copy\n",
      "  jmart['month'] = pd.to_datetime(jmart['SAL_DT'], format='%Y-%m-%d').dt.month\n"
     ]
    }
   ],
   "source": [
    "jmart['month'] = pd.to_datetime(jmart['SAL_DT'], format='%Y-%m-%d').dt.month"
   ]
  },
  {
   "cell_type": "code",
   "execution_count": 169,
   "id": "1e5742bc",
   "metadata": {},
   "outputs": [
    {
     "name": "stderr",
     "output_type": "stream",
     "text": [
      "C:\\Users\\min\\AppData\\Local\\Temp\\ipykernel_9524\\1274027984.py:1: SettingWithCopyWarning: \n",
      "A value is trying to be set on a copy of a slice from a DataFrame.\n",
      "Try using .loc[row_indexer,col_indexer] = value instead\n",
      "\n",
      "See the caveats in the documentation: https://pandas.pydata.org/pandas-docs/stable/user_guide/indexing.html#returning-a-view-versus-a-copy\n",
      "  kmart['month'] = pd.to_datetime(kmart['SAL_DT'], format='%Y-%m-%d').dt.month\n"
     ]
    }
   ],
   "source": [
    "kmart['month'] = pd.to_datetime(kmart['SAL_DT'], format='%Y-%m-%d').dt.month"
   ]
  },
  {
   "cell_type": "code",
   "execution_count": 170,
   "id": "49170fc7",
   "metadata": {},
   "outputs": [
    {
     "name": "stderr",
     "output_type": "stream",
     "text": [
      "C:\\Users\\min\\AppData\\Local\\Temp\\ipykernel_9524\\4200043038.py:1: SettingWithCopyWarning: \n",
      "A value is trying to be set on a copy of a slice from a DataFrame.\n",
      "Try using .loc[row_indexer,col_indexer] = value instead\n",
      "\n",
      "See the caveats in the documentation: https://pandas.pydata.org/pandas-docs/stable/user_guide/indexing.html#returning-a-view-versus-a-copy\n",
      "  lmart['month'] = pd.to_datetime(lmart['SAL_DT'], format='%Y-%m-%d').dt.month\n"
     ]
    }
   ],
   "source": [
    "lmart['month'] = pd.to_datetime(lmart['SAL_DT'], format='%Y-%m-%d').dt.month"
   ]
  },
  {
   "cell_type": "code",
   "execution_count": 171,
   "id": "7bf96e95",
   "metadata": {},
   "outputs": [
    {
     "name": "stderr",
     "output_type": "stream",
     "text": [
      "C:\\Users\\min\\AppData\\Local\\Temp\\ipykernel_9524\\3956520575.py:1: SettingWithCopyWarning: \n",
      "A value is trying to be set on a copy of a slice from a DataFrame.\n",
      "Try using .loc[row_indexer,col_indexer] = value instead\n",
      "\n",
      "See the caveats in the documentation: https://pandas.pydata.org/pandas-docs/stable/user_guide/indexing.html#returning-a-view-versus-a-copy\n",
      "  mmart['month'] = pd.to_datetime(mmart['SAL_DT'], format='%Y-%m-%d').dt.month\n"
     ]
    }
   ],
   "source": [
    "mmart['month'] = pd.to_datetime(mmart['SAL_DT'], format='%Y-%m-%d').dt.month"
   ]
  },
  {
   "cell_type": "code",
   "execution_count": 172,
   "id": "e6f775da",
   "metadata": {},
   "outputs": [
    {
     "name": "stderr",
     "output_type": "stream",
     "text": [
      "C:\\Users\\min\\AppData\\Local\\Temp\\ipykernel_9524\\1240301850.py:1: SettingWithCopyWarning: \n",
      "A value is trying to be set on a copy of a slice from a DataFrame.\n",
      "Try using .loc[row_indexer,col_indexer] = value instead\n",
      "\n",
      "See the caveats in the documentation: https://pandas.pydata.org/pandas-docs/stable/user_guide/indexing.html#returning-a-view-versus-a-copy\n",
      "  nmart['month'] = pd.to_datetime(nmart['SAL_DT'], format='%Y-%m-%d').dt.month\n"
     ]
    }
   ],
   "source": [
    "nmart['month'] = pd.to_datetime(nmart['SAL_DT'], format='%Y-%m-%d').dt.month"
   ]
  },
  {
   "cell_type": "code",
   "execution_count": 173,
   "id": "a62727fd",
   "metadata": {},
   "outputs": [
    {
     "name": "stderr",
     "output_type": "stream",
     "text": [
      "C:\\Users\\min\\AppData\\Local\\Temp\\ipykernel_9524\\2184616335.py:1: SettingWithCopyWarning: \n",
      "A value is trying to be set on a copy of a slice from a DataFrame.\n",
      "Try using .loc[row_indexer,col_indexer] = value instead\n",
      "\n",
      "See the caveats in the documentation: https://pandas.pydata.org/pandas-docs/stable/user_guide/indexing.html#returning-a-view-versus-a-copy\n",
      "  omart['month'] = pd.to_datetime(omart['SAL_DT'], format='%Y-%m-%d').dt.month\n"
     ]
    }
   ],
   "source": [
    "omart['month'] = pd.to_datetime(omart['SAL_DT'], format='%Y-%m-%d').dt.month"
   ]
  },
  {
   "cell_type": "code",
   "execution_count": 174,
   "id": "90ee48ec",
   "metadata": {},
   "outputs": [
    {
     "name": "stderr",
     "output_type": "stream",
     "text": [
      "C:\\Users\\min\\AppData\\Local\\Temp\\ipykernel_9524\\3649016473.py:1: SettingWithCopyWarning: \n",
      "A value is trying to be set on a copy of a slice from a DataFrame.\n",
      "Try using .loc[row_indexer,col_indexer] = value instead\n",
      "\n",
      "See the caveats in the documentation: https://pandas.pydata.org/pandas-docs/stable/user_guide/indexing.html#returning-a-view-versus-a-copy\n",
      "  pmart['month'] = pd.to_datetime(pmart['SAL_DT'], format='%Y-%m-%d').dt.month\n"
     ]
    }
   ],
   "source": [
    "pmart['month'] = pd.to_datetime(pmart['SAL_DT'], format='%Y-%m-%d').dt.month"
   ]
  },
  {
   "cell_type": "code",
   "execution_count": null,
   "id": "20fbef09",
   "metadata": {},
   "outputs": [],
   "source": []
  },
  {
   "cell_type": "code",
   "execution_count": 175,
   "id": "43ac871c",
   "metadata": {},
   "outputs": [
    {
     "name": "stderr",
     "output_type": "stream",
     "text": [
      "C:\\Users\\min\\AppData\\Local\\Temp\\ipykernel_9524\\3020237179.py:1: SettingWithCopyWarning: \n",
      "A value is trying to be set on a copy of a slice from a DataFrame.\n",
      "Try using .loc[row_indexer,col_indexer] = value instead\n",
      "\n",
      "See the caveats in the documentation: https://pandas.pydata.org/pandas-docs/stable/user_guide/indexing.html#returning-a-view-versus-a-copy\n",
      "  amart['weekday'] = pd.to_datetime(amart['SAL_DT'], format='%Y-%m-%d').dt.weekday\n"
     ]
    }
   ],
   "source": [
    "amart['weekday'] = pd.to_datetime(amart['SAL_DT'], format='%Y-%m-%d').dt.weekday"
   ]
  },
  {
   "cell_type": "code",
   "execution_count": 176,
   "id": "7f63c455",
   "metadata": {},
   "outputs": [
    {
     "name": "stderr",
     "output_type": "stream",
     "text": [
      "C:\\Users\\min\\AppData\\Local\\Temp\\ipykernel_9524\\478316344.py:1: SettingWithCopyWarning: \n",
      "A value is trying to be set on a copy of a slice from a DataFrame.\n",
      "Try using .loc[row_indexer,col_indexer] = value instead\n",
      "\n",
      "See the caveats in the documentation: https://pandas.pydata.org/pandas-docs/stable/user_guide/indexing.html#returning-a-view-versus-a-copy\n",
      "  bmart['weekday'] = pd.to_datetime(bmart['SAL_DT'], format='%Y-%m-%d').dt.weekday\n"
     ]
    }
   ],
   "source": [
    "bmart['weekday'] = pd.to_datetime(bmart['SAL_DT'], format='%Y-%m-%d').dt.weekday"
   ]
  },
  {
   "cell_type": "code",
   "execution_count": 177,
   "id": "7bee56d7",
   "metadata": {},
   "outputs": [
    {
     "name": "stderr",
     "output_type": "stream",
     "text": [
      "C:\\Users\\min\\AppData\\Local\\Temp\\ipykernel_9524\\847381220.py:1: SettingWithCopyWarning: \n",
      "A value is trying to be set on a copy of a slice from a DataFrame.\n",
      "Try using .loc[row_indexer,col_indexer] = value instead\n",
      "\n",
      "See the caveats in the documentation: https://pandas.pydata.org/pandas-docs/stable/user_guide/indexing.html#returning-a-view-versus-a-copy\n",
      "  cmart['weekday'] = pd.to_datetime(cmart['SAL_DT'], format='%Y-%m-%d').dt.weekday\n"
     ]
    }
   ],
   "source": [
    "cmart['weekday'] = pd.to_datetime(cmart['SAL_DT'], format='%Y-%m-%d').dt.weekday"
   ]
  },
  {
   "cell_type": "code",
   "execution_count": 178,
   "id": "64e723cd",
   "metadata": {},
   "outputs": [
    {
     "name": "stderr",
     "output_type": "stream",
     "text": [
      "C:\\Users\\min\\AppData\\Local\\Temp\\ipykernel_9524\\2781789200.py:1: SettingWithCopyWarning: \n",
      "A value is trying to be set on a copy of a slice from a DataFrame.\n",
      "Try using .loc[row_indexer,col_indexer] = value instead\n",
      "\n",
      "See the caveats in the documentation: https://pandas.pydata.org/pandas-docs/stable/user_guide/indexing.html#returning-a-view-versus-a-copy\n",
      "  dmart['weekday'] = pd.to_datetime(dmart['SAL_DT'], format='%Y-%m-%d').dt.weekday\n"
     ]
    }
   ],
   "source": [
    "dmart['weekday'] = pd.to_datetime(dmart['SAL_DT'], format='%Y-%m-%d').dt.weekday"
   ]
  },
  {
   "cell_type": "code",
   "execution_count": 179,
   "id": "f00c1f67",
   "metadata": {},
   "outputs": [
    {
     "name": "stderr",
     "output_type": "stream",
     "text": [
      "C:\\Users\\min\\AppData\\Local\\Temp\\ipykernel_9524\\1984918213.py:1: SettingWithCopyWarning: \n",
      "A value is trying to be set on a copy of a slice from a DataFrame.\n",
      "Try using .loc[row_indexer,col_indexer] = value instead\n",
      "\n",
      "See the caveats in the documentation: https://pandas.pydata.org/pandas-docs/stable/user_guide/indexing.html#returning-a-view-versus-a-copy\n",
      "  emart['weekday'] = pd.to_datetime(emart['SAL_DT'], format='%Y-%m-%d').dt.weekday\n"
     ]
    }
   ],
   "source": [
    "emart['weekday'] = pd.to_datetime(emart['SAL_DT'], format='%Y-%m-%d').dt.weekday"
   ]
  },
  {
   "cell_type": "code",
   "execution_count": 180,
   "id": "a16690ed",
   "metadata": {},
   "outputs": [
    {
     "name": "stderr",
     "output_type": "stream",
     "text": [
      "C:\\Users\\min\\AppData\\Local\\Temp\\ipykernel_9524\\2064961.py:1: SettingWithCopyWarning: \n",
      "A value is trying to be set on a copy of a slice from a DataFrame.\n",
      "Try using .loc[row_indexer,col_indexer] = value instead\n",
      "\n",
      "See the caveats in the documentation: https://pandas.pydata.org/pandas-docs/stable/user_guide/indexing.html#returning-a-view-versus-a-copy\n",
      "  fmart['weekday'] = pd.to_datetime(fmart['SAL_DT'], format='%Y-%m-%d').dt.weekday\n"
     ]
    }
   ],
   "source": [
    "fmart['weekday'] = pd.to_datetime(fmart['SAL_DT'], format='%Y-%m-%d').dt.weekday"
   ]
  },
  {
   "cell_type": "code",
   "execution_count": 181,
   "id": "eb4fe694",
   "metadata": {},
   "outputs": [
    {
     "name": "stderr",
     "output_type": "stream",
     "text": [
      "C:\\Users\\min\\AppData\\Local\\Temp\\ipykernel_9524\\4159107666.py:1: SettingWithCopyWarning: \n",
      "A value is trying to be set on a copy of a slice from a DataFrame.\n",
      "Try using .loc[row_indexer,col_indexer] = value instead\n",
      "\n",
      "See the caveats in the documentation: https://pandas.pydata.org/pandas-docs/stable/user_guide/indexing.html#returning-a-view-versus-a-copy\n",
      "  gmart['weekday'] = pd.to_datetime(gmart['SAL_DT'], format='%Y-%m-%d').dt.weekday\n"
     ]
    }
   ],
   "source": [
    "gmart['weekday'] = pd.to_datetime(gmart['SAL_DT'], format='%Y-%m-%d').dt.weekday"
   ]
  },
  {
   "cell_type": "code",
   "execution_count": 182,
   "id": "c359ef91",
   "metadata": {},
   "outputs": [
    {
     "name": "stderr",
     "output_type": "stream",
     "text": [
      "C:\\Users\\min\\AppData\\Local\\Temp\\ipykernel_9524\\2287362740.py:1: SettingWithCopyWarning: \n",
      "A value is trying to be set on a copy of a slice from a DataFrame.\n",
      "Try using .loc[row_indexer,col_indexer] = value instead\n",
      "\n",
      "See the caveats in the documentation: https://pandas.pydata.org/pandas-docs/stable/user_guide/indexing.html#returning-a-view-versus-a-copy\n",
      "  hmart['weekday'] = pd.to_datetime(hmart['SAL_DT'], format='%Y-%m-%d').dt.weekday\n"
     ]
    }
   ],
   "source": [
    "hmart['weekday'] = pd.to_datetime(hmart['SAL_DT'], format='%Y-%m-%d').dt.weekday"
   ]
  },
  {
   "cell_type": "code",
   "execution_count": 183,
   "id": "06ba6436",
   "metadata": {},
   "outputs": [
    {
     "name": "stderr",
     "output_type": "stream",
     "text": [
      "C:\\Users\\min\\AppData\\Local\\Temp\\ipykernel_9524\\985016813.py:1: SettingWithCopyWarning: \n",
      "A value is trying to be set on a copy of a slice from a DataFrame.\n",
      "Try using .loc[row_indexer,col_indexer] = value instead\n",
      "\n",
      "See the caveats in the documentation: https://pandas.pydata.org/pandas-docs/stable/user_guide/indexing.html#returning-a-view-versus-a-copy\n",
      "  imart['weekday'] = pd.to_datetime(imart['SAL_DT'], format='%Y-%m-%d').dt.weekday\n"
     ]
    }
   ],
   "source": [
    "imart['weekday'] = pd.to_datetime(imart['SAL_DT'], format='%Y-%m-%d').dt.weekday"
   ]
  },
  {
   "cell_type": "code",
   "execution_count": 184,
   "id": "8ba00e0d",
   "metadata": {},
   "outputs": [
    {
     "name": "stderr",
     "output_type": "stream",
     "text": [
      "C:\\Users\\min\\AppData\\Local\\Temp\\ipykernel_9524\\2429900486.py:1: SettingWithCopyWarning: \n",
      "A value is trying to be set on a copy of a slice from a DataFrame.\n",
      "Try using .loc[row_indexer,col_indexer] = value instead\n",
      "\n",
      "See the caveats in the documentation: https://pandas.pydata.org/pandas-docs/stable/user_guide/indexing.html#returning-a-view-versus-a-copy\n",
      "  jmart['weekday'] = pd.to_datetime(jmart['SAL_DT'], format='%Y-%m-%d').dt.weekday\n"
     ]
    }
   ],
   "source": [
    "jmart['weekday'] = pd.to_datetime(jmart['SAL_DT'], format='%Y-%m-%d').dt.weekday"
   ]
  },
  {
   "cell_type": "code",
   "execution_count": 185,
   "id": "19e74651",
   "metadata": {},
   "outputs": [
    {
     "name": "stderr",
     "output_type": "stream",
     "text": [
      "C:\\Users\\min\\AppData\\Local\\Temp\\ipykernel_9524\\772370192.py:1: SettingWithCopyWarning: \n",
      "A value is trying to be set on a copy of a slice from a DataFrame.\n",
      "Try using .loc[row_indexer,col_indexer] = value instead\n",
      "\n",
      "See the caveats in the documentation: https://pandas.pydata.org/pandas-docs/stable/user_guide/indexing.html#returning-a-view-versus-a-copy\n",
      "  kmart['weekday'] = pd.to_datetime(kmart['SAL_DT'], format='%Y-%m-%d').dt.weekday\n"
     ]
    }
   ],
   "source": [
    "kmart['weekday'] = pd.to_datetime(kmart['SAL_DT'], format='%Y-%m-%d').dt.weekday"
   ]
  },
  {
   "cell_type": "code",
   "execution_count": 186,
   "id": "c92f0326",
   "metadata": {},
   "outputs": [
    {
     "name": "stderr",
     "output_type": "stream",
     "text": [
      "C:\\Users\\min\\AppData\\Local\\Temp\\ipykernel_9524\\791075370.py:1: SettingWithCopyWarning: \n",
      "A value is trying to be set on a copy of a slice from a DataFrame.\n",
      "Try using .loc[row_indexer,col_indexer] = value instead\n",
      "\n",
      "See the caveats in the documentation: https://pandas.pydata.org/pandas-docs/stable/user_guide/indexing.html#returning-a-view-versus-a-copy\n",
      "  lmart['weekday'] = pd.to_datetime(lmart['SAL_DT'], format='%Y-%m-%d').dt.weekday\n"
     ]
    }
   ],
   "source": [
    "lmart['weekday'] = pd.to_datetime(lmart['SAL_DT'], format='%Y-%m-%d').dt.weekday"
   ]
  },
  {
   "cell_type": "code",
   "execution_count": 187,
   "id": "12668981",
   "metadata": {},
   "outputs": [
    {
     "name": "stderr",
     "output_type": "stream",
     "text": [
      "C:\\Users\\min\\AppData\\Local\\Temp\\ipykernel_9524\\2037007962.py:1: SettingWithCopyWarning: \n",
      "A value is trying to be set on a copy of a slice from a DataFrame.\n",
      "Try using .loc[row_indexer,col_indexer] = value instead\n",
      "\n",
      "See the caveats in the documentation: https://pandas.pydata.org/pandas-docs/stable/user_guide/indexing.html#returning-a-view-versus-a-copy\n",
      "  mmart['weekday'] = pd.to_datetime(mmart['SAL_DT'], format='%Y-%m-%d').dt.weekday\n"
     ]
    }
   ],
   "source": [
    "mmart['weekday'] = pd.to_datetime(mmart['SAL_DT'], format='%Y-%m-%d').dt.weekday"
   ]
  },
  {
   "cell_type": "code",
   "execution_count": 188,
   "id": "265cb81a",
   "metadata": {},
   "outputs": [
    {
     "name": "stderr",
     "output_type": "stream",
     "text": [
      "C:\\Users\\min\\AppData\\Local\\Temp\\ipykernel_9524\\3468277183.py:1: SettingWithCopyWarning: \n",
      "A value is trying to be set on a copy of a slice from a DataFrame.\n",
      "Try using .loc[row_indexer,col_indexer] = value instead\n",
      "\n",
      "See the caveats in the documentation: https://pandas.pydata.org/pandas-docs/stable/user_guide/indexing.html#returning-a-view-versus-a-copy\n",
      "  nmart['weekday'] = pd.to_datetime(nmart['SAL_DT'], format='%Y-%m-%d').dt.weekday\n"
     ]
    }
   ],
   "source": [
    "nmart['weekday'] = pd.to_datetime(nmart['SAL_DT'], format='%Y-%m-%d').dt.weekday"
   ]
  },
  {
   "cell_type": "code",
   "execution_count": 189,
   "id": "18b97409",
   "metadata": {},
   "outputs": [
    {
     "name": "stderr",
     "output_type": "stream",
     "text": [
      "C:\\Users\\min\\AppData\\Local\\Temp\\ipykernel_9524\\1028278294.py:1: SettingWithCopyWarning: \n",
      "A value is trying to be set on a copy of a slice from a DataFrame.\n",
      "Try using .loc[row_indexer,col_indexer] = value instead\n",
      "\n",
      "See the caveats in the documentation: https://pandas.pydata.org/pandas-docs/stable/user_guide/indexing.html#returning-a-view-versus-a-copy\n",
      "  omart['weekday'] = pd.to_datetime(omart['SAL_DT'], format='%Y-%m-%d').dt.weekday\n"
     ]
    }
   ],
   "source": [
    "omart['weekday'] = pd.to_datetime(omart['SAL_DT'], format='%Y-%m-%d').dt.weekday"
   ]
  },
  {
   "cell_type": "code",
   "execution_count": 190,
   "id": "92ef0c28",
   "metadata": {},
   "outputs": [
    {
     "name": "stderr",
     "output_type": "stream",
     "text": [
      "C:\\Users\\min\\AppData\\Local\\Temp\\ipykernel_9524\\1179641236.py:1: SettingWithCopyWarning: \n",
      "A value is trying to be set on a copy of a slice from a DataFrame.\n",
      "Try using .loc[row_indexer,col_indexer] = value instead\n",
      "\n",
      "See the caveats in the documentation: https://pandas.pydata.org/pandas-docs/stable/user_guide/indexing.html#returning-a-view-versus-a-copy\n",
      "  pmart['weekday'] = pd.to_datetime(pmart['SAL_DT'], format='%Y-%m-%d').dt.weekday\n"
     ]
    }
   ],
   "source": [
    "pmart['weekday'] = pd.to_datetime(pmart['SAL_DT'], format='%Y-%m-%d').dt.weekday"
   ]
  },
  {
   "cell_type": "code",
   "execution_count": null,
   "id": "180bb16a",
   "metadata": {},
   "outputs": [],
   "source": []
  },
  {
   "cell_type": "markdown",
   "id": "11ed1c52",
   "metadata": {},
   "source": [
    "## AMT(판매액) 0 이랑 아웃라이어는 제거하지않은 파일들."
   ]
  },
  {
   "cell_type": "code",
   "execution_count": 191,
   "id": "70c7abbd",
   "metadata": {},
   "outputs": [],
   "source": [
    "amart.to_csv('amart.csv', index=False)"
   ]
  },
  {
   "cell_type": "code",
   "execution_count": 192,
   "id": "5f7dd2f8",
   "metadata": {},
   "outputs": [],
   "source": [
    "bmart.to_csv('bmart.csv', index=False)"
   ]
  },
  {
   "cell_type": "code",
   "execution_count": 193,
   "id": "d06abe4e",
   "metadata": {},
   "outputs": [],
   "source": [
    "cmart.to_csv('cmart.csv', index=False)"
   ]
  },
  {
   "cell_type": "code",
   "execution_count": 194,
   "id": "c79691a1",
   "metadata": {},
   "outputs": [],
   "source": [
    "dmart.to_csv('dmart.csv', index=False)"
   ]
  },
  {
   "cell_type": "code",
   "execution_count": 195,
   "id": "d98e0167",
   "metadata": {},
   "outputs": [],
   "source": [
    "emart.to_csv('emart.csv', index=False)"
   ]
  },
  {
   "cell_type": "code",
   "execution_count": 196,
   "id": "5799444f",
   "metadata": {},
   "outputs": [],
   "source": [
    "fmart.to_csv('fmart.csv', index=False)"
   ]
  },
  {
   "cell_type": "code",
   "execution_count": 197,
   "id": "8c36ead9",
   "metadata": {},
   "outputs": [],
   "source": [
    "gmart.to_csv('gmart.csv', index=False)"
   ]
  },
  {
   "cell_type": "code",
   "execution_count": 198,
   "id": "51c95b3e",
   "metadata": {},
   "outputs": [],
   "source": [
    "hmart.to_csv('hmart.csv', index=False)"
   ]
  },
  {
   "cell_type": "code",
   "execution_count": 199,
   "id": "36337edf",
   "metadata": {},
   "outputs": [],
   "source": [
    "imart.to_csv('imart.csv', index=False)"
   ]
  },
  {
   "cell_type": "code",
   "execution_count": 200,
   "id": "0337ea0f",
   "metadata": {},
   "outputs": [],
   "source": [
    "jmart.to_csv('jmart.csv', index=False)"
   ]
  },
  {
   "cell_type": "code",
   "execution_count": 201,
   "id": "9e21b93d",
   "metadata": {},
   "outputs": [],
   "source": [
    "kmart.to_csv('kmart.csv', index=False)"
   ]
  },
  {
   "cell_type": "code",
   "execution_count": 202,
   "id": "b238ff0c",
   "metadata": {},
   "outputs": [],
   "source": [
    "lmart.to_csv('lmart.csv', index=False)"
   ]
  },
  {
   "cell_type": "code",
   "execution_count": 203,
   "id": "634d80ee",
   "metadata": {},
   "outputs": [],
   "source": [
    "mmart.to_csv('mmart.csv', index=False)"
   ]
  },
  {
   "cell_type": "code",
   "execution_count": 204,
   "id": "4964b400",
   "metadata": {},
   "outputs": [],
   "source": [
    "nmart.to_csv('nmart.csv', index=False)"
   ]
  },
  {
   "cell_type": "code",
   "execution_count": 205,
   "id": "5ec07e79",
   "metadata": {},
   "outputs": [],
   "source": [
    "omart.to_csv('omart.csv', index=False)"
   ]
  },
  {
   "cell_type": "code",
   "execution_count": 206,
   "id": "1972e0f1",
   "metadata": {},
   "outputs": [],
   "source": [
    "pmart.to_csv('pmart.csv', index=False)"
   ]
  },
  {
   "cell_type": "code",
   "execution_count": null,
   "id": "1cd20825",
   "metadata": {},
   "outputs": [],
   "source": []
  }
 ],
 "metadata": {
  "kernelspec": {
   "display_name": "Python 3 (ipykernel)",
   "language": "python",
   "name": "python3"
  },
  "language_info": {
   "codemirror_mode": {
    "name": "ipython",
    "version": 3
   },
   "file_extension": ".py",
   "mimetype": "text/x-python",
   "name": "python",
   "nbconvert_exporter": "python",
   "pygments_lexer": "ipython3",
   "version": "3.8.5"
  }
 },
 "nbformat": 4,
 "nbformat_minor": 5
}
